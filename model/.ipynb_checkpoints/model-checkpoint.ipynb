{
 "cells": [
  {
   "cell_type": "markdown",
   "metadata": {},
   "source": [
    "# Zomato Restaurant Ratings( Flask and Streamlit)\n"
   ]
  },
  {
   "cell_type": "markdown",
   "metadata": {},
   "source": [
    "### Import Libraries"
   ]
  },
  {
   "cell_type": "markdown",
   "metadata": {},
   "source": [
    "#### Importing libraries using pyforest(all in one)"
   ]
  },
  {
   "cell_type": "code",
   "execution_count": 1,
   "metadata": {
    "scrolled": true
   },
   "outputs": [
    {
     "name": "stdout",
     "output_type": "stream",
     "text": [
      "Requirement already satisfied: pyforest in d:\\download\\anaconda3\\lib\\site-packages (1.0.3)\n"
     ]
    }
   ],
   "source": [
    "!pip install pyforest"
   ]
  },
  {
   "cell_type": "code",
   "execution_count": 2,
   "metadata": {
    "scrolled": true
   },
   "outputs": [
    {
     "data": {
      "text/plain": [
       "['import gensim',\n",
       " 'import xgboost as xgb',\n",
       " 'import nltk',\n",
       " 'import sys',\n",
       " 'import spacy',\n",
       " 'from pathlib import Path',\n",
       " 'import plotly.graph_objs as go',\n",
       " 'from sklearn.ensemble import GradientBoostingRegressor',\n",
       " 'import lightgbm as lgb',\n",
       " 'import pandas as pd',\n",
       " 'from sklearn.feature_extraction.text import TfidfVectorizer',\n",
       " 'from sklearn.model_selection import train_test_split',\n",
       " 'import pickle',\n",
       " 'import matplotlib.pyplot as plt',\n",
       " 'import pydot',\n",
       " 'from openpyxl import load_workbook',\n",
       " 'import plotly as py',\n",
       " 'import altair as alt',\n",
       " 'import glob',\n",
       " 'from dask import dataframe as dd',\n",
       " 'import os',\n",
       " 'from sklearn.ensemble import GradientBoostingClassifier',\n",
       " 'import statistics',\n",
       " 'import awswrangler as wr',\n",
       " 'import sklearn',\n",
       " 'import matplotlib as mpl',\n",
       " 'from pyspark import SparkContext',\n",
       " 'import bokeh',\n",
       " 'import keras',\n",
       " 'from sklearn.ensemble import RandomForestClassifier',\n",
       " 'import dash',\n",
       " 'import tqdm',\n",
       " 'import tensorflow as tf',\n",
       " 'from sklearn.preprocessing import OneHotEncoder',\n",
       " 'import datetime as dt',\n",
       " 'from sklearn import svm',\n",
       " 'import seaborn as sns',\n",
       " 'import plotly.express as px',\n",
       " 'import re',\n",
       " 'from sklearn.manifold import TSNE',\n",
       " 'import numpy as np',\n",
       " 'from sklearn.ensemble import RandomForestRegressor']"
      ]
     },
     "execution_count": 2,
     "metadata": {},
     "output_type": "execute_result"
    }
   ],
   "source": [
    "from pyforest import *\n",
    "lazy_imports()"
   ]
  },
  {
   "cell_type": "code",
   "execution_count": 3,
   "metadata": {},
   "outputs": [],
   "source": [
    "import pandas as pd\n",
    "import numpy as np\n",
    "import matplotlib.pyplot as plt\n",
    "import plotly.graph_objs as go\n",
    "import plotly.offline as py\n",
    "import seaborn as sns\n",
    "\n",
    "import matplotlib.ticker as mtick\n",
    "plt.style.use('fivethirtyeight')\n",
    "from sklearn.linear_model import LogisticRegression\n",
    "from sklearn.linear_model import LinearRegression\n",
    "from sklearn.ensemble import  ExtraTreesRegressor\n",
    "from sklearn.model_selection import train_test_split\n",
    "\n",
    "import warnings\n",
    "warnings.filterwarnings('ignore')\n",
    "%matplotlib inline"
   ]
  },
  {
   "cell_type": "markdown",
   "metadata": {},
   "source": [
    "### Load Dataset"
   ]
  },
  {
   "cell_type": "code",
   "execution_count": 4,
   "metadata": {},
   "outputs": [],
   "source": [
    "data = pd.read_csv('zomato.csv')\n"
   ]
  },
  {
   "cell_type": "code",
   "execution_count": 5,
   "metadata": {},
   "outputs": [
    {
     "data": {
      "text/plain": [
       "[]                                                                                                                                                                                                                                                                                                                                                                                                                                                                                                                                                                                                                                                                                                                                                                                                                                                                                                                                                                                                                                                                                                                                                                                                                                                                                                                                                                                                                                                                                                                                                                                                                                                                                                                                                                                                                                                                                                                                                                                                                                                                                                                                                                                                                                                                                                                                                                                                                                                                                                                                                                                                                                                                                                                                                                                                                                                                                                                                                                                                                                                                                                                                                                                                                                                                                                                                                                                                                                                                                                                                                                                                                                     39617\n",
       "['Butter Chicken Pizza', 'Bombay Veggie Burger', 'Tawa Paneer Burger', 'Oh So Cheesy Burger', 'Barbecue Chicken Burger', 'Peri Peri Chicken Burger', 'BBQ Lamb', 'Cheesy Chicken', 'Crunchy Ferrero', 'Lots of Nuts', 'Kadhai Paneer Pizza', 'Chilli Paneer and Mushroom Pizza', 'Chipotle Veggie Pizza', 'Creamy Cheese Pizza', 'Southern Veggie Korma Pizza', 'Popeye, The Corny Man Pizza', 'Paneer Tikka Pizza', 'Desi Margherita Pizza', 'Roasted Paneer with Mustard Pizza', 'Bangalore Express Pizza', 'Italian Chaska Pizza', 'Mayo and Cheese Pizza', 'Classic Margherita', 'Cajun Hawaiian Pizza', 'Butter Chicken Pizza', 'Lasooni Bhuna Murg Pizza', 'Chilly Chicken Pizza', 'Hot Garlic Chicken Pizza', 'Murg Barbecue Pizza', 'Mediterranean Mutton Keema Pizza', 'Super Green Burger', 'Quinoa Black Bean Burger', 'Bombay Veggie Burger', 'Tawa Paneer Burger', 'Oh So Cheesy Burger', 'Barbecue Chicken Burger', 'Chipotle Lamb Burger', 'Crumb Fried Fish Burger', 'Peri Peri Chicken Burger', 'BBQ Lamb', 'Cheesy Chicken', 'Picnic Chicken Burger', 'Korean Grilled Chicken with Kimchi', 'Kiddy Kat Strawberry', 'Kiddy Kat Chocolate', 'Bubblegum', 'Oreo Shake', 'Caramel Shake', 'Chocolate Shake', 'Strawberry Shake', 'Vanilla Shake', 'Cold Coffee', 'Virgin Mojito', 'Iced Tea', 'Hot Chocolate', 'Cappuccino', 'Latte', 'Espresso Shot', 'Brownie Shake', 'Red Velvet Cheesecake Shake', 'Oreo Cheesecake Shake', 'Salted Caramel Popcorn', 'Coconut Crumble', 'Coffee Crunch', 'Bira', 'Thanda Paan', 'Sticky Toffee Pudding', 'Blueberry Cheesecake', 'Nutella Cheesecake', 'Caramel Custard with Strawberry or Figs', 'Red Velvet Cheesecake', 'Tiramisu', 'Zesty Vanilla and Tipsy Brownie', 'Oreo Explosion', 'Chocolate Almond Crumble', 'Crunchy Ferrero', \"Stoner's Chocolate Decadence\", 'Brownie Bash', 'Chocolate Lava', 'Dark Chocolate Caramel', 'Chocolate Overload', 'Lots of Nuts', 'Peanut Butter Crunch', 'Nutty Fudgy', 'Lemon Pistachio Biscotti', 'Frutilicious Ice Cream', 'Strawberry Tease Ice Cream', 'Mango Tango Ice Cream', 'Lychee Lovers Ice Cream', 'Monkey Business Ice Cream', 'Apple Crumble Ice Cream', 'Blueberry Bliss Ice Cream']                                                                                                                                                                                                                                                                                                                                                                                                                                                                                                                                                                                                                                                                                                                                                                                                                                                                                                                                                                                                                                                                                                                                                                                                                                                                                                                                                                                                                                      11\n",
       "['Avil Milk', 'Oreo Shake', 'Chocolate Shake', 'Royal Falooda', 'Fruits Salad with Ice Cream', 'Fruits Salad with Ice Cream', 'Blackcurrant Ice Cream', 'Spanish Delight Ice Cream', 'Chillout Special Ice Cream', 'Chocolate Ice Cream', 'Butterscotch Ice Cream', 'Pista Ice Cream', 'Strawberry Ice Cream', 'Vanilla Ice Cream', 'Royal Falooda', 'Strawberry Falooda', 'Chillout Special Falooda', 'Lemon Juice', 'Mint Lemon Juice', 'Ginger Lemon Juice', 'Lemon Soda', 'Mint Lemon Soda', 'CAP Juice', 'Kiwi Juice', 'Carrot Juice', 'Pomegranate Juice', 'Watermelon Juice', 'Muskmelon Juice', 'Anjeer Juice', 'Pure Strawberry Juice', 'Papaya Juice', 'Orange Juice', 'Mosambi Juice', 'Grape Juice', 'Apple Juice', 'Pineapple Juice', 'Banana Juice', 'Rose Milk', 'Chikoo Shake', 'Sharja Shake', 'Kiwi Shake', 'Oreo Shake', 'Raspberry Shake', 'Pomegranate Shake', 'Mango Shake', 'Muskmelon Shake', 'Papaya Shake', 'Apple Shake', 'Berries Shake', 'Spanish Delight Shake', 'Blackcurrant Shake', 'Chillout Special Shake', 'Chocolate Shake', 'Butterscotch Shake', 'Strawberry Shake', 'Vanilla Shake', 'Pista Shake', 'Cold Coffee Shake', 'Avil Milk', 'Special Milk', 'Kulki Sarbath', 'Sweet Lassi', 'Chocolate Lassi', 'Mango Lassi', 'Banana Lassi', 'Strawberry Lassi']                                                                                                                                                                                                                                                                                                                                                                                                                                                                                                                                                                                                                                                                                                                                                                                                                                                                                                                                                                                                                                                                                                                                                                                                                                                                                                                                                                                                                                                                                                                                                                                                                                                                                                                                                                                                                                                                                                                                                                                                                                                                                                                                                                                                                                                                                                                                       10\n",
       "['Chicken Cheese Burger', 'Chicken Billys BIg Burger', 'French Fries', 'Alfredo Veg Pasta', 'Brownie Waffles', 'Veg Burger', 'Veg Cheese Burger', 'Veg Caramelized onion Burger', 'Mushroom Classic Burger', 'Veg English Cheddar Cheese Burger', 'Veg Chipotle Corn Burger', 'Veg Billys BIg Burger', 'Chicken Burger', 'Chicken Cheese Burger', 'Chicken Caramelized Onion Burger', 'Chicken Mushroom Burger', 'Chicken English Cheddar Cheese Burger', 'Chicken Chipotle Corn Burger', 'Chicken Billys BIg Burger', 'Chicken Nuggets Burger', 'Veg Grilled Sandwich', 'Paneer Burji Sandwich', 'Toasted Paneer Sandwich', 'Grilled Mushroom Sandwich', 'Corn and Cheese Sandwich', 'Egg Sandwich', 'Egg Chutney Sandwich', 'Chicken Mayo Sandwich', 'Chicken Cheese Sandwich', 'Hotdog Sandwich', 'Tuna Sandwich', 'Tangy Tomato Pasta', 'Spicy Penne Pasta', 'Alfredo Veg Pasta', 'Smoked Chicken Pasta', 'Alfredo Chicken Pasta', 'French Fries', 'Veg', 'Chicken', 'Fish Finger', 'Vegetable Omelette', 'Masala Omelette', 'Spanish Omelette', 'Cheese Omelette', 'Paneer Omelette', 'Ultimate Vegan Shakes', 'Bittersweet Symphony Shakes', 'The White Paradise Shakes', 'Deep Dark Abyss Shakes', 'Irene Adlers Mystery Shakes', 'Red Weather Parody Shakes', 'Mind palace Shakes', 'Tower of Baskerville Shakes', 'Nights Demon Shakes', 'Black and White Romance Shakes', 'Day Dream Shakes', 'Sherlocks Addiction Shakes', 'Mrs Hudsons Secret Shakes', 'Classic Waffles', 'Caramel Waffles', 'Choco Treat Waffles', 'Brownie Waffles', 'Nutella Crunch Waffles', 'Snowflakes Waffles', 'Rocky Road Waffles', 'Lights Out Waffles']                                                                                                                                                                                                                                                                                                                                                                                                                                                                                                                                                                                                                                                                                                                                                                                                                                                                                                                                                                                                                                                                                                                                                                                                                                                                                                                                                                                                                                                                                                                                                                                                                                                                                                                                                                                                                                                                                                                                                                                             9\n",
       "['Students Veg Combo', 'Office Veg Combo', 'Students Non Veg Combo', 'Office Non Veg Combo', 'Mughlai Non Veg Combo', 'Aloo Paratha Combo', 'Poori Aloo Jeera Combo', 'Poori Aloo Tomato Combo', 'Paneer Paratha Combo', 'Students Veg Combo', 'Office Veg Combo', 'Students Non Veg Combo', 'Office Non Veg Combo', 'Mughlai Non Veg Combo', 'Shami Kebab Roll', 'Mughlai Biryani Combo [Veg]', 'Nawabi Thali Combo', 'The Lajawab Gravy Combo [Veg]', 'Mughlai Meal For Two [Veg]', 'The After Party Starters', 'Royal Feast For Four [Veg]', 'The Galawati Roll', 'Mughlai Biryani Combo [Non Veg]', 'The Nihari Combo [Chicken]', 'The Nihari Combo (Mutton)', 'The Lajawab Gravy Combo [Non Veg]', 'Mughlai Meal For Two [Non-Veg]', 'Biryani Blast', 'Royal Feast For Four [Non-Veg]', 'Baby Corn 65', 'Chilli Baby Corn', 'Mushroom 65', 'Chilli Mushroom', 'Veg Seekh Kebab', 'Kasturi Paneer Tikka', 'Paneer 65', 'Paneer Angara', 'Chilli Paneer', 'Hara Bhara Kebab', 'Paneer Tikka', 'Paneer Malai Tikka', 'Tandoori Veg Platter', 'Tandoori Chicken', 'Mutton Shami Kebab [Signature]', 'Mutton Galouti Kebab [Signature]', 'Chicken 65', 'Chicken Seekh Kebab', 'Chicken Tikka', 'Chilli Chicken', 'Chicken Angara', 'Chicken Kasturi Kebab', 'Chicken Malai Tikka', 'Mutton Sultani Seekh Kebab', 'Non Veg Tandoori Platter', 'Aloo Tomato Gravy', 'Aloo Capsicum Dry', 'Aloo Jeera Dry', 'Dal Fry', 'Dal Tadka', 'Rajma', 'Chole', 'Dal Makhani [Signature]', 'Lipta Mushroom Masala', 'Veg Kolhapuri', 'Chole Curry', 'Paneer Bhurji', 'Miloni Tarkari [Signature]', 'Mixed Veg', 'Palak Paneer', 'Diwani Handi', 'Mattar Paneer', 'Paneer Do Pyaza', 'Butter Paneer', 'Kadai Paneer [Signature]', 'Paneer Tikka Masala [Signature]', 'Methi Malai Paneer', 'Paneer Lababdar [Signature]', 'Murg Musallam', 'Egg Bhurji', 'Egg Curry', 'Chicken Nihari [Signature]', 'Chicken Curry', 'Chicken Do Pyaza', 'Chicken Methi Khas', 'Hyderabadi Chicken', 'Chicken Hara Pyaza', 'Chicken Kali Mirch', 'Chicken Kohlapuri', 'Kadai Chicken', 'Chicken Lababdar', 'Chicken Lajawab [Signature]', 'Chicken Tikka Masala', 'Chicken Boti Kebab Masala', 'Butter Chicken', 'Mughlai Chicken Masala [Signature]', 'Mutton Nihari [Signature]', 'Mutton Do Pyaza', 'Mutton Korma', 'Mutton Rogan Josh', 'Mughlai Mutton Masala', 'Mutton Boti Kebab Masala [Signature]', 'Murg Musallam', 'Steamed Rice', 'Jeera Rice', 'Ghee Rice', 'Khushka', 'Pulao', 'Veg Biryani', 'Mughlai Chicken Dum Biryani [Signature]', 'Chicken Tikka Biryani', 'Mughlai Mutton Dum Biryani [Signature]', 'Tandoori Roti', 'Lachha Paratha', 'Naan', 'Amritsari Kulcha', 'Garlic Naan', 'Missi Roti', 'Mughlai Paratha', 'Poori', 'Mughlai Bread Basket', 'Papad', 'Curd', 'Boondi Raita', 'Mixed Raita', 'Masala Papad', 'Pineapple Raita', 'Paneer Roll', 'Hawker Style Boiled Egg', 'Masala Omelette', 'Chicken Roll', 'Chicken Boti Roll', 'Shami Roll', 'The Galouti Roll [Signature]', 'Mutton Boti Roll', 'Gulab Jamun [2 Pieces]', 'Ice Cream Scoop [single]', 'Rice Kheer', 'Awadhi Kheer [Signature]', 'Gajar Ka Halwa', 'Lachhedar Rabri', 'Shahi Tukda [Signature]', 'Thums Up [750 Ml]', 'Mineral Water [1 Litre]', 'Buttermilk', 'Lime Water', 'Thums Up (600 Ml)', 'Jal Jeera', 'Lassi', 'Lime Water Salt', 'Lime Water Sweet', 'Chocolate Lassi', 'Strawberry Lassi', 'Alphonso Mango Lassi', 'Thandai', 'Mango Lassi']                                                                                                                                                                                                                  9\n",
       "                                                                                                                                                                                                                                                                                                                                                                                                                                                                                                                                                                                                                                                                                                                                                                                                                                                                                                                                                                                                                                                                                                                                                                                                                                                                                                                                                                                                                                                                                                                                                                                                                                                                                                                                                                                                                                                                                                                                                                                                                                                                                                                                                                                                                                                                                                                                                                                                                                                                                                                                                                                                                                                                                                                                                                                                                                                                                                                                                                                                                                                                                                                                                                                                                                                                                                                                                                                                                                                                                                                                                                                                                                       ...  \n",
       "['Egg Biryani', 'Chicken Biryani', 'Chicken 65 Biryani', 'Mutton Biryani', 'Mutton Sukka', 'Boneless Chicken 65', 'Chicken Lollipop', 'Egg Fried Rice', 'Gobi 65', 'Mushroom 65', 'Gobi Chilly', 'Gobi Manchurian', 'Mushroom Chilly', 'Mushroom Manchurian', 'Boneless Chicken 65', 'Chicken Lollipop', 'Chicken Hot Wings', 'Prawns 65', 'Egg Bhurji', 'Paratha', 'Egg Kotu Paratha', 'Chicken Kothu Paratha', 'Mutton Kothu Paratha', 'Veg Biryani', 'Egg Biryani', 'Chicken Biryani', 'Chicken Biryani [Serves 7-8, 1 kg]', 'Chicken 65 Biryani', 'Mutton Biryani', 'Mutton Biryani [Serves 7-8, 1 kg]', 'Veg Fried Rice', 'Egg Fried Rice', 'Chicken Fried Rice', 'Chilly Chicken', 'Spicy Honey Chicken', 'Chicken Manchurian', 'Andhra Chilly Chicken', 'Nattu Kozhi Roast', 'Pichu Pota Nattu Kozhi', 'Nattu Kozhi Masala', 'Chicken Roast', 'Chicken Masala', 'Chicken Pepper Fry', 'Chicken Sukka', 'Mutton Sukka', 'Mutton Boti Fry', 'Mutton Masala', 'Egg Omelette', 'Egg Fry']                                                                                                                                                                                                                                                                                                                                                                                                                                                                                                                                                                                                                                                                                                                                                                                                                                                                                                                                                                                                                                                                                                                                                                                                                                                                                                                                                                                                                                                                                                                                                                                                                                                                                                                                                                                                                                                                                                                                                                                                                                                                                                                                                                                                                                                                                                                                                                                                                                                                                                                                                                                                                                               1\n",
       "['Tandoori Roti', 'Butter Naan', 'Lachha Parotta', 'Ghee Rice', 'Jeera Rice', 'Biryani Rice', 'Egg Biryani', 'Hyderabadi Chicken Dum Biryani', 'Boneless Hyderabadi Chicken Dum Biryani', 'Chicken Fried Rice', 'Chicken Schezwan Fried Rice', 'Dal Tadka', 'Paneer Butter Masala', 'Butter Chicken', 'Boneless Butter Chicken', 'Chicken Kadai', 'Chicken Masala', 'Boneless Chicken Masala', 'Tandoori Chicken', 'Kalmi Kabab', 'Gobi Manchurian', 'Paneer Chilli', 'Chicken Manchurian', 'Chicken Chilli', 'Chicken Sholay', 'Chicken Lemon', 'Chicken Kabab', 'Chicken Ghee Roast', 'Fish Chilli', 'Egg Fry', 'Pudina Chicken Kabab [6 Pieces]', 'Hariyali Chicken Tikka [6 Pieces]', 'Malai Tikka [6 Pieces]', 'Tandoori Chicken', 'Chicken Tikka [6 Pieces]', 'Kalmi Kabab', 'Tandoori Kabab [6 Pieces]', 'Gobi Manchurian', 'Gobi 65', 'Gobi Pepper', 'Gobi Pudina', 'Gobi Curry Leaf Dry', 'Gobi Kaju Curry', 'Mushroom Manchurian', 'Mushroom Chilli', 'Mushroom 65', 'Mushroom Solay', 'Mushroom Golden', 'Paneer Manchurian', 'Paneer Chilli', 'Paneer Solay', 'Paneer Pepper', 'Paneer Bhurji', 'Baby Corn Manchurian', 'Baby Corn Chilli', 'Baby Corn Solay', 'Baby Corn Pepper', 'Baby Corn Golden', 'Baby Corn Curry Leaf Dry', 'Paneer Tikka', 'Gobi Tikka', 'Tandoori Mushroom', 'Mushroom Pepper Dry', 'Chicken Manchurian', 'Chicken Chilli', 'Chicken Sholay', 'Chicken Lemon', 'Boneless Chicken Guntur', 'Boneless Chicken Hyderabadi', 'Chicken Pudina', 'Chicken Kabab', 'Boneless Chicken Kaju Dry', 'Chicken Special Dry', 'Boneless Chicken Special Dry', 'Chicken Lollipop [6 Pieces]', 'Chicken Roast', 'Chicken Fry', 'Boneless Chicken Curry Leaf Dry', 'Chicken Ghee Roast', 'Chicken Guntur Dry', 'Chicken Hyderabadi Dry', 'Fish Manchurian', 'Fish Chilli', 'Fish Pepper', 'Fish Sholay', 'Fish Apollo', 'Prawns Fry', 'Prawns Chilli', 'Prawns Pepper', 'Prawns Ginger', 'Prawns Golden', 'Prawns Pakoda', 'Dal Fry', 'Dal Tadka', 'Dal Palak', 'Plain Palak', 'Palak Paneer', 'Mixed Veg Curry', 'Veg Kadai Curry', 'Paneer Kadai Curry', 'Paneer Butter Masala', 'Mushroom Masala', 'Mushroom Kadai', 'Kaju Masala', 'Veg Kolhapuri', 'Veg Malai Kofta', 'Veg Hyderabadi Curry', 'Paneer Tikka Masala', 'Veg Diwani Handi', 'Veg Special Curry', 'Butter Chicken', 'Boneless Butter Chicken', 'Chicken Kadai', 'Boneless Chicken Kadai', 'Chicken Hyderabadi Curry', 'Boneless Chicken Hyderabadi Curry', 'Chicken Masala', 'Boneless Chicken Masala', 'Boneless Chicken Tikka Masala', 'Chicken Kolhapuri', 'Boneless Chicken Kolhapuri', 'Guntur Chicken Curry', 'Boneless Guntur Chicken Curry', 'Gongura Chicken Curry', 'Boneless Gongura Chicken Curry', 'Chicken Pepper Masala', 'Boneless Chicken Pepper Masala', 'Chicken Special Curry', 'Boneless Chicken Special Curry', 'Prawns Curry', 'Tandoori Roti', 'Butter Roti', 'Methi Roti', 'Pudina Roti', 'Naan', 'Butter Naan', 'Plain Kulcha', 'Butter Kulcha', 'Stuffed Kulcha', 'Lachha Parotta', 'Ghee Rice', 'Jeera Rice', 'Hyderabadi Veg Biryani', 'Mushroom Biryani', 'Biryani Rice', 'Paneer Biryani', 'Egg Biryani', 'Hyderabadi Chicken Dum Biryani', 'Boneless Hyderabadi Chicken Dum Biryani', 'Special Dum Biryani', 'Hyderabadi Chicken Dum Briyani [Family Pack]', 'Boneless Hyderabadi Chicken Dum Biryani [Family Pack]', 'Fish Biryani', 'Prawns Biryani', 'Veg Fried Rice', 'Veg Schezwan Fried Rice', 'Paneer Fried Rice', 'Mushroom Fried Rice', 'Egg Fried Rice', 'Egg Schezwan Fried Rice', 'Chicken Fried Rice', 'Chicken Schezwan Fried Rice', 'Prawns Fried Rice', 'Mixed Non Veg Fried Rice', 'Egg Fry']        1\n",
       "['Gobi Kulcha [Full Authentic Amritsari Style]', 'Paneer Kulcha [Full Authentic Amritsari Style]', 'Mixed Kulcha [Full Authentic Amritsari Style]', 'Mushroom Kulcha [Full Authentic Amritsari Style]', 'Aloo Pyaz Kulcha [Full Authentic Amritsari Style]', 'Aloo Kulcha [Full Authentic Amritsari Style]', 'Gobi Kulcha [Full Authentic Amritsari Style]', 'Paneer Kulcha [Full Authentic Amritsari Style]', 'Mixed Kulcha [Full Authentic Amritsari Style]', 'Mushroom Kulcha [Full Authentic Amritsari Style]', 'Aloo Pyaz Kulcha [Full Authentic Amritsari Style]', 'Lassi']                                                                                                                                                                                                                                                                                                                                                                                                                                                                                                                                                                                                                                                                                                                                                                                                                                                                                                                                                                                                                                                                                                                                                                                                                                                                                                                                                                                                                                                                                                                                                                                                                                                                                                                                                                                                                                                                                                                                                                                                                                                                                                                                                                                                                                                                                                                                                                                                                                                                                                                                                                                                                                                                                                                                                                                                                                                                                                                                                                                                                                                          1\n",
       "['That Paneer Lover Pizza', 'Nachos Pizza', 'Veg Pasta', 'Garlic Bread', 'Grilled Veg', 'Garden Fresh Fried Rice', 'Mixed Fried Rice', 'Green Garden', 'Wings Galore', 'Broccoli and Almond Soup', 'Creamy Mushroom Soup', 'Veg Minestrone Soup', 'Veg Noodle Soup', 'Veg Hot and Sour Soup', 'Veg Sweet Corn Soup', 'Chicken Sweet Corn Soup', 'Chicken Hot and Sour Soup', 'Smoked Chicken Salad', 'Lettuce O Holic Salad', 'Caesar Salad', 'Paprika', 'Cajun Fries', 'Jalapeno Heat Garlic Bread', 'Garlic Bread', 'Pesto Cheese Garlic Bread', 'Veg Nachos Cheese Salsa', 'Potato Wedges', 'Cheese Stuffed Mushroom', 'Cheese Balls', 'BBQ Chicken Wings', 'Crispy Fish Fingers', 'Chicken Nuggets', 'Peri Peri Chicken Wings', 'Garlicky Chicken', 'Chicken Swiss Stock', 'Pan Fried Fish', 'Veg Steak', 'Chicken Steak', 'Fish Steak', 'Chilly Crispy Veg', 'Mushroom Chilly', 'Paneer Chilly', 'Mushroom Manchurian', 'Egg Masala Lover', 'Deviled Egg', 'Maharajah Omelette', 'Spinach and Corn Feta Omelette', 'Egg White Fretteda', 'Egg Chilly', 'Chicken Lollipop', 'Chilly Chicken', 'Chicken Manchurian', 'Chicken Schezwan', 'Grilled Veg', 'Stuffed Mushroom Chicken', 'Basa Fish Roll', 'Veg Schezwan Fried Rice', 'Veg Shangai Fried Rice', 'Veg Schezwan Noodles Fried Rice', 'Veg Burnt Garlic Noodles Fried Rice', 'Egg Burnt Garlic Noodles Fried Rice', 'Egg Schezwan Noodles Fried Rice', 'Egg Shangai Fried Rice', 'Egg Schezwan Fried Rice', 'Chicken Burnt Garlic Noodles Fried Rice', 'Chicken Shangai Fried Rice', 'Chicken Schezwan Noodles Fried Rice', 'Chicken Schezwan Fried Rice', 'Seafood Schezwan Noodles Fried Rice', 'Seafood Burnt Garlic Noodles Fried Rice', 'Seafood Schezwan Fried Rice', 'Seafood Shangai Fried Rice', 'That Paneer Lover Pizza', 'Nachos Pizza', 'Garlic Nachos Pizza', 'Original Margarita Pizza', 'Garden Fresh Pizza', 'Chicago Lover Pizza', 'Desi Masala Tadka Pizza', 'Art of Salsa Pizza', 'Mint Madness Pizza', 'Mint O Holic Pizza', 'Green Thumb Pizza', 'Pesto King Pizza', 'Bulls Eye Pizza', 'Sunny Side Mint Pizza', 'Meat Eater Salasa Zombie Pizza', 'Triple P Peri Peri Pizza', 'Roasted and Pesto Ed Pizza', 'Super Spicy Peri Peri Pizza', 'Kentucky Killing Pizza', 'Calafornication Pizza', 'Veg Pasta', 'Non Veg Pasta', 'Spinach and Corn Sandwich', 'Grilled Vegetable Sandwich', 'BBQ Chicken Sandwich', 'Peri Peri Chicken Sandwich', 'Jalapeno Cottage Cheese Burger', 'Classic Cutlet Burger', 'BBQ Chicken Burger', 'Chicken Classic Burger', 'Fish Fillet Burger', 'Classic Brownie', 'Peach Iced Tea', 'Indian Summer', 'Virgin Mojito', 'Paan Mojito', 'Cumin Lemonade', 'White Angel', 'Blushing Dragon', 'Fruit Punch', 'Lychee Punch', 'Strawberry Lemonade', 'Cappuccino', 'Latte', 'Espresso', 'Desi Special Coffee', 'Saffron Magic', 'Popcorn Latte', 'Mocha Latte', 'Salted Caramel Latte', 'Hot Chocolate', 'Red Velvet Latte', 'Turmeric Latte', 'Herbal Highness', 'Mexican Hot Chocolate Chai', 'Green Chai', 'Masala Chai', 'Ginger Chai', 'Vietnamese Cold Coffee Shake', 'On The Rocks Shake', 'Salted Caramel Shake', 'Brownie Shake', 'Popcorn Iced Latte Shake', 'Chovolate Shake', 'Rasmalai Rumble Shake', 'Oreo Shake', 'Red Velvet Love Shake', 'Strawberry Shake', 'Nutela Shake']                                                                                                                                                                                                                                                                                                                                   1\n",
       "['Mango Ice Cream', 'Classic Chocolate Ice Cream', 'Mochaccino Ice Cream', 'After Eight Ice Cream', 'Coconut Ice Cream', 'Himalaya Salted Caramel Ice Cream', 'White Chocolate Caramel Ice Cream', 'Mango Ice Cream', 'Classic Chocolate Ice Cream', 'Capri Ice Cream', 'Mochaccino Ice Cream', 'Lichi Ice Cream', 'Raffeallow Ice Cream', 'Bacio Ice Cream', 'Pistachio Ice Cream', 'Milk Chocolate Ice Cream', 'Strawberry Ice Cream', 'Vanilla Ice Cream', 'Cashewnut Ice Cream', 'After Eight Ice Cream', 'Coconut Ice Cream', 'Chickoo Ice Cream', 'Amarena Ice Cream', 'Venezia Ice Cream', 'Raspberry Ice Cream', 'Blue Berry Ice Cream', 'Chilly Chocolate Ice Cream', 'Almond Ice Cream', 'Dates Ice Cream', 'Italian Jianduja Ice Cream', 'Irish Cream Ice Cream', 'Tiramisu Ice Cream', 'Black berry Ice Cream', 'Chocolate Crunch Ice Cream', 'Irish Coffee Ice Cream', 'Himalaya Salted Caramel Ice Cream', 'White Chocolate Caramel Ice Cream', 'Nutella', 'Bacardi', 'Champagne', 'Dubai Cream']                                                                                                                                                                                                                                                                                                                                                                                                                                                                                                                                                                                                                                                                                                                                                                                                                                                                                                                                                                                                                                                                                                                                                                                                                                                                                                                                                                                                                                                                                                                                                                                                                                                                                                                                                                                                                                                                                                                                                                                                                                                                                                                                                                                                                                                                                                                                                                                                                                                                                                                                                                                                                            1\n",
       "Name: menu_item, Length: 9098, dtype: int64"
      ]
     },
     "execution_count": 5,
     "metadata": {},
     "output_type": "execute_result"
    }
   ],
   "source": [
    "data.menu_item.value_counts()"
   ]
  },
  {
   "cell_type": "code",
   "execution_count": 6,
   "metadata": {
    "scrolled": true
   },
   "outputs": [
    {
     "data": {
      "text/html": [
       "<div>\n",
       "<style scoped>\n",
       "    .dataframe tbody tr th:only-of-type {\n",
       "        vertical-align: middle;\n",
       "    }\n",
       "\n",
       "    .dataframe tbody tr th {\n",
       "        vertical-align: top;\n",
       "    }\n",
       "\n",
       "    .dataframe thead th {\n",
       "        text-align: right;\n",
       "    }\n",
       "</style>\n",
       "<table border=\"1\" class=\"dataframe\">\n",
       "  <thead>\n",
       "    <tr style=\"text-align: right;\">\n",
       "      <th></th>\n",
       "      <th>url</th>\n",
       "      <th>address</th>\n",
       "      <th>name</th>\n",
       "      <th>online_order</th>\n",
       "      <th>book_table</th>\n",
       "      <th>rate</th>\n",
       "      <th>votes</th>\n",
       "      <th>phone</th>\n",
       "      <th>location</th>\n",
       "      <th>rest_type</th>\n",
       "      <th>dish_liked</th>\n",
       "      <th>cuisines</th>\n",
       "      <th>approx_cost(for two people)</th>\n",
       "      <th>reviews_list</th>\n",
       "      <th>menu_item</th>\n",
       "      <th>listed_in(type)</th>\n",
       "      <th>listed_in(city)</th>\n",
       "    </tr>\n",
       "  </thead>\n",
       "  <tbody>\n",
       "    <tr>\n",
       "      <th>0</th>\n",
       "      <td>https://www.zomato.com/bangalore/jalsa-banasha...</td>\n",
       "      <td>942, 21st Main Road, 2nd Stage, Banashankari, ...</td>\n",
       "      <td>Jalsa</td>\n",
       "      <td>Yes</td>\n",
       "      <td>Yes</td>\n",
       "      <td>4.1/5</td>\n",
       "      <td>775</td>\n",
       "      <td>080 42297555\\r\\n+91 9743772233</td>\n",
       "      <td>Banashankari</td>\n",
       "      <td>Casual Dining</td>\n",
       "      <td>Pasta, Lunch Buffet, Masala Papad, Paneer Laja...</td>\n",
       "      <td>North Indian, Mughlai, Chinese</td>\n",
       "      <td>800</td>\n",
       "      <td>[('Rated 4.0', 'RATED\\n  A beautiful place to ...</td>\n",
       "      <td>[]</td>\n",
       "      <td>Buffet</td>\n",
       "      <td>Banashankari</td>\n",
       "    </tr>\n",
       "    <tr>\n",
       "      <th>1</th>\n",
       "      <td>https://www.zomato.com/bangalore/spice-elephan...</td>\n",
       "      <td>2nd Floor, 80 Feet Road, Near Big Bazaar, 6th ...</td>\n",
       "      <td>Spice Elephant</td>\n",
       "      <td>Yes</td>\n",
       "      <td>No</td>\n",
       "      <td>4.1/5</td>\n",
       "      <td>787</td>\n",
       "      <td>080 41714161</td>\n",
       "      <td>Banashankari</td>\n",
       "      <td>Casual Dining</td>\n",
       "      <td>Momos, Lunch Buffet, Chocolate Nirvana, Thai G...</td>\n",
       "      <td>Chinese, North Indian, Thai</td>\n",
       "      <td>800</td>\n",
       "      <td>[('Rated 4.0', 'RATED\\n  Had been here for din...</td>\n",
       "      <td>[]</td>\n",
       "      <td>Buffet</td>\n",
       "      <td>Banashankari</td>\n",
       "    </tr>\n",
       "    <tr>\n",
       "      <th>2</th>\n",
       "      <td>https://www.zomato.com/SanchurroBangalore?cont...</td>\n",
       "      <td>1112, Next to KIMS Medical College, 17th Cross...</td>\n",
       "      <td>San Churro Cafe</td>\n",
       "      <td>Yes</td>\n",
       "      <td>No</td>\n",
       "      <td>3.8/5</td>\n",
       "      <td>918</td>\n",
       "      <td>+91 9663487993</td>\n",
       "      <td>Banashankari</td>\n",
       "      <td>Cafe, Casual Dining</td>\n",
       "      <td>Churros, Cannelloni, Minestrone Soup, Hot Choc...</td>\n",
       "      <td>Cafe, Mexican, Italian</td>\n",
       "      <td>800</td>\n",
       "      <td>[('Rated 3.0', \"RATED\\n  Ambience is not that ...</td>\n",
       "      <td>[]</td>\n",
       "      <td>Buffet</td>\n",
       "      <td>Banashankari</td>\n",
       "    </tr>\n",
       "    <tr>\n",
       "      <th>3</th>\n",
       "      <td>https://www.zomato.com/bangalore/addhuri-udupi...</td>\n",
       "      <td>1st Floor, Annakuteera, 3rd Stage, Banashankar...</td>\n",
       "      <td>Addhuri Udupi Bhojana</td>\n",
       "      <td>No</td>\n",
       "      <td>No</td>\n",
       "      <td>3.7/5</td>\n",
       "      <td>88</td>\n",
       "      <td>+91 9620009302</td>\n",
       "      <td>Banashankari</td>\n",
       "      <td>Quick Bites</td>\n",
       "      <td>Masala Dosa</td>\n",
       "      <td>South Indian, North Indian</td>\n",
       "      <td>300</td>\n",
       "      <td>[('Rated 4.0', \"RATED\\n  Great food and proper...</td>\n",
       "      <td>[]</td>\n",
       "      <td>Buffet</td>\n",
       "      <td>Banashankari</td>\n",
       "    </tr>\n",
       "    <tr>\n",
       "      <th>4</th>\n",
       "      <td>https://www.zomato.com/bangalore/grand-village...</td>\n",
       "      <td>10, 3rd Floor, Lakshmi Associates, Gandhi Baza...</td>\n",
       "      <td>Grand Village</td>\n",
       "      <td>No</td>\n",
       "      <td>No</td>\n",
       "      <td>3.8/5</td>\n",
       "      <td>166</td>\n",
       "      <td>+91 8026612447\\r\\n+91 9901210005</td>\n",
       "      <td>Basavanagudi</td>\n",
       "      <td>Casual Dining</td>\n",
       "      <td>Panipuri, Gol Gappe</td>\n",
       "      <td>North Indian, Rajasthani</td>\n",
       "      <td>600</td>\n",
       "      <td>[('Rated 4.0', 'RATED\\n  Very good restaurant ...</td>\n",
       "      <td>[]</td>\n",
       "      <td>Buffet</td>\n",
       "      <td>Banashankari</td>\n",
       "    </tr>\n",
       "  </tbody>\n",
       "</table>\n",
       "</div>"
      ],
      "text/plain": [
       "                                                 url  \\\n",
       "0  https://www.zomato.com/bangalore/jalsa-banasha...   \n",
       "1  https://www.zomato.com/bangalore/spice-elephan...   \n",
       "2  https://www.zomato.com/SanchurroBangalore?cont...   \n",
       "3  https://www.zomato.com/bangalore/addhuri-udupi...   \n",
       "4  https://www.zomato.com/bangalore/grand-village...   \n",
       "\n",
       "                                             address                   name  \\\n",
       "0  942, 21st Main Road, 2nd Stage, Banashankari, ...                  Jalsa   \n",
       "1  2nd Floor, 80 Feet Road, Near Big Bazaar, 6th ...         Spice Elephant   \n",
       "2  1112, Next to KIMS Medical College, 17th Cross...        San Churro Cafe   \n",
       "3  1st Floor, Annakuteera, 3rd Stage, Banashankar...  Addhuri Udupi Bhojana   \n",
       "4  10, 3rd Floor, Lakshmi Associates, Gandhi Baza...          Grand Village   \n",
       "\n",
       "  online_order book_table   rate  votes                             phone  \\\n",
       "0          Yes        Yes  4.1/5    775    080 42297555\\r\\n+91 9743772233   \n",
       "1          Yes         No  4.1/5    787                      080 41714161   \n",
       "2          Yes         No  3.8/5    918                    +91 9663487993   \n",
       "3           No         No  3.7/5     88                    +91 9620009302   \n",
       "4           No         No  3.8/5    166  +91 8026612447\\r\\n+91 9901210005   \n",
       "\n",
       "       location            rest_type  \\\n",
       "0  Banashankari        Casual Dining   \n",
       "1  Banashankari        Casual Dining   \n",
       "2  Banashankari  Cafe, Casual Dining   \n",
       "3  Banashankari          Quick Bites   \n",
       "4  Basavanagudi        Casual Dining   \n",
       "\n",
       "                                          dish_liked  \\\n",
       "0  Pasta, Lunch Buffet, Masala Papad, Paneer Laja...   \n",
       "1  Momos, Lunch Buffet, Chocolate Nirvana, Thai G...   \n",
       "2  Churros, Cannelloni, Minestrone Soup, Hot Choc...   \n",
       "3                                        Masala Dosa   \n",
       "4                                Panipuri, Gol Gappe   \n",
       "\n",
       "                         cuisines approx_cost(for two people)  \\\n",
       "0  North Indian, Mughlai, Chinese                         800   \n",
       "1     Chinese, North Indian, Thai                         800   \n",
       "2          Cafe, Mexican, Italian                         800   \n",
       "3      South Indian, North Indian                         300   \n",
       "4        North Indian, Rajasthani                         600   \n",
       "\n",
       "                                        reviews_list menu_item  \\\n",
       "0  [('Rated 4.0', 'RATED\\n  A beautiful place to ...        []   \n",
       "1  [('Rated 4.0', 'RATED\\n  Had been here for din...        []   \n",
       "2  [('Rated 3.0', \"RATED\\n  Ambience is not that ...        []   \n",
       "3  [('Rated 4.0', \"RATED\\n  Great food and proper...        []   \n",
       "4  [('Rated 4.0', 'RATED\\n  Very good restaurant ...        []   \n",
       "\n",
       "  listed_in(type) listed_in(city)  \n",
       "0          Buffet    Banashankari  \n",
       "1          Buffet    Banashankari  \n",
       "2          Buffet    Banashankari  \n",
       "3          Buffet    Banashankari  \n",
       "4          Buffet    Banashankari  "
      ]
     },
     "execution_count": 6,
     "metadata": {},
     "output_type": "execute_result"
    }
   ],
   "source": [
    "data.head()"
   ]
  },
  {
   "cell_type": "code",
   "execution_count": 7,
   "metadata": {},
   "outputs": [
    {
     "data": {
      "text/plain": [
       "Index(['url', 'address', 'name', 'online_order', 'book_table', 'rate', 'votes',\n",
       "       'phone', 'location', 'rest_type', 'dish_liked', 'cuisines',\n",
       "       'approx_cost(for two people)', 'reviews_list', 'menu_item',\n",
       "       'listed_in(type)', 'listed_in(city)'],\n",
       "      dtype='object')"
      ]
     },
     "execution_count": 7,
     "metadata": {},
     "output_type": "execute_result"
    }
   ],
   "source": [
    "data.columns"
   ]
  },
  {
   "cell_type": "code",
   "execution_count": 8,
   "metadata": {},
   "outputs": [
    {
     "data": {
      "text/plain": [
       "(51717, 17)"
      ]
     },
     "execution_count": 8,
     "metadata": {},
     "output_type": "execute_result"
    }
   ],
   "source": [
    "data.shape"
   ]
  },
  {
   "cell_type": "markdown",
   "metadata": {},
   "source": [
    "# Preparing Data(Cleaning Data)"
   ]
  },
  {
   "cell_type": "markdown",
   "metadata": {},
   "source": [
    "##### Dropping the column like \"phone\" and \"url\" and saving the new dataset as \"df\""
   ]
  },
  {
   "cell_type": "code",
   "execution_count": 9,
   "metadata": {},
   "outputs": [
    {
     "data": {
      "text/plain": [
       "Index(['url', 'address', 'name', 'online_order', 'book_table', 'rate', 'votes',\n",
       "       'phone', 'location', 'rest_type', 'dish_liked', 'cuisines',\n",
       "       'approx_cost(for two people)', 'reviews_list', 'menu_item',\n",
       "       'listed_in(type)', 'listed_in(city)'],\n",
       "      dtype='object')"
      ]
     },
     "execution_count": 9,
     "metadata": {},
     "output_type": "execute_result"
    }
   ],
   "source": [
    "data.columns"
   ]
  },
  {
   "cell_type": "code",
   "execution_count": 10,
   "metadata": {},
   "outputs": [],
   "source": [
    "df=data.drop(['url','phone','address'],axis=1) #Dropping the column like \"phone\" and \"url\" and saving the new dataset as \"df\"\n"
   ]
  },
  {
   "cell_type": "markdown",
   "metadata": {},
   "source": [
    "### Handling missing values"
   ]
  },
  {
   "cell_type": "code",
   "execution_count": 11,
   "metadata": {},
   "outputs": [
    {
     "data": {
      "text/plain": [
       "name                           object\n",
       "online_order                   object\n",
       "book_table                     object\n",
       "rate                           object\n",
       "votes                           int64\n",
       "location                       object\n",
       "rest_type                      object\n",
       "dish_liked                     object\n",
       "cuisines                       object\n",
       "approx_cost(for two people)    object\n",
       "reviews_list                   object\n",
       "menu_item                      object\n",
       "listed_in(type)                object\n",
       "listed_in(city)                object\n",
       "dtype: object"
      ]
     },
     "execution_count": 11,
     "metadata": {},
     "output_type": "execute_result"
    }
   ],
   "source": [
    "df.dtypes #checking the data types\n"
   ]
  },
  {
   "cell_type": "code",
   "execution_count": 12,
   "metadata": {},
   "outputs": [
    {
     "data": {
      "text/plain": [
       "name                               0\n",
       "online_order                       0\n",
       "book_table                         0\n",
       "rate                            7775\n",
       "votes                              0\n",
       "location                          21\n",
       "rest_type                        227\n",
       "dish_liked                     28078\n",
       "cuisines                          45\n",
       "approx_cost(for two people)      346\n",
       "reviews_list                       0\n",
       "menu_item                          0\n",
       "listed_in(type)                    0\n",
       "listed_in(city)                    0\n",
       "dtype: int64"
      ]
     },
     "execution_count": 12,
     "metadata": {},
     "output_type": "execute_result"
    }
   ],
   "source": [
    "df.isna().sum() #Checking null values\n"
   ]
  },
  {
   "cell_type": "markdown",
   "metadata": {},
   "source": [
    "#### using pandas profiling to get an over all overview of the dataset"
   ]
  },
  {
   "cell_type": "code",
   "execution_count": 13,
   "metadata": {},
   "outputs": [],
   "source": [
    "# import pandas_profiling as pf\n",
    "\n",
    "# pf.ProfileReport(df)"
   ]
  },
  {
   "cell_type": "markdown",
   "metadata": {},
   "source": [
    "#### Checking for duplicate values"
   ]
  },
  {
   "cell_type": "code",
   "execution_count": 14,
   "metadata": {},
   "outputs": [
    {
     "data": {
      "text/plain": [
       "63"
      ]
     },
     "execution_count": 14,
     "metadata": {},
     "output_type": "execute_result"
    }
   ],
   "source": [
    "df.duplicated().sum()"
   ]
  },
  {
   "cell_type": "code",
   "execution_count": 15,
   "metadata": {},
   "outputs": [],
   "source": [
    "df.drop_duplicates(inplace=True)"
   ]
  },
  {
   "cell_type": "markdown",
   "metadata": {},
   "source": [
    "### Handling missing values"
   ]
  },
  {
   "cell_type": "code",
   "execution_count": 16,
   "metadata": {},
   "outputs": [
    {
     "data": {
      "text/plain": [
       "name                           object\n",
       "online_order                   object\n",
       "book_table                     object\n",
       "rate                           object\n",
       "votes                           int64\n",
       "location                       object\n",
       "rest_type                      object\n",
       "dish_liked                     object\n",
       "cuisines                       object\n",
       "approx_cost(for two people)    object\n",
       "reviews_list                   object\n",
       "menu_item                      object\n",
       "listed_in(type)                object\n",
       "listed_in(city)                object\n",
       "dtype: object"
      ]
     },
     "execution_count": 16,
     "metadata": {},
     "output_type": "execute_result"
    }
   ],
   "source": [
    "df.dtypes #checking the data types\n"
   ]
  },
  {
   "cell_type": "code",
   "execution_count": 17,
   "metadata": {},
   "outputs": [
    {
     "data": {
      "text/plain": [
       "name                               0\n",
       "online_order                       0\n",
       "book_table                         0\n",
       "rate                            7760\n",
       "votes                              0\n",
       "location                          21\n",
       "rest_type                        227\n",
       "dish_liked                     28027\n",
       "cuisines                          45\n",
       "approx_cost(for two people)      345\n",
       "reviews_list                       0\n",
       "menu_item                          0\n",
       "listed_in(type)                    0\n",
       "listed_in(city)                    0\n",
       "dtype: int64"
      ]
     },
     "execution_count": 17,
     "metadata": {},
     "output_type": "execute_result"
    }
   ],
   "source": [
    "df.isna().sum() #Checking null values\n"
   ]
  },
  {
   "cell_type": "markdown",
   "metadata": {},
   "source": [
    "#### dish_liked columns has lots of null values . Let's analyze and replace with something                "
   ]
  },
  {
   "cell_type": "code",
   "execution_count": null,
   "metadata": {},
   "outputs": [],
   "source": []
  },
  {
   "cell_type": "code",
   "execution_count": 18,
   "metadata": {},
   "outputs": [
    {
     "data": {
      "text/html": [
       "<div>\n",
       "<style scoped>\n",
       "    .dataframe tbody tr th:only-of-type {\n",
       "        vertical-align: middle;\n",
       "    }\n",
       "\n",
       "    .dataframe tbody tr th {\n",
       "        vertical-align: top;\n",
       "    }\n",
       "\n",
       "    .dataframe thead th {\n",
       "        text-align: right;\n",
       "    }\n",
       "</style>\n",
       "<table border=\"1\" class=\"dataframe\">\n",
       "  <thead>\n",
       "    <tr style=\"text-align: right;\">\n",
       "      <th></th>\n",
       "      <th>name</th>\n",
       "      <th>online_order</th>\n",
       "      <th>book_table</th>\n",
       "      <th>rate</th>\n",
       "      <th>votes</th>\n",
       "      <th>location</th>\n",
       "      <th>rest_type</th>\n",
       "      <th>dish_liked</th>\n",
       "      <th>cuisines</th>\n",
       "      <th>approx_cost(for two people)</th>\n",
       "      <th>reviews_list</th>\n",
       "      <th>menu_item</th>\n",
       "      <th>listed_in(type)</th>\n",
       "      <th>listed_in(city)</th>\n",
       "    </tr>\n",
       "  </thead>\n",
       "  <tbody>\n",
       "    <tr>\n",
       "      <th>6</th>\n",
       "      <td>Rosewood International Hotel - Bar &amp; Restaurant</td>\n",
       "      <td>No</td>\n",
       "      <td>No</td>\n",
       "      <td>3.6/5</td>\n",
       "      <td>8</td>\n",
       "      <td>Mysore Road</td>\n",
       "      <td>Casual Dining</td>\n",
       "      <td>NaN</td>\n",
       "      <td>North Indian, South Indian, Andhra, Chinese</td>\n",
       "      <td>800</td>\n",
       "      <td>[('Rated 5.0', 'RATED\\n  Awesome food ??Great ...</td>\n",
       "      <td>[]</td>\n",
       "      <td>Buffet</td>\n",
       "      <td>Banashankari</td>\n",
       "    </tr>\n",
       "    <tr>\n",
       "      <th>19</th>\n",
       "      <td>360 Atoms Restaurant And Cafe</td>\n",
       "      <td>Yes</td>\n",
       "      <td>No</td>\n",
       "      <td>3.1/5</td>\n",
       "      <td>13</td>\n",
       "      <td>Banashankari</td>\n",
       "      <td>Cafe</td>\n",
       "      <td>NaN</td>\n",
       "      <td>Cafe, Chinese, Continental, Italian</td>\n",
       "      <td>400</td>\n",
       "      <td>[('Rated 5.0', 'RATED\\n  Friendly staffs , nic...</td>\n",
       "      <td>[]</td>\n",
       "      <td>Cafes</td>\n",
       "      <td>Banashankari</td>\n",
       "    </tr>\n",
       "    <tr>\n",
       "      <th>22</th>\n",
       "      <td>Cafe Coffee Day</td>\n",
       "      <td>No</td>\n",
       "      <td>No</td>\n",
       "      <td>3.6/5</td>\n",
       "      <td>28</td>\n",
       "      <td>Banashankari</td>\n",
       "      <td>Cafe</td>\n",
       "      <td>NaN</td>\n",
       "      <td>Cafe, Fast Food</td>\n",
       "      <td>900</td>\n",
       "      <td>[('Rated 4.0', 'RATED\\n  This outlet is better...</td>\n",
       "      <td>[]</td>\n",
       "      <td>Cafes</td>\n",
       "      <td>Banashankari</td>\n",
       "    </tr>\n",
       "    <tr>\n",
       "      <th>24</th>\n",
       "      <td>Hide Out Cafe</td>\n",
       "      <td>No</td>\n",
       "      <td>No</td>\n",
       "      <td>3.7/5</td>\n",
       "      <td>31</td>\n",
       "      <td>Banashankari</td>\n",
       "      <td>Cafe</td>\n",
       "      <td>NaN</td>\n",
       "      <td>Cafe</td>\n",
       "      <td>300</td>\n",
       "      <td>[('Rated 4.0', 'RATED\\n  The food was quite go...</td>\n",
       "      <td>[]</td>\n",
       "      <td>Cafes</td>\n",
       "      <td>Banashankari</td>\n",
       "    </tr>\n",
       "    <tr>\n",
       "      <th>25</th>\n",
       "      <td>CAFE NOVA</td>\n",
       "      <td>No</td>\n",
       "      <td>No</td>\n",
       "      <td>3.2/5</td>\n",
       "      <td>11</td>\n",
       "      <td>Banashankari</td>\n",
       "      <td>Cafe</td>\n",
       "      <td>NaN</td>\n",
       "      <td>Cafe, Bakery</td>\n",
       "      <td>600</td>\n",
       "      <td>[('Rated 1.0', \"RATED\\n  No ventilation. Smoke...</td>\n",
       "      <td>[]</td>\n",
       "      <td>Cafes</td>\n",
       "      <td>Banashankari</td>\n",
       "    </tr>\n",
       "    <tr>\n",
       "      <th>...</th>\n",
       "      <td>...</td>\n",
       "      <td>...</td>\n",
       "      <td>...</td>\n",
       "      <td>...</td>\n",
       "      <td>...</td>\n",
       "      <td>...</td>\n",
       "      <td>...</td>\n",
       "      <td>...</td>\n",
       "      <td>...</td>\n",
       "      <td>...</td>\n",
       "      <td>...</td>\n",
       "      <td>...</td>\n",
       "      <td>...</td>\n",
       "      <td>...</td>\n",
       "    </tr>\n",
       "    <tr>\n",
       "      <th>51710</th>\n",
       "      <td>Topsy Turvey</td>\n",
       "      <td>No</td>\n",
       "      <td>No</td>\n",
       "      <td>NaN</td>\n",
       "      <td>0</td>\n",
       "      <td>Whitefield</td>\n",
       "      <td>Bar</td>\n",
       "      <td>NaN</td>\n",
       "      <td>Finger Food</td>\n",
       "      <td>900</td>\n",
       "      <td>[('Rated 4.0', \"RATED\\n  A divine joint for Fl...</td>\n",
       "      <td>[]</td>\n",
       "      <td>Pubs and bars</td>\n",
       "      <td>Whitefield</td>\n",
       "    </tr>\n",
       "    <tr>\n",
       "      <th>51712</th>\n",
       "      <td>Best Brews - Four Points by Sheraton Bengaluru...</td>\n",
       "      <td>No</td>\n",
       "      <td>No</td>\n",
       "      <td>3.6 /5</td>\n",
       "      <td>27</td>\n",
       "      <td>Whitefield</td>\n",
       "      <td>Bar</td>\n",
       "      <td>NaN</td>\n",
       "      <td>Continental</td>\n",
       "      <td>1,500</td>\n",
       "      <td>[('Rated 5.0', \"RATED\\n  Food and service are ...</td>\n",
       "      <td>[]</td>\n",
       "      <td>Pubs and bars</td>\n",
       "      <td>Whitefield</td>\n",
       "    </tr>\n",
       "    <tr>\n",
       "      <th>51713</th>\n",
       "      <td>Vinod Bar And Restaurant</td>\n",
       "      <td>No</td>\n",
       "      <td>No</td>\n",
       "      <td>NaN</td>\n",
       "      <td>0</td>\n",
       "      <td>Whitefield</td>\n",
       "      <td>Bar</td>\n",
       "      <td>NaN</td>\n",
       "      <td>Finger Food</td>\n",
       "      <td>600</td>\n",
       "      <td>[]</td>\n",
       "      <td>[]</td>\n",
       "      <td>Pubs and bars</td>\n",
       "      <td>Whitefield</td>\n",
       "    </tr>\n",
       "    <tr>\n",
       "      <th>51714</th>\n",
       "      <td>Plunge - Sheraton Grand Bengaluru Whitefield H...</td>\n",
       "      <td>No</td>\n",
       "      <td>No</td>\n",
       "      <td>NaN</td>\n",
       "      <td>0</td>\n",
       "      <td>Whitefield</td>\n",
       "      <td>Bar</td>\n",
       "      <td>NaN</td>\n",
       "      <td>Finger Food</td>\n",
       "      <td>2,000</td>\n",
       "      <td>[]</td>\n",
       "      <td>[]</td>\n",
       "      <td>Pubs and bars</td>\n",
       "      <td>Whitefield</td>\n",
       "    </tr>\n",
       "    <tr>\n",
       "      <th>51716</th>\n",
       "      <td>The Nest - The Den Bengaluru</td>\n",
       "      <td>No</td>\n",
       "      <td>No</td>\n",
       "      <td>3.4 /5</td>\n",
       "      <td>13</td>\n",
       "      <td>ITPL Main Road, Whitefield</td>\n",
       "      <td>Bar, Casual Dining</td>\n",
       "      <td>NaN</td>\n",
       "      <td>Finger Food, North Indian, Continental</td>\n",
       "      <td>1,500</td>\n",
       "      <td>[('Rated 5.0', 'RATED\\n  Great ambience , look...</td>\n",
       "      <td>[]</td>\n",
       "      <td>Pubs and bars</td>\n",
       "      <td>Whitefield</td>\n",
       "    </tr>\n",
       "  </tbody>\n",
       "</table>\n",
       "<p>28027 rows × 14 columns</p>\n",
       "</div>"
      ],
      "text/plain": [
       "                                                    name online_order  \\\n",
       "6        Rosewood International Hotel - Bar & Restaurant           No   \n",
       "19                         360 Atoms Restaurant And Cafe          Yes   \n",
       "22                                       Cafe Coffee Day           No   \n",
       "24                                         Hide Out Cafe           No   \n",
       "25                                             CAFE NOVA           No   \n",
       "...                                                  ...          ...   \n",
       "51710                                       Topsy Turvey           No   \n",
       "51712  Best Brews - Four Points by Sheraton Bengaluru...           No   \n",
       "51713                           Vinod Bar And Restaurant           No   \n",
       "51714  Plunge - Sheraton Grand Bengaluru Whitefield H...           No   \n",
       "51716                       The Nest - The Den Bengaluru           No   \n",
       "\n",
       "      book_table    rate  votes                    location  \\\n",
       "6             No   3.6/5      8                 Mysore Road   \n",
       "19            No   3.1/5     13                Banashankari   \n",
       "22            No   3.6/5     28                Banashankari   \n",
       "24            No   3.7/5     31                Banashankari   \n",
       "25            No   3.2/5     11                Banashankari   \n",
       "...          ...     ...    ...                         ...   \n",
       "51710         No     NaN      0                  Whitefield   \n",
       "51712         No  3.6 /5     27                  Whitefield   \n",
       "51713         No     NaN      0                  Whitefield   \n",
       "51714         No     NaN      0                  Whitefield   \n",
       "51716         No  3.4 /5     13  ITPL Main Road, Whitefield   \n",
       "\n",
       "                rest_type dish_liked  \\\n",
       "6           Casual Dining        NaN   \n",
       "19                   Cafe        NaN   \n",
       "22                   Cafe        NaN   \n",
       "24                   Cafe        NaN   \n",
       "25                   Cafe        NaN   \n",
       "...                   ...        ...   \n",
       "51710                 Bar        NaN   \n",
       "51712                 Bar        NaN   \n",
       "51713                 Bar        NaN   \n",
       "51714                 Bar        NaN   \n",
       "51716  Bar, Casual Dining        NaN   \n",
       "\n",
       "                                          cuisines  \\\n",
       "6      North Indian, South Indian, Andhra, Chinese   \n",
       "19             Cafe, Chinese, Continental, Italian   \n",
       "22                                 Cafe, Fast Food   \n",
       "24                                            Cafe   \n",
       "25                                    Cafe, Bakery   \n",
       "...                                            ...   \n",
       "51710                                  Finger Food   \n",
       "51712                                  Continental   \n",
       "51713                                  Finger Food   \n",
       "51714                                  Finger Food   \n",
       "51716       Finger Food, North Indian, Continental   \n",
       "\n",
       "      approx_cost(for two people)  \\\n",
       "6                             800   \n",
       "19                            400   \n",
       "22                            900   \n",
       "24                            300   \n",
       "25                            600   \n",
       "...                           ...   \n",
       "51710                         900   \n",
       "51712                       1,500   \n",
       "51713                         600   \n",
       "51714                       2,000   \n",
       "51716                       1,500   \n",
       "\n",
       "                                            reviews_list menu_item  \\\n",
       "6      [('Rated 5.0', 'RATED\\n  Awesome food ??Great ...        []   \n",
       "19     [('Rated 5.0', 'RATED\\n  Friendly staffs , nic...        []   \n",
       "22     [('Rated 4.0', 'RATED\\n  This outlet is better...        []   \n",
       "24     [('Rated 4.0', 'RATED\\n  The food was quite go...        []   \n",
       "25     [('Rated 1.0', \"RATED\\n  No ventilation. Smoke...        []   \n",
       "...                                                  ...       ...   \n",
       "51710  [('Rated 4.0', \"RATED\\n  A divine joint for Fl...        []   \n",
       "51712  [('Rated 5.0', \"RATED\\n  Food and service are ...        []   \n",
       "51713                                                 []        []   \n",
       "51714                                                 []        []   \n",
       "51716  [('Rated 5.0', 'RATED\\n  Great ambience , look...        []   \n",
       "\n",
       "      listed_in(type) listed_in(city)  \n",
       "6              Buffet    Banashankari  \n",
       "19              Cafes    Banashankari  \n",
       "22              Cafes    Banashankari  \n",
       "24              Cafes    Banashankari  \n",
       "25              Cafes    Banashankari  \n",
       "...               ...             ...  \n",
       "51710   Pubs and bars      Whitefield  \n",
       "51712   Pubs and bars      Whitefield  \n",
       "51713   Pubs and bars      Whitefield  \n",
       "51714   Pubs and bars      Whitefield  \n",
       "51716   Pubs and bars      Whitefield  \n",
       "\n",
       "[28027 rows x 14 columns]"
      ]
     },
     "execution_count": 18,
     "metadata": {},
     "output_type": "execute_result"
    }
   ],
   "source": [
    "df[df['dish_liked'].isnull()]"
   ]
  },
  {
   "cell_type": "code",
   "execution_count": 19,
   "metadata": {},
   "outputs": [],
   "source": [
    "import numpy as np\n",
    "df['dish_liked'] = df['dish_liked'].replace(np.nan, 'not_available', regex=True)"
   ]
  },
  {
   "cell_type": "code",
   "execution_count": 20,
   "metadata": {},
   "outputs": [
    {
     "data": {
      "text/html": [
       "<div>\n",
       "<style scoped>\n",
       "    .dataframe tbody tr th:only-of-type {\n",
       "        vertical-align: middle;\n",
       "    }\n",
       "\n",
       "    .dataframe tbody tr th {\n",
       "        vertical-align: top;\n",
       "    }\n",
       "\n",
       "    .dataframe thead th {\n",
       "        text-align: right;\n",
       "    }\n",
       "</style>\n",
       "<table border=\"1\" class=\"dataframe\">\n",
       "  <thead>\n",
       "    <tr style=\"text-align: right;\">\n",
       "      <th></th>\n",
       "      <th>name</th>\n",
       "      <th>online_order</th>\n",
       "      <th>book_table</th>\n",
       "      <th>rate</th>\n",
       "      <th>votes</th>\n",
       "      <th>location</th>\n",
       "      <th>rest_type</th>\n",
       "      <th>dish_liked</th>\n",
       "      <th>cuisines</th>\n",
       "      <th>approx_cost(for two people)</th>\n",
       "      <th>reviews_list</th>\n",
       "      <th>menu_item</th>\n",
       "      <th>listed_in(type)</th>\n",
       "      <th>listed_in(city)</th>\n",
       "    </tr>\n",
       "  </thead>\n",
       "  <tbody>\n",
       "    <tr>\n",
       "      <th>6</th>\n",
       "      <td>Rosewood International Hotel - Bar &amp; Restaurant</td>\n",
       "      <td>No</td>\n",
       "      <td>No</td>\n",
       "      <td>3.6/5</td>\n",
       "      <td>8</td>\n",
       "      <td>Mysore Road</td>\n",
       "      <td>Casual Dining</td>\n",
       "      <td>not_available</td>\n",
       "      <td>North Indian, South Indian, Andhra, Chinese</td>\n",
       "      <td>800</td>\n",
       "      <td>[('Rated 5.0', 'RATED\\n  Awesome food ??Great ...</td>\n",
       "      <td>[]</td>\n",
       "      <td>Buffet</td>\n",
       "      <td>Banashankari</td>\n",
       "    </tr>\n",
       "    <tr>\n",
       "      <th>19</th>\n",
       "      <td>360 Atoms Restaurant And Cafe</td>\n",
       "      <td>Yes</td>\n",
       "      <td>No</td>\n",
       "      <td>3.1/5</td>\n",
       "      <td>13</td>\n",
       "      <td>Banashankari</td>\n",
       "      <td>Cafe</td>\n",
       "      <td>not_available</td>\n",
       "      <td>Cafe, Chinese, Continental, Italian</td>\n",
       "      <td>400</td>\n",
       "      <td>[('Rated 5.0', 'RATED\\n  Friendly staffs , nic...</td>\n",
       "      <td>[]</td>\n",
       "      <td>Cafes</td>\n",
       "      <td>Banashankari</td>\n",
       "    </tr>\n",
       "    <tr>\n",
       "      <th>22</th>\n",
       "      <td>Cafe Coffee Day</td>\n",
       "      <td>No</td>\n",
       "      <td>No</td>\n",
       "      <td>3.6/5</td>\n",
       "      <td>28</td>\n",
       "      <td>Banashankari</td>\n",
       "      <td>Cafe</td>\n",
       "      <td>not_available</td>\n",
       "      <td>Cafe, Fast Food</td>\n",
       "      <td>900</td>\n",
       "      <td>[('Rated 4.0', 'RATED\\n  This outlet is better...</td>\n",
       "      <td>[]</td>\n",
       "      <td>Cafes</td>\n",
       "      <td>Banashankari</td>\n",
       "    </tr>\n",
       "    <tr>\n",
       "      <th>24</th>\n",
       "      <td>Hide Out Cafe</td>\n",
       "      <td>No</td>\n",
       "      <td>No</td>\n",
       "      <td>3.7/5</td>\n",
       "      <td>31</td>\n",
       "      <td>Banashankari</td>\n",
       "      <td>Cafe</td>\n",
       "      <td>not_available</td>\n",
       "      <td>Cafe</td>\n",
       "      <td>300</td>\n",
       "      <td>[('Rated 4.0', 'RATED\\n  The food was quite go...</td>\n",
       "      <td>[]</td>\n",
       "      <td>Cafes</td>\n",
       "      <td>Banashankari</td>\n",
       "    </tr>\n",
       "    <tr>\n",
       "      <th>25</th>\n",
       "      <td>CAFE NOVA</td>\n",
       "      <td>No</td>\n",
       "      <td>No</td>\n",
       "      <td>3.2/5</td>\n",
       "      <td>11</td>\n",
       "      <td>Banashankari</td>\n",
       "      <td>Cafe</td>\n",
       "      <td>not_available</td>\n",
       "      <td>Cafe, Bakery</td>\n",
       "      <td>600</td>\n",
       "      <td>[('Rated 1.0', \"RATED\\n  No ventilation. Smoke...</td>\n",
       "      <td>[]</td>\n",
       "      <td>Cafes</td>\n",
       "      <td>Banashankari</td>\n",
       "    </tr>\n",
       "    <tr>\n",
       "      <th>...</th>\n",
       "      <td>...</td>\n",
       "      <td>...</td>\n",
       "      <td>...</td>\n",
       "      <td>...</td>\n",
       "      <td>...</td>\n",
       "      <td>...</td>\n",
       "      <td>...</td>\n",
       "      <td>...</td>\n",
       "      <td>...</td>\n",
       "      <td>...</td>\n",
       "      <td>...</td>\n",
       "      <td>...</td>\n",
       "      <td>...</td>\n",
       "      <td>...</td>\n",
       "    </tr>\n",
       "    <tr>\n",
       "      <th>51710</th>\n",
       "      <td>Topsy Turvey</td>\n",
       "      <td>No</td>\n",
       "      <td>No</td>\n",
       "      <td>NaN</td>\n",
       "      <td>0</td>\n",
       "      <td>Whitefield</td>\n",
       "      <td>Bar</td>\n",
       "      <td>not_available</td>\n",
       "      <td>Finger Food</td>\n",
       "      <td>900</td>\n",
       "      <td>[('Rated 4.0', \"RATED\\n  A divine joint for Fl...</td>\n",
       "      <td>[]</td>\n",
       "      <td>Pubs and bars</td>\n",
       "      <td>Whitefield</td>\n",
       "    </tr>\n",
       "    <tr>\n",
       "      <th>51712</th>\n",
       "      <td>Best Brews - Four Points by Sheraton Bengaluru...</td>\n",
       "      <td>No</td>\n",
       "      <td>No</td>\n",
       "      <td>3.6 /5</td>\n",
       "      <td>27</td>\n",
       "      <td>Whitefield</td>\n",
       "      <td>Bar</td>\n",
       "      <td>not_available</td>\n",
       "      <td>Continental</td>\n",
       "      <td>1,500</td>\n",
       "      <td>[('Rated 5.0', \"RATED\\n  Food and service are ...</td>\n",
       "      <td>[]</td>\n",
       "      <td>Pubs and bars</td>\n",
       "      <td>Whitefield</td>\n",
       "    </tr>\n",
       "    <tr>\n",
       "      <th>51713</th>\n",
       "      <td>Vinod Bar And Restaurant</td>\n",
       "      <td>No</td>\n",
       "      <td>No</td>\n",
       "      <td>NaN</td>\n",
       "      <td>0</td>\n",
       "      <td>Whitefield</td>\n",
       "      <td>Bar</td>\n",
       "      <td>not_available</td>\n",
       "      <td>Finger Food</td>\n",
       "      <td>600</td>\n",
       "      <td>[]</td>\n",
       "      <td>[]</td>\n",
       "      <td>Pubs and bars</td>\n",
       "      <td>Whitefield</td>\n",
       "    </tr>\n",
       "    <tr>\n",
       "      <th>51714</th>\n",
       "      <td>Plunge - Sheraton Grand Bengaluru Whitefield H...</td>\n",
       "      <td>No</td>\n",
       "      <td>No</td>\n",
       "      <td>NaN</td>\n",
       "      <td>0</td>\n",
       "      <td>Whitefield</td>\n",
       "      <td>Bar</td>\n",
       "      <td>not_available</td>\n",
       "      <td>Finger Food</td>\n",
       "      <td>2,000</td>\n",
       "      <td>[]</td>\n",
       "      <td>[]</td>\n",
       "      <td>Pubs and bars</td>\n",
       "      <td>Whitefield</td>\n",
       "    </tr>\n",
       "    <tr>\n",
       "      <th>51716</th>\n",
       "      <td>The Nest - The Den Bengaluru</td>\n",
       "      <td>No</td>\n",
       "      <td>No</td>\n",
       "      <td>3.4 /5</td>\n",
       "      <td>13</td>\n",
       "      <td>ITPL Main Road, Whitefield</td>\n",
       "      <td>Bar, Casual Dining</td>\n",
       "      <td>not_available</td>\n",
       "      <td>Finger Food, North Indian, Continental</td>\n",
       "      <td>1,500</td>\n",
       "      <td>[('Rated 5.0', 'RATED\\n  Great ambience , look...</td>\n",
       "      <td>[]</td>\n",
       "      <td>Pubs and bars</td>\n",
       "      <td>Whitefield</td>\n",
       "    </tr>\n",
       "  </tbody>\n",
       "</table>\n",
       "<p>28027 rows × 14 columns</p>\n",
       "</div>"
      ],
      "text/plain": [
       "                                                    name online_order  \\\n",
       "6        Rosewood International Hotel - Bar & Restaurant           No   \n",
       "19                         360 Atoms Restaurant And Cafe          Yes   \n",
       "22                                       Cafe Coffee Day           No   \n",
       "24                                         Hide Out Cafe           No   \n",
       "25                                             CAFE NOVA           No   \n",
       "...                                                  ...          ...   \n",
       "51710                                       Topsy Turvey           No   \n",
       "51712  Best Brews - Four Points by Sheraton Bengaluru...           No   \n",
       "51713                           Vinod Bar And Restaurant           No   \n",
       "51714  Plunge - Sheraton Grand Bengaluru Whitefield H...           No   \n",
       "51716                       The Nest - The Den Bengaluru           No   \n",
       "\n",
       "      book_table    rate  votes                    location  \\\n",
       "6             No   3.6/5      8                 Mysore Road   \n",
       "19            No   3.1/5     13                Banashankari   \n",
       "22            No   3.6/5     28                Banashankari   \n",
       "24            No   3.7/5     31                Banashankari   \n",
       "25            No   3.2/5     11                Banashankari   \n",
       "...          ...     ...    ...                         ...   \n",
       "51710         No     NaN      0                  Whitefield   \n",
       "51712         No  3.6 /5     27                  Whitefield   \n",
       "51713         No     NaN      0                  Whitefield   \n",
       "51714         No     NaN      0                  Whitefield   \n",
       "51716         No  3.4 /5     13  ITPL Main Road, Whitefield   \n",
       "\n",
       "                rest_type     dish_liked  \\\n",
       "6           Casual Dining  not_available   \n",
       "19                   Cafe  not_available   \n",
       "22                   Cafe  not_available   \n",
       "24                   Cafe  not_available   \n",
       "25                   Cafe  not_available   \n",
       "...                   ...            ...   \n",
       "51710                 Bar  not_available   \n",
       "51712                 Bar  not_available   \n",
       "51713                 Bar  not_available   \n",
       "51714                 Bar  not_available   \n",
       "51716  Bar, Casual Dining  not_available   \n",
       "\n",
       "                                          cuisines  \\\n",
       "6      North Indian, South Indian, Andhra, Chinese   \n",
       "19             Cafe, Chinese, Continental, Italian   \n",
       "22                                 Cafe, Fast Food   \n",
       "24                                            Cafe   \n",
       "25                                    Cafe, Bakery   \n",
       "...                                            ...   \n",
       "51710                                  Finger Food   \n",
       "51712                                  Continental   \n",
       "51713                                  Finger Food   \n",
       "51714                                  Finger Food   \n",
       "51716       Finger Food, North Indian, Continental   \n",
       "\n",
       "      approx_cost(for two people)  \\\n",
       "6                             800   \n",
       "19                            400   \n",
       "22                            900   \n",
       "24                            300   \n",
       "25                            600   \n",
       "...                           ...   \n",
       "51710                         900   \n",
       "51712                       1,500   \n",
       "51713                         600   \n",
       "51714                       2,000   \n",
       "51716                       1,500   \n",
       "\n",
       "                                            reviews_list menu_item  \\\n",
       "6      [('Rated 5.0', 'RATED\\n  Awesome food ??Great ...        []   \n",
       "19     [('Rated 5.0', 'RATED\\n  Friendly staffs , nic...        []   \n",
       "22     [('Rated 4.0', 'RATED\\n  This outlet is better...        []   \n",
       "24     [('Rated 4.0', 'RATED\\n  The food was quite go...        []   \n",
       "25     [('Rated 1.0', \"RATED\\n  No ventilation. Smoke...        []   \n",
       "...                                                  ...       ...   \n",
       "51710  [('Rated 4.0', \"RATED\\n  A divine joint for Fl...        []   \n",
       "51712  [('Rated 5.0', \"RATED\\n  Food and service are ...        []   \n",
       "51713                                                 []        []   \n",
       "51714                                                 []        []   \n",
       "51716  [('Rated 5.0', 'RATED\\n  Great ambience , look...        []   \n",
       "\n",
       "      listed_in(type) listed_in(city)  \n",
       "6              Buffet    Banashankari  \n",
       "19              Cafes    Banashankari  \n",
       "22              Cafes    Banashankari  \n",
       "24              Cafes    Banashankari  \n",
       "25              Cafes    Banashankari  \n",
       "...               ...             ...  \n",
       "51710   Pubs and bars      Whitefield  \n",
       "51712   Pubs and bars      Whitefield  \n",
       "51713   Pubs and bars      Whitefield  \n",
       "51714   Pubs and bars      Whitefield  \n",
       "51716   Pubs and bars      Whitefield  \n",
       "\n",
       "[28027 rows x 14 columns]"
      ]
     },
     "execution_count": 20,
     "metadata": {},
     "output_type": "execute_result"
    }
   ],
   "source": [
    "df[df['dish_liked']=='not_available']"
   ]
  },
  {
   "cell_type": "code",
   "execution_count": 21,
   "metadata": {},
   "outputs": [
    {
     "data": {
      "text/plain": [
       "name                              0\n",
       "online_order                      0\n",
       "book_table                        0\n",
       "rate                           7760\n",
       "votes                             0\n",
       "location                         21\n",
       "rest_type                       227\n",
       "dish_liked                        0\n",
       "cuisines                         45\n",
       "approx_cost(for two people)     345\n",
       "reviews_list                      0\n",
       "menu_item                         0\n",
       "listed_in(type)                   0\n",
       "listed_in(city)                   0\n",
       "dtype: int64"
      ]
     },
     "execution_count": 21,
     "metadata": {},
     "output_type": "execute_result"
    }
   ],
   "source": [
    "df.isna().sum() #Checking null values\n"
   ]
  },
  {
   "cell_type": "code",
   "execution_count": 22,
   "metadata": {},
   "outputs": [
    {
     "data": {
      "text/html": [
       "<div>\n",
       "<style scoped>\n",
       "    .dataframe tbody tr th:only-of-type {\n",
       "        vertical-align: middle;\n",
       "    }\n",
       "\n",
       "    .dataframe tbody tr th {\n",
       "        vertical-align: top;\n",
       "    }\n",
       "\n",
       "    .dataframe thead th {\n",
       "        text-align: right;\n",
       "    }\n",
       "</style>\n",
       "<table border=\"1\" class=\"dataframe\">\n",
       "  <thead>\n",
       "    <tr style=\"text-align: right;\">\n",
       "      <th></th>\n",
       "      <th>name</th>\n",
       "      <th>online_order</th>\n",
       "      <th>book_table</th>\n",
       "      <th>rate</th>\n",
       "      <th>votes</th>\n",
       "      <th>location</th>\n",
       "      <th>rest_type</th>\n",
       "      <th>dish_liked</th>\n",
       "      <th>cuisines</th>\n",
       "      <th>approx_cost(for two people)</th>\n",
       "      <th>reviews_list</th>\n",
       "      <th>menu_item</th>\n",
       "      <th>listed_in(type)</th>\n",
       "      <th>listed_in(city)</th>\n",
       "    </tr>\n",
       "  </thead>\n",
       "  <tbody>\n",
       "    <tr>\n",
       "      <th>84</th>\n",
       "      <td>Chill Out</td>\n",
       "      <td>No</td>\n",
       "      <td>No</td>\n",
       "      <td>NaN</td>\n",
       "      <td>0</td>\n",
       "      <td>Banashankari</td>\n",
       "      <td>Quick Bites</td>\n",
       "      <td>not_available</td>\n",
       "      <td>South Indian, Chinese</td>\n",
       "      <td>100</td>\n",
       "      <td>[('Rated 4.0', 'RATED\\n  Good Location. Small ...</td>\n",
       "      <td>[]</td>\n",
       "      <td>Delivery</td>\n",
       "      <td>Banashankari</td>\n",
       "    </tr>\n",
       "    <tr>\n",
       "      <th>90</th>\n",
       "      <td>Me And My Cake</td>\n",
       "      <td>No</td>\n",
       "      <td>No</td>\n",
       "      <td>NaN</td>\n",
       "      <td>0</td>\n",
       "      <td>Banashankari</td>\n",
       "      <td>Delivery</td>\n",
       "      <td>not_available</td>\n",
       "      <td>Bakery, Desserts</td>\n",
       "      <td>500</td>\n",
       "      <td>[('Rated 1.0', 'RATED\\n  Do not order anything...</td>\n",
       "      <td>[]</td>\n",
       "      <td>Delivery</td>\n",
       "      <td>Banashankari</td>\n",
       "    </tr>\n",
       "    <tr>\n",
       "      <th>91</th>\n",
       "      <td>Sunsadm</td>\n",
       "      <td>No</td>\n",
       "      <td>No</td>\n",
       "      <td>NaN</td>\n",
       "      <td>0</td>\n",
       "      <td>Banashankari</td>\n",
       "      <td>Takeaway, Delivery</td>\n",
       "      <td>not_available</td>\n",
       "      <td>South Indian</td>\n",
       "      <td>400</td>\n",
       "      <td>[]</td>\n",
       "      <td>[]</td>\n",
       "      <td>Delivery</td>\n",
       "      <td>Banashankari</td>\n",
       "    </tr>\n",
       "    <tr>\n",
       "      <th>92</th>\n",
       "      <td>Annapooraneshwari Mess</td>\n",
       "      <td>No</td>\n",
       "      <td>No</td>\n",
       "      <td>NaN</td>\n",
       "      <td>0</td>\n",
       "      <td>Banashankari</td>\n",
       "      <td>Mess</td>\n",
       "      <td>not_available</td>\n",
       "      <td>South Indian</td>\n",
       "      <td>200</td>\n",
       "      <td>[]</td>\n",
       "      <td>[]</td>\n",
       "      <td>Delivery</td>\n",
       "      <td>Banashankari</td>\n",
       "    </tr>\n",
       "    <tr>\n",
       "      <th>107</th>\n",
       "      <td>Coffee Shopee</td>\n",
       "      <td>No</td>\n",
       "      <td>No</td>\n",
       "      <td>NaN</td>\n",
       "      <td>0</td>\n",
       "      <td>Banashankari</td>\n",
       "      <td>Takeaway, Delivery</td>\n",
       "      <td>not_available</td>\n",
       "      <td>Beverages</td>\n",
       "      <td>250</td>\n",
       "      <td>[]</td>\n",
       "      <td>[]</td>\n",
       "      <td>Delivery</td>\n",
       "      <td>Banashankari</td>\n",
       "    </tr>\n",
       "    <tr>\n",
       "      <th>...</th>\n",
       "      <td>...</td>\n",
       "      <td>...</td>\n",
       "      <td>...</td>\n",
       "      <td>...</td>\n",
       "      <td>...</td>\n",
       "      <td>...</td>\n",
       "      <td>...</td>\n",
       "      <td>...</td>\n",
       "      <td>...</td>\n",
       "      <td>...</td>\n",
       "      <td>...</td>\n",
       "      <td>...</td>\n",
       "      <td>...</td>\n",
       "      <td>...</td>\n",
       "    </tr>\n",
       "    <tr>\n",
       "      <th>51644</th>\n",
       "      <td>Punjabi Thadka</td>\n",
       "      <td>No</td>\n",
       "      <td>No</td>\n",
       "      <td>NaN</td>\n",
       "      <td>0</td>\n",
       "      <td>Brookefield</td>\n",
       "      <td>Quick Bites</td>\n",
       "      <td>not_available</td>\n",
       "      <td>North Indian</td>\n",
       "      <td>400</td>\n",
       "      <td>[]</td>\n",
       "      <td>[]</td>\n",
       "      <td>Dine-out</td>\n",
       "      <td>Whitefield</td>\n",
       "    </tr>\n",
       "    <tr>\n",
       "      <th>51675</th>\n",
       "      <td>Topsy Turvey</td>\n",
       "      <td>No</td>\n",
       "      <td>No</td>\n",
       "      <td>NaN</td>\n",
       "      <td>0</td>\n",
       "      <td>Whitefield</td>\n",
       "      <td>Bar</td>\n",
       "      <td>not_available</td>\n",
       "      <td>Finger Food</td>\n",
       "      <td>900</td>\n",
       "      <td>[('Rated 4.0', \"RATED\\n  A divine joint for Fl...</td>\n",
       "      <td>[]</td>\n",
       "      <td>Drinks &amp; nightlife</td>\n",
       "      <td>Whitefield</td>\n",
       "    </tr>\n",
       "    <tr>\n",
       "      <th>51710</th>\n",
       "      <td>Topsy Turvey</td>\n",
       "      <td>No</td>\n",
       "      <td>No</td>\n",
       "      <td>NaN</td>\n",
       "      <td>0</td>\n",
       "      <td>Whitefield</td>\n",
       "      <td>Bar</td>\n",
       "      <td>not_available</td>\n",
       "      <td>Finger Food</td>\n",
       "      <td>900</td>\n",
       "      <td>[('Rated 4.0', \"RATED\\n  A divine joint for Fl...</td>\n",
       "      <td>[]</td>\n",
       "      <td>Pubs and bars</td>\n",
       "      <td>Whitefield</td>\n",
       "    </tr>\n",
       "    <tr>\n",
       "      <th>51713</th>\n",
       "      <td>Vinod Bar And Restaurant</td>\n",
       "      <td>No</td>\n",
       "      <td>No</td>\n",
       "      <td>NaN</td>\n",
       "      <td>0</td>\n",
       "      <td>Whitefield</td>\n",
       "      <td>Bar</td>\n",
       "      <td>not_available</td>\n",
       "      <td>Finger Food</td>\n",
       "      <td>600</td>\n",
       "      <td>[]</td>\n",
       "      <td>[]</td>\n",
       "      <td>Pubs and bars</td>\n",
       "      <td>Whitefield</td>\n",
       "    </tr>\n",
       "    <tr>\n",
       "      <th>51714</th>\n",
       "      <td>Plunge - Sheraton Grand Bengaluru Whitefield H...</td>\n",
       "      <td>No</td>\n",
       "      <td>No</td>\n",
       "      <td>NaN</td>\n",
       "      <td>0</td>\n",
       "      <td>Whitefield</td>\n",
       "      <td>Bar</td>\n",
       "      <td>not_available</td>\n",
       "      <td>Finger Food</td>\n",
       "      <td>2,000</td>\n",
       "      <td>[]</td>\n",
       "      <td>[]</td>\n",
       "      <td>Pubs and bars</td>\n",
       "      <td>Whitefield</td>\n",
       "    </tr>\n",
       "  </tbody>\n",
       "</table>\n",
       "<p>7760 rows × 14 columns</p>\n",
       "</div>"
      ],
      "text/plain": [
       "                                                    name online_order  \\\n",
       "84                                             Chill Out           No   \n",
       "90                                        Me And My Cake           No   \n",
       "91                                               Sunsadm           No   \n",
       "92                                Annapooraneshwari Mess           No   \n",
       "107                                        Coffee Shopee           No   \n",
       "...                                                  ...          ...   \n",
       "51644                                     Punjabi Thadka           No   \n",
       "51675                                       Topsy Turvey           No   \n",
       "51710                                       Topsy Turvey           No   \n",
       "51713                           Vinod Bar And Restaurant           No   \n",
       "51714  Plunge - Sheraton Grand Bengaluru Whitefield H...           No   \n",
       "\n",
       "      book_table rate  votes      location           rest_type     dish_liked  \\\n",
       "84            No  NaN      0  Banashankari         Quick Bites  not_available   \n",
       "90            No  NaN      0  Banashankari            Delivery  not_available   \n",
       "91            No  NaN      0  Banashankari  Takeaway, Delivery  not_available   \n",
       "92            No  NaN      0  Banashankari                Mess  not_available   \n",
       "107           No  NaN      0  Banashankari  Takeaway, Delivery  not_available   \n",
       "...          ...  ...    ...           ...                 ...            ...   \n",
       "51644         No  NaN      0   Brookefield         Quick Bites  not_available   \n",
       "51675         No  NaN      0    Whitefield                 Bar  not_available   \n",
       "51710         No  NaN      0    Whitefield                 Bar  not_available   \n",
       "51713         No  NaN      0    Whitefield                 Bar  not_available   \n",
       "51714         No  NaN      0    Whitefield                 Bar  not_available   \n",
       "\n",
       "                    cuisines approx_cost(for two people)  \\\n",
       "84     South Indian, Chinese                         100   \n",
       "90          Bakery, Desserts                         500   \n",
       "91              South Indian                         400   \n",
       "92              South Indian                         200   \n",
       "107                Beverages                         250   \n",
       "...                      ...                         ...   \n",
       "51644           North Indian                         400   \n",
       "51675            Finger Food                         900   \n",
       "51710            Finger Food                         900   \n",
       "51713            Finger Food                         600   \n",
       "51714            Finger Food                       2,000   \n",
       "\n",
       "                                            reviews_list menu_item  \\\n",
       "84     [('Rated 4.0', 'RATED\\n  Good Location. Small ...        []   \n",
       "90     [('Rated 1.0', 'RATED\\n  Do not order anything...        []   \n",
       "91                                                    []        []   \n",
       "92                                                    []        []   \n",
       "107                                                   []        []   \n",
       "...                                                  ...       ...   \n",
       "51644                                                 []        []   \n",
       "51675  [('Rated 4.0', \"RATED\\n  A divine joint for Fl...        []   \n",
       "51710  [('Rated 4.0', \"RATED\\n  A divine joint for Fl...        []   \n",
       "51713                                                 []        []   \n",
       "51714                                                 []        []   \n",
       "\n",
       "          listed_in(type) listed_in(city)  \n",
       "84               Delivery    Banashankari  \n",
       "90               Delivery    Banashankari  \n",
       "91               Delivery    Banashankari  \n",
       "92               Delivery    Banashankari  \n",
       "107              Delivery    Banashankari  \n",
       "...                   ...             ...  \n",
       "51644            Dine-out      Whitefield  \n",
       "51675  Drinks & nightlife      Whitefield  \n",
       "51710       Pubs and bars      Whitefield  \n",
       "51713       Pubs and bars      Whitefield  \n",
       "51714       Pubs and bars      Whitefield  \n",
       "\n",
       "[7760 rows x 14 columns]"
      ]
     },
     "execution_count": 22,
     "metadata": {},
     "output_type": "execute_result"
    }
   ],
   "source": [
    "df[df['rate'].isnull()]"
   ]
  },
  {
   "cell_type": "markdown",
   "metadata": {},
   "source": [
    "### Drop null values"
   ]
  },
  {
   "cell_type": "code",
   "execution_count": 23,
   "metadata": {},
   "outputs": [
    {
     "data": {
      "text/plain": [
       "name                           0\n",
       "online_order                   0\n",
       "book_table                     0\n",
       "rate                           0\n",
       "votes                          0\n",
       "location                       0\n",
       "rest_type                      0\n",
       "dish_liked                     0\n",
       "cuisines                       0\n",
       "approx_cost(for two people)    0\n",
       "reviews_list                   0\n",
       "menu_item                      0\n",
       "listed_in(type)                0\n",
       "listed_in(city)                0\n",
       "dtype: int64"
      ]
     },
     "execution_count": 23,
     "metadata": {},
     "output_type": "execute_result"
    }
   ],
   "source": [
    "df.dropna(how='any',inplace=True)\n",
    "df.isnull().sum()"
   ]
  },
  {
   "cell_type": "code",
   "execution_count": 24,
   "metadata": {},
   "outputs": [
    {
     "data": {
      "text/plain": [
       "(43486, 14)"
      ]
     },
     "execution_count": 24,
     "metadata": {},
     "output_type": "execute_result"
    }
   ],
   "source": [
    "df.shape"
   ]
  },
  {
   "cell_type": "code",
   "execution_count": 25,
   "metadata": {},
   "outputs": [
    {
     "data": {
      "text/plain": [
       "Index(['name', 'online_order', 'book_table', 'rate', 'votes', 'location',\n",
       "       'rest_type', 'dish_liked', 'cuisines', 'cost', 'reviews_list',\n",
       "       'menu_item', 'type', 'city'],\n",
       "      dtype='object')"
      ]
     },
     "execution_count": 25,
     "metadata": {},
     "output_type": "execute_result"
    }
   ],
   "source": [
    "df = df.rename(columns={'approx_cost(for two people)':'cost','listed_in(type)':'type',\n",
    "                                  'listed_in(city)':'city'})\n",
    "df.columns"
   ]
  },
  {
   "cell_type": "markdown",
   "metadata": {},
   "source": [
    "##### cost column"
   ]
  },
  {
   "cell_type": "code",
   "execution_count": 26,
   "metadata": {},
   "outputs": [
    {
     "data": {
      "text/plain": [
       "array(['800', '300', '600', '700', '550', '500', '450', '650', '400',\n",
       "       '900', '200', '750', '150', '850', '100', '1,200', '350', '250',\n",
       "       '950', '1,000', '1,500', '1,300', '199', '80', '1,100', '160',\n",
       "       '1,600', '230', '130', '1,700', '1,400', '1,350', '2,200', '2,000',\n",
       "       '1,800', '1,900', '180', '330', '2,500', '2,100', '3,000', '2,800',\n",
       "       '3,400', '50', '40', '1,250', '3,500', '4,000', '2,400', '2,600',\n",
       "       '1,450', '70', '3,200', '560', '240', '360', '6,000', '1,050',\n",
       "       '2,300', '4,100', '120', '5,000', '3,700', '1,650', '2,700',\n",
       "       '4,500'], dtype=object)"
      ]
     },
     "execution_count": 26,
     "metadata": {},
     "output_type": "execute_result"
    }
   ],
   "source": [
    "df['cost'].unique()\n"
   ]
  },
  {
   "cell_type": "code",
   "execution_count": 27,
   "metadata": {},
   "outputs": [],
   "source": [
    "df['cost'] = df['cost'].apply(lambda x: x.replace(',','')) #Using lambda function to replace ',' from cost\n",
    "df['cost'] = df['cost'].astype(float)"
   ]
  },
  {
   "cell_type": "code",
   "execution_count": 28,
   "metadata": {},
   "outputs": [
    {
     "data": {
      "text/plain": [
       "array([ 800.,  300.,  600.,  700.,  550.,  500.,  450.,  650.,  400.,\n",
       "        900.,  200.,  750.,  150.,  850.,  100., 1200.,  350.,  250.,\n",
       "        950., 1000., 1500., 1300.,  199.,   80., 1100.,  160., 1600.,\n",
       "        230.,  130., 1700., 1400., 1350., 2200., 2000., 1800., 1900.,\n",
       "        180.,  330., 2500., 2100., 3000., 2800., 3400.,   50.,   40.,\n",
       "       1250., 3500., 4000., 2400., 2600., 1450.,   70., 3200.,  560.,\n",
       "        240.,  360., 6000., 1050., 2300., 4100.,  120., 5000., 3700.,\n",
       "       1650., 2700., 4500.])"
      ]
     },
     "execution_count": 28,
     "metadata": {},
     "output_type": "execute_result"
    }
   ],
   "source": [
    "df['cost'].unique()"
   ]
  },
  {
   "cell_type": "code",
   "execution_count": 29,
   "metadata": {},
   "outputs": [
    {
     "data": {
      "text/plain": [
       "name             object\n",
       "online_order     object\n",
       "book_table       object\n",
       "rate             object\n",
       "votes             int64\n",
       "location         object\n",
       "rest_type        object\n",
       "dish_liked       object\n",
       "cuisines         object\n",
       "cost            float64\n",
       "reviews_list     object\n",
       "menu_item        object\n",
       "type             object\n",
       "city             object\n",
       "dtype: object"
      ]
     },
     "execution_count": 29,
     "metadata": {},
     "output_type": "execute_result"
    }
   ],
   "source": [
    "df.dtypes\n"
   ]
  },
  {
   "cell_type": "markdown",
   "metadata": {},
   "source": [
    "#### Rate column"
   ]
  },
  {
   "cell_type": "code",
   "execution_count": 30,
   "metadata": {},
   "outputs": [
    {
     "data": {
      "text/plain": [
       "array(['4.1/5', '3.8/5', '3.7/5', '3.6/5', '4.6/5', '4.0/5', '4.2/5',\n",
       "       '3.9/5', '3.1/5', '3.0/5', '3.2/5', '3.3/5', '2.8/5', '4.4/5',\n",
       "       '4.3/5', 'NEW', '2.9/5', '3.5/5', '2.6/5', '3.8 /5', '3.4/5',\n",
       "       '4.5/5', '2.5/5', '2.7/5', '4.7/5', '2.4/5', '2.2/5', '2.3/5',\n",
       "       '3.4 /5', '-', '3.6 /5', '4.8/5', '3.9 /5', '4.2 /5', '4.0 /5',\n",
       "       '4.1 /5', '3.7 /5', '3.1 /5', '2.9 /5', '3.3 /5', '2.8 /5',\n",
       "       '3.5 /5', '2.7 /5', '2.5 /5', '3.2 /5', '2.6 /5', '4.5 /5',\n",
       "       '4.3 /5', '4.4 /5', '4.9/5', '2.1/5', '2.0/5', '1.8/5', '4.6 /5',\n",
       "       '4.9 /5', '3.0 /5', '4.8 /5', '2.3 /5', '4.7 /5', '2.4 /5',\n",
       "       '2.1 /5', '2.2 /5', '2.0 /5', '1.8 /5'], dtype=object)"
      ]
     },
     "execution_count": 30,
     "metadata": {},
     "output_type": "execute_result"
    }
   ],
   "source": [
    "\n",
    "df['rate'].unique()"
   ]
  },
  {
   "cell_type": "code",
   "execution_count": 31,
   "metadata": {},
   "outputs": [
    {
     "data": {
      "text/plain": [
       "43486"
      ]
     },
     "execution_count": 31,
     "metadata": {},
     "output_type": "execute_result"
    }
   ],
   "source": [
    "df.shape[0]"
   ]
  },
  {
   "cell_type": "code",
   "execution_count": 32,
   "metadata": {},
   "outputs": [
    {
     "data": {
      "text/plain": [
       "2195"
      ]
     },
     "execution_count": 32,
     "metadata": {},
     "output_type": "execute_result"
    }
   ],
   "source": [
    "df[df['rate'] == 'NEW']['rate'].count()"
   ]
  },
  {
   "cell_type": "code",
   "execution_count": 33,
   "metadata": {},
   "outputs": [
    {
     "data": {
      "text/plain": [
       "65"
      ]
     },
     "execution_count": 33,
     "metadata": {},
     "output_type": "execute_result"
    }
   ],
   "source": [
    "df[df['rate'] == '-']['rate'].count()"
   ]
  },
  {
   "cell_type": "code",
   "execution_count": 34,
   "metadata": {},
   "outputs": [],
   "source": [
    "df = df.loc[df.rate !='NEW'] #getting rid of \"NEW\" \n"
   ]
  },
  {
   "cell_type": "code",
   "execution_count": 35,
   "metadata": {},
   "outputs": [
    {
     "data": {
      "text/plain": [
       "(41291, 14)"
      ]
     },
     "execution_count": 35,
     "metadata": {},
     "output_type": "execute_result"
    }
   ],
   "source": [
    "df.shape"
   ]
  },
  {
   "cell_type": "code",
   "execution_count": 36,
   "metadata": {},
   "outputs": [],
   "source": [
    "df = df.loc[df.rate !='-'] #getting rid of '-'\n"
   ]
  },
  {
   "cell_type": "code",
   "execution_count": 37,
   "metadata": {},
   "outputs": [
    {
     "data": {
      "text/plain": [
       "(41226, 14)"
      ]
     },
     "execution_count": 37,
     "metadata": {},
     "output_type": "execute_result"
    }
   ],
   "source": [
    "df.shape"
   ]
  },
  {
   "cell_type": "code",
   "execution_count": 38,
   "metadata": {},
   "outputs": [
    {
     "data": {
      "text/plain": [
       "array(['4.1/5', '3.8/5', '3.7/5', '3.6/5', '4.6/5', '4.0/5', '4.2/5',\n",
       "       '3.9/5', '3.1/5', '3.0/5', '3.2/5', '3.3/5', '2.8/5', '4.4/5',\n",
       "       '4.3/5', '2.9/5', '3.5/5', '2.6/5', '3.8 /5', '3.4/5', '4.5/5',\n",
       "       '2.5/5', '2.7/5', '4.7/5', '2.4/5', '2.2/5', '2.3/5', '3.4 /5',\n",
       "       '3.6 /5', '4.8/5', '3.9 /5', '4.2 /5', '4.0 /5', '4.1 /5',\n",
       "       '3.7 /5', '3.1 /5', '2.9 /5', '3.3 /5', '2.8 /5', '3.5 /5',\n",
       "       '2.7 /5', '2.5 /5', '3.2 /5', '2.6 /5', '4.5 /5', '4.3 /5',\n",
       "       '4.4 /5', '4.9/5', '2.1/5', '2.0/5', '1.8/5', '4.6 /5', '4.9 /5',\n",
       "       '3.0 /5', '4.8 /5', '2.3 /5', '4.7 /5', '2.4 /5', '2.1 /5',\n",
       "       '2.2 /5', '2.0 /5', '1.8 /5'], dtype=object)"
      ]
     },
     "execution_count": 38,
     "metadata": {},
     "output_type": "execute_result"
    }
   ],
   "source": [
    "df['rate'].unique()\n"
   ]
  },
  {
   "cell_type": "code",
   "execution_count": 39,
   "metadata": {},
   "outputs": [],
   "source": [
    "#Removing '/5' from Rates\n",
    "\n",
    "df['rate'] = df['rate'].apply(lambda x: x.replace('/5',''))"
   ]
  },
  {
   "cell_type": "code",
   "execution_count": 40,
   "metadata": {},
   "outputs": [
    {
     "data": {
      "text/plain": [
       "array(['4.1', '3.8', '3.7', '3.6', '4.6', '4.0', '4.2', '3.9', '3.1',\n",
       "       '3.0', '3.2', '3.3', '2.8', '4.4', '4.3', '2.9', '3.5', '2.6',\n",
       "       '3.8 ', '3.4', '4.5', '2.5', '2.7', '4.7', '2.4', '2.2', '2.3',\n",
       "       '3.4 ', '3.6 ', '4.8', '3.9 ', '4.2 ', '4.0 ', '4.1 ', '3.7 ',\n",
       "       '3.1 ', '2.9 ', '3.3 ', '2.8 ', '3.5 ', '2.7 ', '2.5 ', '3.2 ',\n",
       "       '2.6 ', '4.5 ', '4.3 ', '4.4 ', '4.9', '2.1', '2.0', '1.8', '4.6 ',\n",
       "       '4.9 ', '3.0 ', '4.8 ', '2.3 ', '4.7 ', '2.4 ', '2.1 ', '2.2 ',\n",
       "       '2.0 ', '1.8 '], dtype=object)"
      ]
     },
     "execution_count": 40,
     "metadata": {},
     "output_type": "execute_result"
    }
   ],
   "source": [
    "df['rate'].unique()\n"
   ]
  },
  {
   "cell_type": "code",
   "execution_count": 41,
   "metadata": {},
   "outputs": [],
   "source": [
    "df['rate'] = df['rate'].astype(float)"
   ]
  },
  {
   "cell_type": "code",
   "execution_count": 42,
   "metadata": {},
   "outputs": [
    {
     "data": {
      "text/plain": [
       "name             object\n",
       "online_order     object\n",
       "book_table       object\n",
       "rate            float64\n",
       "votes             int64\n",
       "location         object\n",
       "rest_type        object\n",
       "dish_liked       object\n",
       "cuisines         object\n",
       "cost            float64\n",
       "reviews_list     object\n",
       "menu_item        object\n",
       "type             object\n",
       "city             object\n",
       "dtype: object"
      ]
     },
     "execution_count": 42,
     "metadata": {},
     "output_type": "execute_result"
    }
   ],
   "source": [
    "df.dtypes"
   ]
  },
  {
   "cell_type": "markdown",
   "metadata": {},
   "source": [
    "# Exploratory Data Analysis"
   ]
  },
  {
   "cell_type": "markdown",
   "metadata": {},
   "source": [
    "## Univariate Analysis"
   ]
  },
  {
   "cell_type": "markdown",
   "metadata": {},
   "source": [
    "### Most famous restaurants chains in Bangaluru(upto 20)"
   ]
  },
  {
   "cell_type": "code",
   "execution_count": null,
   "metadata": {},
   "outputs": [],
   "source": []
  },
  {
   "cell_type": "code",
   "execution_count": null,
   "metadata": {},
   "outputs": [],
   "source": []
  },
  {
   "cell_type": "code",
   "execution_count": 43,
   "metadata": {},
   "outputs": [
    {
     "data": {
      "image/png": "[encoded data removed]",
      "text/plain": [
       "<Figure size 1224x720 with 1 Axes>"
      ]
     },
     "metadata": {
      "needs_background": "light"
     },
     "output_type": "display_data"
    }
   ],
   "source": [
    "plt.figure(figsize=(17,10))\n",
    "chains=df['name'].value_counts()[:20]\n",
    "sns.barplot(x=chains,y=chains.index,palette='deep')\n",
    "plt.title(\"Most famous restaurants chains in Bangaluru\")\n",
    "plt.xlabel(\"Number of outlets\")\n",
    "plt.show()"
   ]
  },
  {
   "cell_type": "markdown",
   "metadata": {},
   "source": [
    "Cafe Coffee Day and Onesta seems to be most famous "
   ]
  },
  {
   "cell_type": "markdown",
   "metadata": {},
   "source": [
    "### Whether restaurant offer Table booking or not"
   ]
  },
  {
   "cell_type": "code",
   "execution_count": 44,
   "metadata": {},
   "outputs": [
    {
     "data": {
      "image/png": "[encoded data removed]",
      "text/plain": [
       "<Figure size 720x720 with 1 Axes>"
      ]
     },
     "metadata": {},
     "output_type": "display_data"
    }
   ],
   "source": [
    "book=df['book_table'].value_counts()\n",
    "plt.figure(figsize= (10,10))\n",
    "book.plot.pie(autopct=\"%.1f%%\")\n",
    "plt.title('Table Booking')\n",
    "plt.show()"
   ]
  },
  {
   "cell_type": "markdown",
   "metadata": {},
   "source": [
    "### Whether Restaurants deliver online or Not"
   ]
  },
  {
   "cell_type": "code",
   "execution_count": 45,
   "metadata": {},
   "outputs": [
    {
     "data": {
      "image/png": "[encoded data removed]",
      "text/plain": [
       "<Figure size 720x720 with 1 Axes>"
      ]
     },
     "metadata": {},
     "output_type": "display_data"
    }
   ],
   "source": [
    "online=df['online_order'].value_counts()\n",
    "plt.figure(figsize= (10,10))\n",
    "online.plot.pie(autopct=\"%.1f%%\")\n",
    "plt.title('Whether Restaurants deliver online or Not')\n",
    "plt.show()"
   ]
  },
  {
   "cell_type": "markdown",
   "metadata": {},
   "source": [
    "### Rating Distribution"
   ]
  },
  {
   "cell_type": "code",
   "execution_count": 46,
   "metadata": {},
   "outputs": [
    {
     "data": {
      "text/plain": [
       "<AxesSubplot:xlabel='rate', ylabel='Density'>"
      ]
     },
     "execution_count": 46,
     "metadata": {},
     "output_type": "execute_result"
    },
    {
     "data": {
      "image/png": "[encoded data removed]",
      "text/plain": [
       "<Figure size 648x504 with 1 Axes>"
      ]
     },
     "metadata": {
      "needs_background": "light"
     },
     "output_type": "display_data"
    }
   ],
   "source": [
    "plt.figure(figsize=(9,7))\n",
    "\n",
    "sns.distplot(df['rate'],bins=20)"
   ]
  },
  {
   "cell_type": "markdown",
   "metadata": {},
   "source": [
    "We can infer from above that most of the ratings are within 3.5 and 4.5"
   ]
  },
  {
   "cell_type": "code",
   "execution_count": 47,
   "metadata": {},
   "outputs": [
    {
     "data": {
      "image/png": "[encoded data removed]",
      "text/plain": [
       "<Figure size 720x720 with 1 Axes>"
      ]
     },
     "metadata": {},
     "output_type": "display_data"
    }
   ],
   "source": [
    "slices=[((df['rate']>=1) & (df['rate']<2)).sum(),\n",
    "        ((df['rate']>=2) & (df['rate']<3)).sum(),\n",
    "        ((df['rate']>=3) & (df['rate']<4)).sum(),\n",
    "        (df['rate']>=4).sum()\n",
    "        ]\n",
    "plt.figure(figsize= (10,10))\n",
    "labels=['1<rate<2','2<rate<3','3<rate<4','>4']\n",
    "colors = ['#ff3333','#c2c2d6','#6699ff']\n",
    "plt.pie(slices,colors=colors, labels=labels, autopct='%1.0f%%')\n",
    "\n",
    "plt.title(\"Percentage of Restaurants according to their ratings\")\n",
    "\n",
    "plt.show()"
   ]
  },
  {
   "cell_type": "markdown",
   "metadata": {},
   "source": [
    "We can infer from above that most of the ratings are within 3.5 and 4.5"
   ]
  },
  {
   "cell_type": "markdown",
   "metadata": {},
   "source": [
    "### Services Types"
   ]
  },
  {
   "cell_type": "code",
   "execution_count": 48,
   "metadata": {},
   "outputs": [
    {
     "data": {
      "text/plain": [
       "Text(0.5, 1.0, 'Type of Service')"
      ]
     },
     "execution_count": 48,
     "metadata": {},
     "output_type": "execute_result"
    },
    {
     "data": {
      "image/png": "[encoded data removed]",
      "text/plain": [
       "<Figure size 864x864 with 1 Axes>"
      ]
     },
     "metadata": {
      "needs_background": "light"
     },
     "output_type": "display_data"
    }
   ],
   "source": [
    "\n",
    "sns.countplot(df['type']).set_xticklabels(sns.countplot(df['type']).get_xticklabels(), rotation=90)\n",
    "fig = plt.gcf()\n",
    "fig.set_size_inches(12,12)\n",
    "plt.title('Type of Service')"
   ]
  },
  {
   "cell_type": "markdown",
   "metadata": {},
   "source": [
    "The two main service types are Delivery and Dine-out"
   ]
  },
  {
   "cell_type": "markdown",
   "metadata": {},
   "source": [
    "### Distribution of Cost of Food for two People"
   ]
  },
  {
   "cell_type": "code",
   "execution_count": 49,
   "metadata": {},
   "outputs": [
    {
     "data": {
      "image/png": "[encoded data removed]",
      "text/plain": [
       "<Figure size 576x576 with 1 Axes>"
      ]
     },
     "metadata": {
      "needs_background": "light"
     },
     "output_type": "display_data"
    }
   ],
   "source": [
    "plt.figure(figsize=(8,8))\n",
    "sns.distplot(df['cost'])\n",
    "plt.show()"
   ]
  },
  {
   "cell_type": "code",
   "execution_count": 50,
   "metadata": {},
   "outputs": [
    {
     "data": {
      "text/plain": [
       "<AxesSubplot:ylabel='cost'>"
      ]
     },
     "execution_count": 50,
     "metadata": {},
     "output_type": "execute_result"
    },
    {
     "data": {
      "image/png": "[encoded data removed]",
      "text/plain": [
       "<Figure size 720x720 with 1 Axes>"
      ]
     },
     "metadata": {
      "needs_background": "light"
     },
     "output_type": "display_data"
    }
   ],
   "source": [
    "plt.figure(figsize= (10,10))\n",
    "sns.boxplot(data =df['cost'],y = df['cost'])\n"
   ]
  },
  {
   "cell_type": "markdown",
   "metadata": {},
   "source": [
    "### Most Liked Dishes"
   ]
  },
  {
   "cell_type": "code",
   "execution_count": 51,
   "metadata": {},
   "outputs": [],
   "source": [
    "import re\n",
    "\n",
    "df.index=range(df.shape[0])\n",
    "likes=[]\n",
    "for i in range(df.shape[0]):\n",
    "    array_split=re.split(',',df['dish_liked'][i])\n",
    "    for item in array_split:\n",
    "        likes.append(item)"
   ]
  },
  {
   "cell_type": "code",
   "execution_count": 52,
   "metadata": {},
   "outputs": [
    {
     "name": "stdout",
     "output_type": "stream",
     "text": [
      "Count of Most liked dishes in Bangalore\n"
     ]
    },
    {
     "data": {
      "text/plain": [
       "not_available       17978\n",
       " Pasta               2692\n",
       " Pizza               1915\n",
       " Cocktails           1880\n",
       " Burgers             1736\n",
       " Mocktails           1623\n",
       " Biryani             1307\n",
       " Sandwiches          1287\n",
       "Burgers              1256\n",
       " Coffee              1184\n",
       " Nachos              1170\n",
       " Fish                1116\n",
       " Paratha             1107\n",
       " Salads              1055\n",
       " Chicken Biryani     1004\n",
       "Cocktails             891\n",
       " Fries                876\n",
       " Noodles              854\n",
       " Beer                 835\n",
       " Mutton Biryani       832\n",
       " Tea                  819\n",
       "Coffee                801\n",
       " Sandwich             788\n",
       " Butter Chicken       782\n",
       " Thali                770\n",
       "Biryani               749\n",
       "Pizza                 747\n",
       " Roti                 729\n",
       " Brownie              726\n",
       " Salad                677\n",
       "dtype: int64"
      ]
     },
     "execution_count": 52,
     "metadata": {},
     "output_type": "execute_result"
    }
   ],
   "source": [
    "print(\"Count of Most liked dishes in Bangalore\")\n",
    "favourite_food = pd.Series(likes).value_counts()\n",
    "favourite_food.head(30)"
   ]
  },
  {
   "cell_type": "code",
   "execution_count": 53,
   "metadata": {},
   "outputs": [
    {
     "data": {
      "text/plain": [
       " Pasta              2692\n",
       " Pizza              1915\n",
       " Cocktails          1880\n",
       " Burgers            1736\n",
       " Mocktails          1623\n",
       " Biryani            1307\n",
       " Sandwiches         1287\n",
       "Burgers             1256\n",
       " Coffee             1184\n",
       " Nachos             1170\n",
       " Fish               1116\n",
       " Paratha            1107\n",
       " Salads             1055\n",
       " Chicken Biryani    1004\n",
       "Cocktails            891\n",
       " Fries               876\n",
       " Noodles             854\n",
       " Beer                835\n",
       " Mutton Biryani      832\n",
       " Tea                 819\n",
       "dtype: int64"
      ]
     },
     "execution_count": 53,
     "metadata": {},
     "output_type": "execute_result"
    }
   ],
   "source": [
    "favourite_food[1:21]"
   ]
  },
  {
   "cell_type": "code",
   "execution_count": 54,
   "metadata": {},
   "outputs": [
    {
     "data": {
      "image/png": "[encoded data removed]",
      "text/plain": [
       "<Figure size 1224x720 with 1 Axes>"
      ]
     },
     "metadata": {
      "needs_background": "light"
     },
     "output_type": "display_data"
    }
   ],
   "source": [
    "plt.figure(figsize=(17,10))\n",
    "food=favourite_food[1:21]\n",
    "sns.barplot(x=food,y=food.index,palette='deep')\n",
    "plt.title(\"Most liked dish\")\n",
    "plt.xlabel(\"Count\")\n",
    "plt.show()"
   ]
  },
  {
   "cell_type": "markdown",
   "metadata": {},
   "source": [
    "### Restaurant types"
   ]
  },
  {
   "cell_type": "code",
   "execution_count": 55,
   "metadata": {},
   "outputs": [
    {
     "data": {
      "text/plain": [
       "Text(0.5, 0, 'count')"
      ]
     },
     "execution_count": 55,
     "metadata": {},
     "output_type": "execute_result"
    },
    {
     "data": {
      "image/png": "[encoded data removed]",
      "text/plain": [
       "<Figure size 1080x504 with 1 Axes>"
      ]
     },
     "metadata": {
      "needs_background": "light"
     },
     "output_type": "display_data"
    }
   ],
   "source": [
    "plt.figure(figsize=(15,7))\n",
    "rest=df['rest_type'].value_counts()[:20]\n",
    "sns.barplot(rest,rest.index)\n",
    "plt.title(\"Restaurant types\")\n",
    "plt.xlabel(\"count\")"
   ]
  },
  {
   "cell_type": "code",
   "execution_count": 56,
   "metadata": {},
   "outputs": [
    {
     "data": {
      "text/html": [
       "<div>\n",
       "<style scoped>\n",
       "    .dataframe tbody tr th:only-of-type {\n",
       "        vertical-align: middle;\n",
       "    }\n",
       "\n",
       "    .dataframe tbody tr th {\n",
       "        vertical-align: top;\n",
       "    }\n",
       "\n",
       "    .dataframe thead th {\n",
       "        text-align: right;\n",
       "    }\n",
       "</style>\n",
       "<table border=\"1\" class=\"dataframe\">\n",
       "  <thead>\n",
       "    <tr style=\"text-align: right;\">\n",
       "      <th></th>\n",
       "      <th>name</th>\n",
       "      <th>online_order</th>\n",
       "      <th>book_table</th>\n",
       "      <th>rate</th>\n",
       "      <th>votes</th>\n",
       "      <th>location</th>\n",
       "      <th>rest_type</th>\n",
       "      <th>dish_liked</th>\n",
       "      <th>cuisines</th>\n",
       "      <th>cost</th>\n",
       "      <th>reviews_list</th>\n",
       "      <th>menu_item</th>\n",
       "      <th>type</th>\n",
       "      <th>city</th>\n",
       "    </tr>\n",
       "  </thead>\n",
       "  <tbody>\n",
       "    <tr>\n",
       "      <th>0</th>\n",
       "      <td>Jalsa</td>\n",
       "      <td>Yes</td>\n",
       "      <td>Yes</td>\n",
       "      <td>4.1</td>\n",
       "      <td>775</td>\n",
       "      <td>Banashankari</td>\n",
       "      <td>Casual Dining</td>\n",
       "      <td>Pasta, Lunch Buffet, Masala Papad, Paneer Laja...</td>\n",
       "      <td>North Indian, Mughlai, Chinese</td>\n",
       "      <td>800.0</td>\n",
       "      <td>[('Rated 4.0', 'RATED\\n  A beautiful place to ...</td>\n",
       "      <td>[]</td>\n",
       "      <td>Buffet</td>\n",
       "      <td>Banashankari</td>\n",
       "    </tr>\n",
       "    <tr>\n",
       "      <th>1</th>\n",
       "      <td>Spice Elephant</td>\n",
       "      <td>Yes</td>\n",
       "      <td>No</td>\n",
       "      <td>4.1</td>\n",
       "      <td>787</td>\n",
       "      <td>Banashankari</td>\n",
       "      <td>Casual Dining</td>\n",
       "      <td>Momos, Lunch Buffet, Chocolate Nirvana, Thai G...</td>\n",
       "      <td>Chinese, North Indian, Thai</td>\n",
       "      <td>800.0</td>\n",
       "      <td>[('Rated 4.0', 'RATED\\n  Had been here for din...</td>\n",
       "      <td>[]</td>\n",
       "      <td>Buffet</td>\n",
       "      <td>Banashankari</td>\n",
       "    </tr>\n",
       "    <tr>\n",
       "      <th>2</th>\n",
       "      <td>San Churro Cafe</td>\n",
       "      <td>Yes</td>\n",
       "      <td>No</td>\n",
       "      <td>3.8</td>\n",
       "      <td>918</td>\n",
       "      <td>Banashankari</td>\n",
       "      <td>Cafe, Casual Dining</td>\n",
       "      <td>Churros, Cannelloni, Minestrone Soup, Hot Choc...</td>\n",
       "      <td>Cafe, Mexican, Italian</td>\n",
       "      <td>800.0</td>\n",
       "      <td>[('Rated 3.0', \"RATED\\n  Ambience is not that ...</td>\n",
       "      <td>[]</td>\n",
       "      <td>Buffet</td>\n",
       "      <td>Banashankari</td>\n",
       "    </tr>\n",
       "    <tr>\n",
       "      <th>3</th>\n",
       "      <td>Addhuri Udupi Bhojana</td>\n",
       "      <td>No</td>\n",
       "      <td>No</td>\n",
       "      <td>3.7</td>\n",
       "      <td>88</td>\n",
       "      <td>Banashankari</td>\n",
       "      <td>Quick Bites</td>\n",
       "      <td>Masala Dosa</td>\n",
       "      <td>South Indian, North Indian</td>\n",
       "      <td>300.0</td>\n",
       "      <td>[('Rated 4.0', \"RATED\\n  Great food and proper...</td>\n",
       "      <td>[]</td>\n",
       "      <td>Buffet</td>\n",
       "      <td>Banashankari</td>\n",
       "    </tr>\n",
       "    <tr>\n",
       "      <th>4</th>\n",
       "      <td>Grand Village</td>\n",
       "      <td>No</td>\n",
       "      <td>No</td>\n",
       "      <td>3.8</td>\n",
       "      <td>166</td>\n",
       "      <td>Basavanagudi</td>\n",
       "      <td>Casual Dining</td>\n",
       "      <td>Panipuri, Gol Gappe</td>\n",
       "      <td>North Indian, Rajasthani</td>\n",
       "      <td>600.0</td>\n",
       "      <td>[('Rated 4.0', 'RATED\\n  Very good restaurant ...</td>\n",
       "      <td>[]</td>\n",
       "      <td>Buffet</td>\n",
       "      <td>Banashankari</td>\n",
       "    </tr>\n",
       "  </tbody>\n",
       "</table>\n",
       "</div>"
      ],
      "text/plain": [
       "                    name online_order book_table  rate  votes      location  \\\n",
       "0                  Jalsa          Yes        Yes   4.1    775  Banashankari   \n",
       "1         Spice Elephant          Yes         No   4.1    787  Banashankari   \n",
       "2        San Churro Cafe          Yes         No   3.8    918  Banashankari   \n",
       "3  Addhuri Udupi Bhojana           No         No   3.7     88  Banashankari   \n",
       "4          Grand Village           No         No   3.8    166  Basavanagudi   \n",
       "\n",
       "             rest_type                                         dish_liked  \\\n",
       "0        Casual Dining  Pasta, Lunch Buffet, Masala Papad, Paneer Laja...   \n",
       "1        Casual Dining  Momos, Lunch Buffet, Chocolate Nirvana, Thai G...   \n",
       "2  Cafe, Casual Dining  Churros, Cannelloni, Minestrone Soup, Hot Choc...   \n",
       "3          Quick Bites                                        Masala Dosa   \n",
       "4        Casual Dining                                Panipuri, Gol Gappe   \n",
       "\n",
       "                         cuisines   cost  \\\n",
       "0  North Indian, Mughlai, Chinese  800.0   \n",
       "1     Chinese, North Indian, Thai  800.0   \n",
       "2          Cafe, Mexican, Italian  800.0   \n",
       "3      South Indian, North Indian  300.0   \n",
       "4        North Indian, Rajasthani  600.0   \n",
       "\n",
       "                                        reviews_list menu_item    type  \\\n",
       "0  [('Rated 4.0', 'RATED\\n  A beautiful place to ...        []  Buffet   \n",
       "1  [('Rated 4.0', 'RATED\\n  Had been here for din...        []  Buffet   \n",
       "2  [('Rated 3.0', \"RATED\\n  Ambience is not that ...        []  Buffet   \n",
       "3  [('Rated 4.0', \"RATED\\n  Great food and proper...        []  Buffet   \n",
       "4  [('Rated 4.0', 'RATED\\n  Very good restaurant ...        []  Buffet   \n",
       "\n",
       "           city  \n",
       "0  Banashankari  \n",
       "1  Banashankari  \n",
       "2  Banashankari  \n",
       "3  Banashankari  \n",
       "4  Banashankari  "
      ]
     },
     "execution_count": 56,
     "metadata": {},
     "output_type": "execute_result"
    }
   ],
   "source": [
    "df.head()"
   ]
  },
  {
   "cell_type": "markdown",
   "metadata": {},
   "source": [
    "# Feature Engineering"
   ]
  },
  {
   "cell_type": "markdown",
   "metadata": {},
   "source": [
    "\n",
    "#### Convert the online categorical variables into a numeric format"
   ]
  },
  {
   "cell_type": "code",
   "execution_count": 57,
   "metadata": {},
   "outputs": [],
   "source": [
    "df.online_order[df.online_order == 'Yes'] = 1 \n",
    "df.online_order[df.online_order == 'No'] = 0"
   ]
  },
  {
   "cell_type": "code",
   "execution_count": 58,
   "metadata": {},
   "outputs": [],
   "source": [
    "df.online_order = pd.to_numeric(df.online_order)"
   ]
  },
  {
   "cell_type": "code",
   "execution_count": 59,
   "metadata": {},
   "outputs": [
    {
     "data": {
      "text/plain": [
       "name             object\n",
       "online_order      int64\n",
       "book_table       object\n",
       "rate            float64\n",
       "votes             int64\n",
       "location         object\n",
       "rest_type        object\n",
       "dish_liked       object\n",
       "cuisines         object\n",
       "cost            float64\n",
       "reviews_list     object\n",
       "menu_item        object\n",
       "type             object\n",
       "city             object\n",
       "dtype: object"
      ]
     },
     "execution_count": 59,
     "metadata": {},
     "output_type": "execute_result"
    }
   ],
   "source": [
    "df.dtypes"
   ]
  },
  {
   "cell_type": "markdown",
   "metadata": {},
   "source": [
    "## change the booking categorical into to a categorical int"
   ]
  },
  {
   "cell_type": "code",
   "execution_count": 60,
   "metadata": {},
   "outputs": [],
   "source": [
    "df.book_table[df.book_table == 'Yes'] = 1 \n",
    "df.book_table[df.book_table == 'No'] = 0"
   ]
  },
  {
   "cell_type": "code",
   "execution_count": 61,
   "metadata": {},
   "outputs": [],
   "source": [
    "df.book_table = pd.to_numeric(df.book_table)"
   ]
  },
  {
   "cell_type": "markdown",
   "metadata": {},
   "source": [
    "df.location = le.fit_transform(df.location)\n",
    "df.rest_type = le.fit_transform(df.rest_type)\n",
    "df.cuisines = le.fit_transform(df.cuisines)\n",
    "df.menu_item = le.fit_transform(df.menu_item)"
   ]
  },
  {
   "cell_type": "code",
   "execution_count": 62,
   "metadata": {},
   "outputs": [],
   "source": [
    "top_20_location = df['location'].value_counts()[:20]"
   ]
  },
  {
   "cell_type": "code",
   "execution_count": 63,
   "metadata": {},
   "outputs": [
    {
     "data": {
      "text/plain": [
       "Index(['BTM', 'Koramangala 5th Block', 'HSR', 'Indiranagar', 'JP Nagar',\n",
       "       'Jayanagar', 'Whitefield', 'Marathahalli', 'Bannerghatta Road',\n",
       "       'Koramangala 7th Block', 'Brigade Road', 'Koramangala 6th Block',\n",
       "       'Bellandur', 'Sarjapur Road', 'Koramangala 1st Block', 'Ulsoor',\n",
       "       'Koramangala 4th Block', 'Electronic City', 'MG Road', 'Banashankari'],\n",
       "      dtype='object')"
      ]
     },
     "execution_count": 63,
     "metadata": {},
     "output_type": "execute_result"
    }
   ],
   "source": [
    "top_20_location.index"
   ]
  },
  {
   "cell_type": "code",
   "execution_count": 64,
   "metadata": {},
   "outputs": [
    {
     "data": {
      "text/plain": [
       "27424"
      ]
     },
     "execution_count": 64,
     "metadata": {},
     "output_type": "execute_result"
    }
   ],
   "source": [
    "top_20_location.sum()"
   ]
  },
  {
   "cell_type": "code",
   "execution_count": 65,
   "metadata": {},
   "outputs": [],
   "source": [
    "df['location'] = df['location'].apply(lambda x: x if x in top_20_location.index else 'other_location')"
   ]
  },
  {
   "cell_type": "code",
   "execution_count": 66,
   "metadata": {},
   "outputs": [
    {
     "data": {
      "text/plain": [
       "other_location           13802\n",
       "BTM                       3873\n",
       "Koramangala 5th Block     2296\n",
       "HSR                       1993\n",
       "Indiranagar               1800\n",
       "JP Nagar                  1710\n",
       "Jayanagar                 1634\n",
       "Whitefield                1568\n",
       "Marathahalli              1410\n",
       "Bannerghatta Road         1224\n",
       "Koramangala 7th Block     1055\n",
       "Koramangala 6th Block     1052\n",
       "Brigade Road              1052\n",
       "Bellandur                  996\n",
       "Sarjapur Road              854\n",
       "Koramangala 1st Block      851\n",
       "Ulsoor                     846\n",
       "Koramangala 4th Block      841\n",
       "Electronic City            832\n",
       "MG Road                    793\n",
       "Banashankari               744\n",
       "Name: location, dtype: int64"
      ]
     },
     "execution_count": 66,
     "metadata": {},
     "output_type": "execute_result"
    }
   ],
   "source": [
    "df['location'].value_counts()"
   ]
  },
  {
   "cell_type": "code",
   "execution_count": 67,
   "metadata": {},
   "outputs": [],
   "source": [
    "top_10_rest_type = df['rest_type'].value_counts()[:10]"
   ]
  },
  {
   "cell_type": "code",
   "execution_count": 68,
   "metadata": {},
   "outputs": [
    {
     "data": {
      "text/plain": [
       "Quick Bites           13866\n",
       "Casual Dining          9605\n",
       "Cafe                   3368\n",
       "Dessert Parlor         1850\n",
       "Delivery               1666\n",
       "Takeaway, Delivery     1278\n",
       "Casual Dining, Bar     1092\n",
       "Bakery                  704\n",
       "Bar                     640\n",
       "Beverage Shop           638\n",
       "Name: rest_type, dtype: int64"
      ]
     },
     "execution_count": 68,
     "metadata": {},
     "output_type": "execute_result"
    }
   ],
   "source": [
    "top_10_rest_type"
   ]
  },
  {
   "cell_type": "code",
   "execution_count": 69,
   "metadata": {
    "scrolled": true
   },
   "outputs": [
    {
     "data": {
      "text/plain": [
       "34707"
      ]
     },
     "execution_count": 69,
     "metadata": {},
     "output_type": "execute_result"
    }
   ],
   "source": [
    "top_10_rest_type.sum()"
   ]
  },
  {
   "cell_type": "code",
   "execution_count": 70,
   "metadata": {},
   "outputs": [],
   "source": [
    "df['rest_type'] = df['rest_type'].apply(lambda x: x if x in top_10_rest_type.index else 'other_rest_type')"
   ]
  },
  {
   "cell_type": "code",
   "execution_count": 71,
   "metadata": {},
   "outputs": [
    {
     "data": {
      "text/plain": [
       "Quick Bites           13866\n",
       "Casual Dining          9605\n",
       "other_rest_type        6519\n",
       "Cafe                   3368\n",
       "Dessert Parlor         1850\n",
       "Delivery               1666\n",
       "Takeaway, Delivery     1278\n",
       "Casual Dining, Bar     1092\n",
       "Bakery                  704\n",
       "Bar                     640\n",
       "Beverage Shop           638\n",
       "Name: rest_type, dtype: int64"
      ]
     },
     "execution_count": 71,
     "metadata": {},
     "output_type": "execute_result"
    }
   ],
   "source": [
    "df['rest_type'].value_counts()"
   ]
  },
  {
   "cell_type": "code",
   "execution_count": 72,
   "metadata": {},
   "outputs": [],
   "source": [
    "top_15_cuisines= df['cuisines'].value_counts()[:15]"
   ]
  },
  {
   "cell_type": "code",
   "execution_count": 73,
   "metadata": {},
   "outputs": [
    {
     "data": {
      "text/plain": [
       "North Indian                           2107\n",
       "North Indian, Chinese                  1949\n",
       "South Indian                           1231\n",
       "Cafe                                    620\n",
       "Bakery, Desserts                        613\n",
       "Biryani                                 600\n",
       "South Indian, North Indian, Chinese     561\n",
       "Desserts                                545\n",
       "Fast Food                               512\n",
       "Chinese                                 409\n",
       "Ice Cream, Desserts                     384\n",
       "Bakery                                  377\n",
       "Chinese, North Indian                   335\n",
       "Mithai, Street Food                     317\n",
       "North Indian, Chinese, Biryani          260\n",
       "Name: cuisines, dtype: int64"
      ]
     },
     "execution_count": 73,
     "metadata": {},
     "output_type": "execute_result"
    }
   ],
   "source": [
    "top_15_cuisines"
   ]
  },
  {
   "cell_type": "code",
   "execution_count": 74,
   "metadata": {},
   "outputs": [
    {
     "data": {
      "text/plain": [
       "10820"
      ]
     },
     "execution_count": 74,
     "metadata": {},
     "output_type": "execute_result"
    }
   ],
   "source": [
    "top_15_cuisines.sum()\n"
   ]
  },
  {
   "cell_type": "code",
   "execution_count": 75,
   "metadata": {},
   "outputs": [],
   "source": [
    "df['cuisines'] = df['cuisines'].apply(lambda x: x if x in top_15_cuisines.index else 'other_cuisines')"
   ]
  },
  {
   "cell_type": "code",
   "execution_count": 76,
   "metadata": {
    "scrolled": false
   },
   "outputs": [
    {
     "data": {
      "text/plain": [
       "(41226, 14)"
      ]
     },
     "execution_count": 76,
     "metadata": {},
     "output_type": "execute_result"
    }
   ],
   "source": [
    "df.shape"
   ]
  },
  {
   "cell_type": "code",
   "execution_count": 77,
   "metadata": {},
   "outputs": [],
   "source": [
    "top_15_menu_item= df['menu_item'].value_counts()"
   ]
  },
  {
   "cell_type": "code",
   "execution_count": 78,
   "metadata": {},
   "outputs": [
    {
     "data": {
      "text/plain": [
       "[]                                                                                                                                                                                                                                                                                                                                                                                                                                                                                                                                                                                                                                                                                                                                                                                                                                                                                                                                                                                                                                                                                                                                                                                                                                                                                                                                                                                                                                                                                                                                                                                                                                                                                                                                                                                                                                                                                                                                                                                                                                                                                                                                                                                                                                                                                                                                                                                                                                                                                                                                                                                                                                                                                                                                                                                                                                                                                                                                                                                                                                                                                                                                                                                                                                                                                                                                                                                                                                                                                                                                                                                                                                                                                                                                                                                                                                                                                                                                                                                                                                                                                                                                                                                                                                                                                                                                                                                                                                                                                                                                                                                                                                                                                                                                                                                                                                                                                                                                                                                                                                                           30307\n",
       "['Butter Chicken Pizza', 'Bombay Veggie Burger', 'Tawa Paneer Burger', 'Oh So Cheesy Burger', 'Barbecue Chicken Burger', 'Peri Peri Chicken Burger', 'BBQ Lamb', 'Cheesy Chicken', 'Crunchy Ferrero', 'Lots of Nuts', 'Kadhai Paneer Pizza', 'Chilli Paneer and Mushroom Pizza', 'Chipotle Veggie Pizza', 'Creamy Cheese Pizza', 'Southern Veggie Korma Pizza', 'Popeye, The Corny Man Pizza', 'Paneer Tikka Pizza', 'Desi Margherita Pizza', 'Roasted Paneer with Mustard Pizza', 'Bangalore Express Pizza', 'Italian Chaska Pizza', 'Mayo and Cheese Pizza', 'Classic Margherita', 'Cajun Hawaiian Pizza', 'Butter Chicken Pizza', 'Lasooni Bhuna Murg Pizza', 'Chilly Chicken Pizza', 'Hot Garlic Chicken Pizza', 'Murg Barbecue Pizza', 'Mediterranean Mutton Keema Pizza', 'Super Green Burger', 'Quinoa Black Bean Burger', 'Bombay Veggie Burger', 'Tawa Paneer Burger', 'Oh So Cheesy Burger', 'Barbecue Chicken Burger', 'Chipotle Lamb Burger', 'Crumb Fried Fish Burger', 'Peri Peri Chicken Burger', 'BBQ Lamb', 'Cheesy Chicken', 'Picnic Chicken Burger', 'Korean Grilled Chicken with Kimchi', 'Kiddy Kat Strawberry', 'Kiddy Kat Chocolate', 'Bubblegum', 'Oreo Shake', 'Caramel Shake', 'Chocolate Shake', 'Strawberry Shake', 'Vanilla Shake', 'Cold Coffee', 'Virgin Mojito', 'Iced Tea', 'Hot Chocolate', 'Cappuccino', 'Latte', 'Espresso Shot', 'Brownie Shake', 'Red Velvet Cheesecake Shake', 'Oreo Cheesecake Shake', 'Salted Caramel Popcorn', 'Coconut Crumble', 'Coffee Crunch', 'Bira', 'Thanda Paan', 'Sticky Toffee Pudding', 'Blueberry Cheesecake', 'Nutella Cheesecake', 'Caramel Custard with Strawberry or Figs', 'Red Velvet Cheesecake', 'Tiramisu', 'Zesty Vanilla and Tipsy Brownie', 'Oreo Explosion', 'Chocolate Almond Crumble', 'Crunchy Ferrero', \"Stoner's Chocolate Decadence\", 'Brownie Bash', 'Chocolate Lava', 'Dark Chocolate Caramel', 'Chocolate Overload', 'Lots of Nuts', 'Peanut Butter Crunch', 'Nutty Fudgy', 'Lemon Pistachio Biscotti', 'Frutilicious Ice Cream', 'Strawberry Tease Ice Cream', 'Mango Tango Ice Cream', 'Lychee Lovers Ice Cream', 'Monkey Business Ice Cream', 'Apple Crumble Ice Cream', 'Blueberry Bliss Ice Cream']                                                                                                                                                                                                                                                                                                                                                                                                                                                                                                                                                                                                                                                                                                                                                                                                                                                                                                                                                                                                                                                                                                                                                                                                                                                                                                                                                                                                                                                                                                                                                                                                                                                                                                                                                                                                                                                                                                                                                                                                                                                                                                                                                                                                                                                                                                                                                                                                                                                                                                                                                                                                                                                                                                                                                                                                                                                            11\n",
       "['Students Veg Combo', 'Office Veg Combo', 'Students Non Veg Combo', 'Office Non Veg Combo', 'Mughlai Non Veg Combo', 'Aloo Paratha Combo', 'Poori Aloo Jeera Combo', 'Poori Aloo Tomato Combo', 'Paneer Paratha Combo', 'Students Veg Combo', 'Office Veg Combo', 'Students Non Veg Combo', 'Office Non Veg Combo', 'Mughlai Non Veg Combo', 'Shami Kebab Roll', 'Mughlai Biryani Combo [Veg]', 'Nawabi Thali Combo', 'The Lajawab Gravy Combo [Veg]', 'Mughlai Meal For Two [Veg]', 'The After Party Starters', 'Royal Feast For Four [Veg]', 'The Galawati Roll', 'Mughlai Biryani Combo [Non Veg]', 'The Nihari Combo [Chicken]', 'The Nihari Combo (Mutton)', 'The Lajawab Gravy Combo [Non Veg]', 'Mughlai Meal For Two [Non-Veg]', 'Biryani Blast', 'Royal Feast For Four [Non-Veg]', 'Baby Corn 65', 'Chilli Baby Corn', 'Mushroom 65', 'Chilli Mushroom', 'Veg Seekh Kebab', 'Kasturi Paneer Tikka', 'Paneer 65', 'Paneer Angara', 'Chilli Paneer', 'Hara Bhara Kebab', 'Paneer Tikka', 'Paneer Malai Tikka', 'Tandoori Veg Platter', 'Tandoori Chicken', 'Mutton Shami Kebab [Signature]', 'Mutton Galouti Kebab [Signature]', 'Chicken 65', 'Chicken Seekh Kebab', 'Chicken Tikka', 'Chilli Chicken', 'Chicken Angara', 'Chicken Kasturi Kebab', 'Chicken Malai Tikka', 'Mutton Sultani Seekh Kebab', 'Non Veg Tandoori Platter', 'Aloo Tomato Gravy', 'Aloo Capsicum Dry', 'Aloo Jeera Dry', 'Dal Fry', 'Dal Tadka', 'Rajma', 'Chole', 'Dal Makhani [Signature]', 'Lipta Mushroom Masala', 'Veg Kolhapuri', 'Chole Curry', 'Paneer Bhurji', 'Miloni Tarkari [Signature]', 'Mixed Veg', 'Palak Paneer', 'Diwani Handi', 'Mattar Paneer', 'Paneer Do Pyaza', 'Butter Paneer', 'Kadai Paneer [Signature]', 'Paneer Tikka Masala [Signature]', 'Methi Malai Paneer', 'Paneer Lababdar [Signature]', 'Murg Musallam', 'Egg Bhurji', 'Egg Curry', 'Chicken Nihari [Signature]', 'Chicken Curry', 'Chicken Do Pyaza', 'Chicken Methi Khas', 'Hyderabadi Chicken', 'Chicken Hara Pyaza', 'Chicken Kali Mirch', 'Chicken Kohlapuri', 'Kadai Chicken', 'Chicken Lababdar', 'Chicken Lajawab [Signature]', 'Chicken Tikka Masala', 'Chicken Boti Kebab Masala', 'Butter Chicken', 'Mughlai Chicken Masala [Signature]', 'Mutton Nihari [Signature]', 'Mutton Do Pyaza', 'Mutton Korma', 'Mutton Rogan Josh', 'Mughlai Mutton Masala', 'Mutton Boti Kebab Masala [Signature]', 'Murg Musallam', 'Steamed Rice', 'Jeera Rice', 'Ghee Rice', 'Khushka', 'Pulao', 'Veg Biryani', 'Mughlai Chicken Dum Biryani [Signature]', 'Chicken Tikka Biryani', 'Mughlai Mutton Dum Biryani [Signature]', 'Tandoori Roti', 'Lachha Paratha', 'Naan', 'Amritsari Kulcha', 'Garlic Naan', 'Missi Roti', 'Mughlai Paratha', 'Poori', 'Mughlai Bread Basket', 'Papad', 'Curd', 'Boondi Raita', 'Mixed Raita', 'Masala Papad', 'Pineapple Raita', 'Paneer Roll', 'Hawker Style Boiled Egg', 'Masala Omelette', 'Chicken Roll', 'Chicken Boti Roll', 'Shami Roll', 'The Galouti Roll [Signature]', 'Mutton Boti Roll', 'Gulab Jamun [2 Pieces]', 'Ice Cream Scoop [single]', 'Rice Kheer', 'Awadhi Kheer [Signature]', 'Gajar Ka Halwa', 'Lachhedar Rabri', 'Shahi Tukda [Signature]', 'Thums Up [750 Ml]', 'Mineral Water [1 Litre]', 'Buttermilk', 'Lime Water', 'Thums Up (600 Ml)', 'Jal Jeera', 'Lassi', 'Lime Water Salt', 'Lime Water Sweet', 'Chocolate Lassi', 'Strawberry Lassi', 'Alphonso Mango Lassi', 'Thandai', 'Mango Lassi']                                                                                                                                                                                                                                                                                                                                                                                                                                                                                                                                                                                                                                                                                                                                                                                                                                                                                                                                                                                                                                                                                                                                                                                                                                                                                                                                                                                                                                                                                                                                                                                                                                        9\n",
       "['Chicken Cheese Burger', 'Chicken Billys BIg Burger', 'French Fries', 'Alfredo Veg Pasta', 'Brownie Waffles', 'Veg Burger', 'Veg Cheese Burger', 'Veg Caramelized onion Burger', 'Mushroom Classic Burger', 'Veg English Cheddar Cheese Burger', 'Veg Chipotle Corn Burger', 'Veg Billys BIg Burger', 'Chicken Burger', 'Chicken Cheese Burger', 'Chicken Caramelized Onion Burger', 'Chicken Mushroom Burger', 'Chicken English Cheddar Cheese Burger', 'Chicken Chipotle Corn Burger', 'Chicken Billys BIg Burger', 'Chicken Nuggets Burger', 'Veg Grilled Sandwich', 'Paneer Burji Sandwich', 'Toasted Paneer Sandwich', 'Grilled Mushroom Sandwich', 'Corn and Cheese Sandwich', 'Egg Sandwich', 'Egg Chutney Sandwich', 'Chicken Mayo Sandwich', 'Chicken Cheese Sandwich', 'Hotdog Sandwich', 'Tuna Sandwich', 'Tangy Tomato Pasta', 'Spicy Penne Pasta', 'Alfredo Veg Pasta', 'Smoked Chicken Pasta', 'Alfredo Chicken Pasta', 'French Fries', 'Veg', 'Chicken', 'Fish Finger', 'Vegetable Omelette', 'Masala Omelette', 'Spanish Omelette', 'Cheese Omelette', 'Paneer Omelette', 'Ultimate Vegan Shakes', 'Bittersweet Symphony Shakes', 'The White Paradise Shakes', 'Deep Dark Abyss Shakes', 'Irene Adlers Mystery Shakes', 'Red Weather Parody Shakes', 'Mind palace Shakes', 'Tower of Baskerville Shakes', 'Nights Demon Shakes', 'Black and White Romance Shakes', 'Day Dream Shakes', 'Sherlocks Addiction Shakes', 'Mrs Hudsons Secret Shakes', 'Classic Waffles', 'Caramel Waffles', 'Choco Treat Waffles', 'Brownie Waffles', 'Nutella Crunch Waffles', 'Snowflakes Waffles', 'Rocky Road Waffles', 'Lights Out Waffles']                                                                                                                                                                                                                                                                                                                                                                                                                                                                                                                                                                                                                                                                                                                                                                                                                                                                                                                                                                                                                                                                                                                                                                                                                                                                                                                                                                                                                                                                                                                                                                                                                                                                                                                                                                                                                                                                                                                                                                                                                                                                                                                                                                                                                                                                                                                                                                                                                                                                                                                                                                                                                                                                                                                                                                                                                                                                                                                                                                                                                                                                                                                                                                                                                                                                                                                                                                                                                   9\n",
       "['Roasted Bacon Sandwich', 'Veggie Breakfast', 'English Breakfast', 'Pork Lovers Breakfast', 'Typical English Breakfast', 'Veggie Breakfast', 'Simple Breakfast', 'English Breakfast', 'Pork Lovers Breakfast', 'Typical English Breakfast', 'Sunshine Breakfast', 'London Bridges Falling Down', 'Dreams Full English Breakfast', 'Indianaise style Omelette', 'Vegan Favourite Omelette', 'Potatoe Omelette', 'Exotic Creamy Scrambled Eggs', 'Cheesy Mushroom Omelette', 'Herb Chicken and Cheese Omelette', 'Double Delight Sausage Omelette', 'Bacon and Cheese Omelette', 'Ultimate Bacon and Ham Omelette', 'Classic French Toast', 'Stuffed Blueberry French Toast', 'Snow White Caramel French Toast', 'Dreams French Toast Platters', 'Classic Pancake [3 Pieces]', 'Triple Meltinly Pancake [3 Pieces]', 'Chocolate Hungers Pancake [3 Pieces]', 'Caramel Banana Nutty Pancake [3 Pieces]', 'Dreams House Pancake [3 Pieces]', 'Bacon Pancake [3 Pieces]', 'Traditional Waffle', 'Nutella and Banana Waffle [4 Pieces]', 'Blueberry Fillet Waffle [4 Pieces]', 'Meaty Delight Waffle [4 Pieces]', 'Chicken Burger', 'Genius Chicken Burger', 'Grilled Chicken Burger', 'Chicken and Bacon Burger', 'Ham Burger', 'Ham BBQ Burger', 'Dreams Bacon Burger', 'Meaty War Burger', 'Grilled Cheese Sandwich', 'Spinach Corn and Cheese Sandwich', 'Roasted Veggie Sandwich', 'Dreams Veggie Sandwich', 'Herb Chicken and Cheese Sandwich', 'Chicken Sausage and Cheese Sandwich', 'Roasted Bacon Sandwich', 'Cuban Sandwich', 'Veg Arrabiata Pasta', 'Veg Mac and Cheese Pasta', 'Penne and Cheese Veggie', 'Chicken Arrabiata Pasta', 'Chicken Mac and Cheese Pasta', 'Penne and Cheese Bacon', 'Penne Cheese Pepperoni', 'Super Burger Combo', 'Assorted Veggie Rice Bowl', 'Herb Chicken Rice Bowl', 'French Fries', 'Cheesy Fries', 'Potato Wedges', 'Chessy Hash Brown', 'Mint Cheese Balls', 'Chicken Nuggets', 'Bacon Cheesy Fries', 'BBQ Sausages', 'Pork Sausage Fry [4 Pieces]', 'Bacon Fry [4 Pieces]', 'Chicken Sausage Fry [4 Pieces]', 'Classic Lemon Iced Tea', 'Peach Iced Tea', 'Blended Cold Coffee', 'Chocolate Cold Coffee', 'Butterscotch Cold Coffee', 'Coke', 'Hot Chocolate', 'Lemon Mint Mojito', 'Raspberry Mojito', 'Lemon Granita', 'Green Apple Granita', 'Strawberry Lemon Granita', 'Expresso Granita', 'Strawberry Oats Smoothie', 'Chocolate Banana Smoothie', \"Dried Berry's Smoothie\", 'Oreo Nutty Fantasy Smoothie']                                                                                                                                                                                                                                                                                                                                                                                                                                                                                                                                                                                                                                                                                                                                                                                                                                                                                                                                                                                                                                                                                                                                                                                                                                                                                                                                                                                                                                                                                                                                                                                                                                                                                                                                                                                                                                                                                                                                                                                                                                                                                                                                                                                                                                                                                                                                                                                                                                                                                                                                                                                                   8\n",
       "                                                                                                                                                                                                                                                                                                                                                                                                                                                                                                                                                                                                                                                                                                                                                                                                                                                                                                                                                                                                                                                                                                                                                                                                                                                                                                                                                                                                                                                                                                                                                                                                                                                                                                                                                                                                                                                                                                                                                                                                                                                                                                                                                                                                                                                                                                                                                                                                                                                                                                                                                                                                                                                                                                                                                                                                                                                                                                                                                                                                                                                                                                                                                                                                                                                                                                                                                                                                                                                                                                                                                                                                                                                                                                                                                                                                                                                                                                                                                                                                                                                                                                                                                                                                                                                                                                                                                                                                                                                                                                                                                                                                                                                                                                                                                                                                                                                                                                                                                                                                                                                             ...  \n",
       "['Grill Hut Combo 1', 'Chicken Tikka Kabab', 'Chicken Malai Tikka Kabab', 'Chicken Kali Mirch Tikka', 'Chicken Kalmi Kabab [2 Pieces]', 'Chicken Seekh Kabab', 'Chicken Alfhaam', 'Smoky Chicken Wings [4 Pieces]', 'Paneer Tikka Roll', 'Chicken Tikka Roll', 'Chicken Reshmi Tikka Roll', 'Chicken Malai Tikka Roll', 'Grill Hut Combo 1', 'Grill Hut Combo 2', 'Aloo Tikka Kabab', 'Grilled Babycorn Tikka Kabab', 'Grilled Mushroom Tikka Kabab', 'Paneer Tikka Kabab', 'Mix Veg Tikka Kabab', 'Chicken Tikka Kabab', 'Chicken Shahi Tikka', 'Chicken Reshmi Kabab', 'Chicken Malai Tikka Kabab', 'Chicken Kali Mirch Tikka', 'Chicken Kalmi Kabab [2 Pieces]', 'Chicken Seekh Kabab', 'Chicken Alfhaam', 'Smoky Chicken Wings [4 Pieces]', 'Aloo Tikka Roll', 'Grilled Babycorn Tikka Roll', 'Grilled Mushroom Roll', 'Paneer Tikka Roll', 'Paneer Kali Mirch Roll', 'Paneer Mushroom Roll', 'Paneer Babycorn Roll', 'Mushroom Babycorn Roll', 'Aloo Babycorn Roll', 'Mix Veg Roll', 'Egg Roll', 'Chicken Tikka Roll', 'Chicken Shahi Roll', 'Chicken Reshmi Tikka Roll', 'Chicken Malai Tikka Roll', 'Chicken Kali Mirch Roll', 'Chicken Malai Mushroom Roll', 'Chicken Seekh Roll', 'Chicken Bhuna Roll']                                                                                                                                                                                                                                                                                                                                                                                                                                                                                                                                                                                                                                                                                                                                                                                                                                                                                                                                                                                                                                                                                                                                                                                                                                                                                                                                                                                                                                                                                                                                                                                                                                                                                                                                                                                                                                                                                                                                                                                                                                                                                                                                                                                                                                                                                                                                                                                                                                                                                                                                                                                                                                                                                                                                                                                                                                                                                                                                                                                                                                                                                                                                                                                                                                                                                                                                                                                                                                                                                                                                                                                                                                                                                                                                                                                                                                                 1\n",
       "['Fruit Salad with Ice Cream', 'Fruit Salad', 'Fruit Bowl', 'Lime Juice', 'Pineapple Juice', 'Grapes Juice', 'Orange Juice', 'Sweet Lime Juice', 'Water Melon Juice', 'Musk Melon Juice', 'Mixed Fruit Juice', 'Sugarcane Juice', 'Pulpy Grapes', 'Wheat Grass', 'Sweet Lassi', 'Rose Lassi', 'Strawberry Lassi', 'Mango Lassi', 'Chocolate Lassi', 'Dry Fruit Lassi', 'Banana Lassi', 'Papaya Milkshake', 'Banana Milkshake', 'Apple Milkshake', 'Sapota Milkshake', 'Strawberry Fruit Milkshake', 'Dates Milkshake', 'Sharjah Milkshake', 'Mango Milkshake', 'Dry Fruit Milkshake', 'Oreo Milkshake', 'Kiwi Milkshake', 'Pomegranate Milkshake', 'Vanilla Ice Cream Milkshake', 'Strawberry Ice Cream Milkshake', 'Butterscotch Ice Cream Milkshake', 'Pista Ice Cream Milkshake', 'Chocolate Ice Cream Milkshake', 'Blackcurrant Ice Cream Milkshake', 'Masala Lime Soda', 'Masala Sweet Lime Soda', 'Sweet Lime Soda', 'Sweet and Salted Lime Soda', 'Salted Lime Soda']                                                                                                                                                                                                                                                                                                                                                                                                                                                                                                                                                                                                                                                                                                                                                                                                                                                                                                                                                                                                                                                                                                                                                                                                                                                                                                                                                                                                                                                                                                                                                                                                                                                                                                                                                                                                                                                                                                                                                                                                                                                                                                                                                                                                                                                                                                                                                                                                                                                                                                                                                                                                                                                                                                                                                                                                                                                                                                                                                                                                                                                                                                                                                                                                                                                                                                                                                                                                                                                                                                                                                                                                                                                                                                                                                                                                                                                                                                                                                                                                                                                                                     1\n",
       "['Chole Chawal Combo', 'Dal Chawal Combo', 'Laghu Aahar Combo', 'Aloo Matar', 'Aloo Jeera Dry', 'Gobi Matar Masala', 'Aloo Capsicum Masala', 'Aloo Gobi', 'Aloo Palak Gravy', 'Spicy Mixed Vegetables Gravy', 'Spicy Veg Kolhapuri Gravy', 'Gobi Matar', 'Plain Palak Gravy', 'Spicy Kadhai Vegetables Gravy', 'Aloo Gobi Masala', 'Lehsuni Palak Gravy', 'Dahi Aloo Gravy', 'Sev Tomato Gravy', 'Chole Masala', 'Rajma Masala', 'Dal Fry', 'Dal Tadka', 'Dal Makhani', 'Palak Paneer', 'Paneer Butter Masala', 'Shahi Paneer', 'Spicy Kadhai Paneer', 'Matar Paneer', 'Kaju Masala', 'Aloo Paratha', 'Aloo Pyaz Paratha', 'Aloo Gobi Paratha', 'Gobi Paratha', 'Gobi Methi Paratha', 'Gobi Pyaz Paratha', 'Onion Paratha', 'Methi Paratha', 'Methi Pyaz Paratha', 'Paneer Paratha', 'Paneer Aloo Paratha', 'Paneer Pyaz Paratha', 'Paneer Gobi Paratha', 'Paneer Methi Paratha', 'Paneer Gajar Paratha', 'Muli Paratha', 'Masala Ajwain Paratha', 'Gajar Paratha', 'Gajar Aloo Paratha', 'Gajar Gobi Paratha', 'Gajar Pyaz Paratha', 'Gajar Methi Paratha', 'Plain Paratha', 'Phulka', 'Butter Phulka', 'Masala Phulka', 'Butter Masala Phulka', 'Ajwain Phulka', 'Butter Ajwain Phulka', 'Methi Roti', 'Butter Methi Roti', 'Ghee Rice', 'Jeera Rice', 'Matar Pulao', 'Paneer Pulao', 'Plain Papad']                                                                                                                                                                                                                                                                                                                                                                                                                                                                                                                                                                                                                                                                                                                                                                                                                                                                                                                                                                                                                                                                                                                                                                                                                                                                                                                                                                                                                                                                                                                                                                                                                                                                                                                                                                                                                                                                                                                                                                                                                                                                                                                                                                                                                                                                                                                                                                                                                                                                                                                                                                                                                                                                                                                                                                                                                                                                                                                                                                                                                                                                                                                                                                                                                                                                                                                                                                                                                                                                                                                                                                                                                                                                                                                                                           1\n",
       "['Veg Chinese Combo', 'Non Veg Chinese Combo', 'Veg Biryani Along With Paneer Butter Masala', 'Chicken Biryani Along With Kabab', 'Veg Biryani Combo', 'Chicken Biryani Combo', 'Rumali Roti', 'Tandoori Butter Naan', 'Special Dum Chicken Biryani', 'Veg Fried Rice', 'Tandoori Chicken', 'Paneer Butter Masala', 'Butter Chicken', 'Veg Chinese Combo', 'Non Veg Chinese Combo', 'Veg Biryani Along With Paneer Butter Masala', 'Chicken Biryani Along With Kabab', 'Veg Biryani Combo', 'Chicken Biryani Combo', 'Non Veg Chinese Combo', 'Veg Clear Soup', 'Veg Sweet Com Soup', 'Tomoto Soup', 'Chicken Clear Soup', 'Masala Dosa', 'Plain Dosa', 'Plain Ghee Dosa', 'Onion Dosa', '2 Idly', 'Vada', 'Poori Plate', 'Appam', 'Gobi Manchurian Dry', 'Gobi Chilly Dry', 'Mushroom Pepper Dry', 'Mushroom Manchurian Dry', 'Chilly Mushroom Dry', 'Chilly Paneer Dry', 'Aloo Gobi Dry', 'Tandoori Chicken', 'Tandoori Kabab', 'Tandoori Malai', 'Tandoori Hariyali', 'Tandoori Reshmi', 'Tandoori Kalmi Kabab', 'Boneless Kabab', 'Boneless Chilly Chicken Dry', 'Boneless Chicken 65', 'Boneless Garlic Chicken', 'Boneless Ginger Chicken', 'Boneless Pepper Chicken', 'Chicken Kabab', 'Chicken Pepper Dry', 'Chicken Pepper Fry', 'Chilly Chicken Dry', 'Chicken 65 Semi Dry', 'Ginger Chicken', 'Garlic Chicken', 'Boneless Malai Tikka', 'Boneless Hariyali Tikka', 'Boneless Reshmi Tikka', 'Fish Slice Fry', 'Chilly Fish', 'Prawns Dry Fry', 'Dal Makhani', 'Dal Fry', 'Dal Jeera', 'Dal Tadka', 'Dal Kadai', 'Dal Punjabi', 'Mixed Veg Curry', 'Veg Kadai', 'Gobi Masala', 'Gobi Manchurian Gravy', 'Aloo Gobi Masala', 'Aloo Gobi Jeera', 'Veg Hyderabadi', 'Veg Kolhapuri', 'Veg Shahi Korma', 'Paneer Masala', 'Paneer Butter Masala', 'Paneer Kadai', 'Paneer Mancuhrian', 'Paneer Chilly Gravy', 'Matar Paneer Masala', 'Palak Paneer', 'Aloo Palak', 'Green Peas Masala', 'Tomato Fry', 'Mushroom Masala', 'Mushroom Pepper Masala', 'Mushroom Manchurian Masala', 'Chilly Mushroom', 'Egg Masala', 'Egg Keema Masala', 'Chicken Masala', 'Chicken Korma', 'Chicken Pepper Masala', 'Chicken Kolhapuri', 'Chicken Hyderabadi', 'Chicken 65', 'Chicken Tikka Masala', 'Chicken Mughlai', 'Butter Chicken', 'Ginger Chicken', 'Kadai Chicken', 'Garlic Chicken', 'Methi Chicken', 'Chilly Chicken Dry Gravy', 'Chicken Pepper Dry Gravy', 'Mutton Keema', 'Mutton Korma', 'Mutton Chops', 'Mutton Masala', 'Mutton Mughlai', 'Mutton Pepper Masala', 'Mutton Pepper Dry', 'Mutton Kadai', 'Mutton Methi', 'Fish Curry', 'Fish Slice Curry', 'Fish Slice Masala', 'Chapathi', 'Normal Porata', 'Special Kerala Porata', 'Special Ceylon Porata', 'Wheat Porata', 'Rumali Roti', 'Aloo Porata', 'Gobi Porata', 'Garlic Ceylon Porata', 'Normal Tandoori Roti', 'Butter Tandoori Roti', 'Tandoori Naan Roti', 'Tandoori Butter Naan', 'Tandoori Kulcha', 'Butter Tandoori Kulcha', 'Egg Porata', 'Chicken Porata', 'Mutton Keema Porata', 'Dum Masala Rice', 'Dum Ghee Rice', 'Jeera Rice', 'Plain Rice', 'Curd Rice', 'Special Dum Veg Biryani', 'Special Dum Egg Biryani', 'Dum Masala Kushka Rice', 'Special Dum Chicken Biryani', 'Special Dum Mutton Biryani', 'Special Dum Fish Biryani', 'Special Dum Prawns Biryani', 'Prawns Biryani', 'Fish Biryani', 'Veg Fried Rice', 'Mushroom Fried Rice', 'Gobi Fried Rice', 'Paneer Fried Rice', 'Shahi Veg Fried Rice', 'Egg Fried Rice', 'Chicken Fried Rice', 'Mutton Fried Rice', 'Shahi Non Veg Fried Rice', 'Mixed Fried Rice', 'Veg Noodles', 'Paneer Noodles', 'Schezwan Noodles', 'Egg Noodles', 'Chicken Noodles', 'Mixed Noodles', 'Veg Roll', 'Paneer Roll', 'Egg Roll', 'Chicken Roll', 'Chicken Jumbo Roll', 'Mutton Keema Roll', 'Egg Bhurji', 'Egg Fry', 'Egg Roast', '2 Egg Omelette', 'Green Salad', 'Cucumber Salad', 'Onion Salad', 'Mixed Salad']                                                                                                                                                                                                                                                                                                                                                                                                                                                                                                                                                                                                                                                                                                                                                                                                                                                                                                                                                                                                                                                                                                                                                                                                                            1\n",
       "['Murgh Pepper Dry', 'Chilly Egg', 'Dal Khichadi', '4 Neer Dosa', 'Prawns Curry', 'Cream of Tomato Soup', 'Cream of Mushroom Soup', 'Cream of Veg Soup', 'Cream of Palak Soup', 'Veg Sweet Corn Soup', 'Veg Manchow Soup', 'Veg Clear Soup', 'Veg Hot and Sour Soup', 'Veg Noodles Soup', 'Chicken Sweet Corn Soup', 'Chicken Manchow Soup', 'Chicken Hot and Sour Soup', 'Chicken Clear Soup', 'Chicken Noodles Soup', 'Moong Usli', 'Corn Pepper Dry', 'Green Peas Dry', 'Boiled Veg Butter Fry', 'Veg Bhajji', 'Onion Pakoda', 'Bhindi Pepper Dry', 'Masala Peanuts', 'Hara Bhara Kabab', 'Palak Corn Vada', 'French Fries', 'Cashew Nuts', 'Cheese Cherry Pineapple', 'Paneer Pakoda', 'Mushroom Pepper Dry', 'Chana Dry', 'Chana Usli', 'Egg Half Fry', 'Boiled Egg Butter Fry', 'Omelette', 'Boiled Egg', 'Egg Pakoda', 'Murgh Pepper Dry', 'Murgh Pepper Fry', 'Murgh Koliwada', 'Murgh Kabab', 'Mutton Pepper Dry', 'Prawns Koliwada', 'Onion Rings', 'Crispy Vegetables', 'Veg Spring Roll', 'Crispy Potato with Spring Onion', 'Paneer Satay', 'Baby Corn Satay', 'Baby Corn Golden Fry', 'Gobi Manchurian', 'Chilly Gobi', 'Chilly Paneer', 'Chilly Mushroom', 'Chilly Baby Corn', 'Veg Schezwan', 'Veg Manchurian', 'Paneer Tikka', 'Pudina Tikka', 'Tandoori Gobi', 'Tandoori Aloo', 'Baby Corn Tikka', 'Veg Seekh Kabab', 'Mushroom Tikka', 'Murgh Tikka', 'Tandoori Murgh', 'Murgh Lehsooni Kabab [7 Pieces]', 'Murgh Hariyali Kabab [7 Pieces]', 'Tangdi Kabab [2 Pieces]', 'Kalmi Kabab [4 Pieces]', 'Afghani Kabab [2 Pieces]', 'Murgh Malai', 'Murgh Reshmi Kabab', 'Murgh Jahalpuri [7 Pieces]', 'Murgh Mirchi [7 Pieces]', 'Murgh Sholey [7 Pieces]', 'Parivar ki Panji [15 Pieces]', 'Chicken Seekh Kabab', 'Chilly Egg', 'Lemon Chicken', 'Crispy Chicken', 'Schezwan Chicken', 'Chicken 65', 'Garlic Chicken', 'Ginger Chicken', 'Chilly Chicken', 'Chicken Manchurian', 'Chicken Satay', 'Chicken Lollipop', 'Chicken Spring Roll', 'Fish Finger', 'Golden Fried Prawns', 'Prawns Chilly', 'Prawns Schezwan Manchurian', 'Prawns Garlic', 'Prawns Ginger', 'Sabzi Mazedar', 'Makkai Methi Palak', 'Veg Sabrangi', 'Mushroom Paneer Peas Masala', 'Kaju Paneer Butter Masala', 'Veg Makhani', 'Butter Paneer', 'Paneer Pasanda', 'Paneer Bhurji', 'Navratan Kurma', 'Dum Aloo Masala', 'Veg Khazana', 'Veg Kalimirch', 'Baby Corn Masala', 'Green Peas Masala', 'Chana Masala', 'Plain Palak', 'Palak Paneer', 'Baigan Bharta', 'Mix Veg Curry', 'Veg Kadhai', 'Veg Kolhapuri', 'Stuffed Capsicum', 'Stuffed Tomato Masala', 'Veg Jalfrezi', 'Veg Do Pyaza', 'Aloo Gobi', 'Methi Palak', 'Aloo Tikka Masala', 'Gobi Methi', 'Malai Kofta', 'Matar Methi Malai', 'Nirmal Kofta', 'Hariyali Kofta', 'Bhindi Masala', 'Tomato Masala', 'Capsicum Masala', 'Dal Fry', 'Dal Tadka', 'Dal Methi Tadka', 'Dal Makhani', 'Egg Masala', 'Egg Bhurji', 'Murgh Kebab Masala', 'Murgh Lahori', 'Murgh Makhani', 'Murgh Methi', 'Murgh Handi', 'Murgh Rara', 'Murgh Hara Masala', 'Murgh Angare', 'Murgh Shahi Kurma', 'Murgh Masala', 'Murgh Tikka Masala', 'Murgh Kolhapuri', 'Murgh Kadhai', 'Murgh Kali Mirch', 'Mutton Roganj Josh', 'Mutton Keema Masala', 'Mutton Hara Masala', 'Mutton Handi', 'Mutton Bhuna Masala', 'Mutton Shahi Kurma', 'Roti', 'Phulka', 'Naan', 'Paratha', 'Kulcha', 'Garlic Naan', 'Cheese Naan', 'Butter Roti', 'Butter Paratha', 'Butter Kulcha', 'Butter Naan', 'Veg Stuffed Paratha', 'Veg Stuffed Kulcha', 'Lachha Paratha', 'Methi Roti', 'Methi Naan', 'Methi Kulcha', 'Methi Paratha', 'Pudina Roti', 'Pudina Naan', 'Pudina Kulcha', 'Pudina Paratha', 'Baby Roti', 'Baby Naan', 'Baby Kulcha', 'Baby Parota', 'Cocktail Bread Basket', 'Mutton Keema Naan', 'Dal Khichadi', 'Palak Rice', 'Veg Biryani', 'Veg Pulao', 'Jeera Rice', 'Curd Rice', 'Steamed Rice', 'Ghee Rice', 'Rice', 'Egg Biryani', 'Murgh Dum Biryani', 'Mutton Dum Biryani', 'Prawns Biryani', 'Veg Schezwan Fried Rice', 'Veg Fried Rice', 'Mushroom Fried Rice', 'Veg Garlic Fried Rice', 'Egg Fried Rice', 'Chicken Fried Rice', 'Chicken Schezwan Fried Rice', 'Chicken Garlic Fried Rice', 'Mixed Fried Rice', 'Prawns Fried Rice', 'Veg Chowmein', 'Veg Chow Chow', 'Veg Hakka Noodles', 'American Veg Chopsuey', 'Chinese Veg Chopsuey', 'Chicken Chowmein', 'Chicken Hakka Noodles', 'American Chicken Chopsuey', 'Chinese Chicken Chopsuey', '2 Menthe Dosa', '4 Neer Dosa', 'Neer Dosa with Chutney', '2 Sannas', 'Paneer Ghee Roast', 'Mushroom Ghee Roast', 'Aloo Moong Gassi', 'Chicken Ghee Roast', 'Egg Ghee Roast', 'Chicken Sukka', 'Chicken Gessi', 'Chicken Pulimunchi', 'Chicken Pulimunchi Dry', 'Kori Roti', 'Nati Chicken', 'Mutton Sukka', 'Mutton Gassi', 'Prawns Ghee Roast', 'Prawns Curry', 'Prawns Sukka', 'Veg Sandwich', 'Cheese Sandwich', 'Egg Sandwich', 'Chicken Sandwich', 'Green Salad', 'Aloo Mixed Raita', 'Cucumber Mixed Raita', 'Onion Mixed Raita', 'Tomato Mixed Raita', 'Boondi Raita', 'Pineapple Raita', 'Curd', 'Coconut Chutney', 'Roasted Papad', 'Fried Papad', 'Masala Papad']        1\n",
       "Name: menu_item, Length: 8243, dtype: int64"
      ]
     },
     "execution_count": 78,
     "metadata": {},
     "output_type": "execute_result"
    }
   ],
   "source": [
    "top_15_menu_item"
   ]
  },
  {
   "cell_type": "code",
   "execution_count": 79,
   "metadata": {},
   "outputs": [
    {
     "data": {
      "text/plain": [
       "[]                                                                                                                                                                                                                                                                                                                                                                                                                                                                                                                                                                                                                                                                                                                                                                                                                                                                                                                                                                                                                                                                                                                                                                                                                                                                                                                                                                                                                                                                                                                                                                                                                                                                                                                                                                                                                                                                                                                                                                                                                                                                                                                                                                                                                                                                                                                                                                                                                                                                                                                                                                                                                                                                                                                                                                                                                                                                                                                                                                                                                                                                                                                                                                                                                                                                                                                                                                                                                                                                                                                                                                                                                                                                                                                                                                                                                                                                                                                                                                                                                                                                                                                                                                                                                                                                                                                                                                                                                                                                                                                                                                                                                                                                                                                                                                                                                                                                                                                                                                                                                                                           30307\n",
       "['Butter Chicken Pizza', 'Bombay Veggie Burger', 'Tawa Paneer Burger', 'Oh So Cheesy Burger', 'Barbecue Chicken Burger', 'Peri Peri Chicken Burger', 'BBQ Lamb', 'Cheesy Chicken', 'Crunchy Ferrero', 'Lots of Nuts', 'Kadhai Paneer Pizza', 'Chilli Paneer and Mushroom Pizza', 'Chipotle Veggie Pizza', 'Creamy Cheese Pizza', 'Southern Veggie Korma Pizza', 'Popeye, The Corny Man Pizza', 'Paneer Tikka Pizza', 'Desi Margherita Pizza', 'Roasted Paneer with Mustard Pizza', 'Bangalore Express Pizza', 'Italian Chaska Pizza', 'Mayo and Cheese Pizza', 'Classic Margherita', 'Cajun Hawaiian Pizza', 'Butter Chicken Pizza', 'Lasooni Bhuna Murg Pizza', 'Chilly Chicken Pizza', 'Hot Garlic Chicken Pizza', 'Murg Barbecue Pizza', 'Mediterranean Mutton Keema Pizza', 'Super Green Burger', 'Quinoa Black Bean Burger', 'Bombay Veggie Burger', 'Tawa Paneer Burger', 'Oh So Cheesy Burger', 'Barbecue Chicken Burger', 'Chipotle Lamb Burger', 'Crumb Fried Fish Burger', 'Peri Peri Chicken Burger', 'BBQ Lamb', 'Cheesy Chicken', 'Picnic Chicken Burger', 'Korean Grilled Chicken with Kimchi', 'Kiddy Kat Strawberry', 'Kiddy Kat Chocolate', 'Bubblegum', 'Oreo Shake', 'Caramel Shake', 'Chocolate Shake', 'Strawberry Shake', 'Vanilla Shake', 'Cold Coffee', 'Virgin Mojito', 'Iced Tea', 'Hot Chocolate', 'Cappuccino', 'Latte', 'Espresso Shot', 'Brownie Shake', 'Red Velvet Cheesecake Shake', 'Oreo Cheesecake Shake', 'Salted Caramel Popcorn', 'Coconut Crumble', 'Coffee Crunch', 'Bira', 'Thanda Paan', 'Sticky Toffee Pudding', 'Blueberry Cheesecake', 'Nutella Cheesecake', 'Caramel Custard with Strawberry or Figs', 'Red Velvet Cheesecake', 'Tiramisu', 'Zesty Vanilla and Tipsy Brownie', 'Oreo Explosion', 'Chocolate Almond Crumble', 'Crunchy Ferrero', \"Stoner's Chocolate Decadence\", 'Brownie Bash', 'Chocolate Lava', 'Dark Chocolate Caramel', 'Chocolate Overload', 'Lots of Nuts', 'Peanut Butter Crunch', 'Nutty Fudgy', 'Lemon Pistachio Biscotti', 'Frutilicious Ice Cream', 'Strawberry Tease Ice Cream', 'Mango Tango Ice Cream', 'Lychee Lovers Ice Cream', 'Monkey Business Ice Cream', 'Apple Crumble Ice Cream', 'Blueberry Bliss Ice Cream']                                                                                                                                                                                                                                                                                                                                                                                                                                                                                                                                                                                                                                                                                                                                                                                                                                                                                                                                                                                                                                                                                                                                                                                                                                                                                                                                                                                                                                                                                                                                                                                                                                                                                                                                                                                                                                                                                                                                                                                                                                                                                                                                                                                                                                                                                                                                                                                                                                                                                                                                                                                                                                                                                                                                                                                                                                                            11\n",
       "['Students Veg Combo', 'Office Veg Combo', 'Students Non Veg Combo', 'Office Non Veg Combo', 'Mughlai Non Veg Combo', 'Aloo Paratha Combo', 'Poori Aloo Jeera Combo', 'Poori Aloo Tomato Combo', 'Paneer Paratha Combo', 'Students Veg Combo', 'Office Veg Combo', 'Students Non Veg Combo', 'Office Non Veg Combo', 'Mughlai Non Veg Combo', 'Shami Kebab Roll', 'Mughlai Biryani Combo [Veg]', 'Nawabi Thali Combo', 'The Lajawab Gravy Combo [Veg]', 'Mughlai Meal For Two [Veg]', 'The After Party Starters', 'Royal Feast For Four [Veg]', 'The Galawati Roll', 'Mughlai Biryani Combo [Non Veg]', 'The Nihari Combo [Chicken]', 'The Nihari Combo (Mutton)', 'The Lajawab Gravy Combo [Non Veg]', 'Mughlai Meal For Two [Non-Veg]', 'Biryani Blast', 'Royal Feast For Four [Non-Veg]', 'Baby Corn 65', 'Chilli Baby Corn', 'Mushroom 65', 'Chilli Mushroom', 'Veg Seekh Kebab', 'Kasturi Paneer Tikka', 'Paneer 65', 'Paneer Angara', 'Chilli Paneer', 'Hara Bhara Kebab', 'Paneer Tikka', 'Paneer Malai Tikka', 'Tandoori Veg Platter', 'Tandoori Chicken', 'Mutton Shami Kebab [Signature]', 'Mutton Galouti Kebab [Signature]', 'Chicken 65', 'Chicken Seekh Kebab', 'Chicken Tikka', 'Chilli Chicken', 'Chicken Angara', 'Chicken Kasturi Kebab', 'Chicken Malai Tikka', 'Mutton Sultani Seekh Kebab', 'Non Veg Tandoori Platter', 'Aloo Tomato Gravy', 'Aloo Capsicum Dry', 'Aloo Jeera Dry', 'Dal Fry', 'Dal Tadka', 'Rajma', 'Chole', 'Dal Makhani [Signature]', 'Lipta Mushroom Masala', 'Veg Kolhapuri', 'Chole Curry', 'Paneer Bhurji', 'Miloni Tarkari [Signature]', 'Mixed Veg', 'Palak Paneer', 'Diwani Handi', 'Mattar Paneer', 'Paneer Do Pyaza', 'Butter Paneer', 'Kadai Paneer [Signature]', 'Paneer Tikka Masala [Signature]', 'Methi Malai Paneer', 'Paneer Lababdar [Signature]', 'Murg Musallam', 'Egg Bhurji', 'Egg Curry', 'Chicken Nihari [Signature]', 'Chicken Curry', 'Chicken Do Pyaza', 'Chicken Methi Khas', 'Hyderabadi Chicken', 'Chicken Hara Pyaza', 'Chicken Kali Mirch', 'Chicken Kohlapuri', 'Kadai Chicken', 'Chicken Lababdar', 'Chicken Lajawab [Signature]', 'Chicken Tikka Masala', 'Chicken Boti Kebab Masala', 'Butter Chicken', 'Mughlai Chicken Masala [Signature]', 'Mutton Nihari [Signature]', 'Mutton Do Pyaza', 'Mutton Korma', 'Mutton Rogan Josh', 'Mughlai Mutton Masala', 'Mutton Boti Kebab Masala [Signature]', 'Murg Musallam', 'Steamed Rice', 'Jeera Rice', 'Ghee Rice', 'Khushka', 'Pulao', 'Veg Biryani', 'Mughlai Chicken Dum Biryani [Signature]', 'Chicken Tikka Biryani', 'Mughlai Mutton Dum Biryani [Signature]', 'Tandoori Roti', 'Lachha Paratha', 'Naan', 'Amritsari Kulcha', 'Garlic Naan', 'Missi Roti', 'Mughlai Paratha', 'Poori', 'Mughlai Bread Basket', 'Papad', 'Curd', 'Boondi Raita', 'Mixed Raita', 'Masala Papad', 'Pineapple Raita', 'Paneer Roll', 'Hawker Style Boiled Egg', 'Masala Omelette', 'Chicken Roll', 'Chicken Boti Roll', 'Shami Roll', 'The Galouti Roll [Signature]', 'Mutton Boti Roll', 'Gulab Jamun [2 Pieces]', 'Ice Cream Scoop [single]', 'Rice Kheer', 'Awadhi Kheer [Signature]', 'Gajar Ka Halwa', 'Lachhedar Rabri', 'Shahi Tukda [Signature]', 'Thums Up [750 Ml]', 'Mineral Water [1 Litre]', 'Buttermilk', 'Lime Water', 'Thums Up (600 Ml)', 'Jal Jeera', 'Lassi', 'Lime Water Salt', 'Lime Water Sweet', 'Chocolate Lassi', 'Strawberry Lassi', 'Alphonso Mango Lassi', 'Thandai', 'Mango Lassi']                                                                                                                                                                                                                                                                                                                                                                                                                                                                                                                                                                                                                                                                                                                                                                                                                                                                                                                                                                                                                                                                                                                                                                                                                                                                                                                                                                                                                                                                                                                                                                                                                                        9\n",
       "['Chicken Cheese Burger', 'Chicken Billys BIg Burger', 'French Fries', 'Alfredo Veg Pasta', 'Brownie Waffles', 'Veg Burger', 'Veg Cheese Burger', 'Veg Caramelized onion Burger', 'Mushroom Classic Burger', 'Veg English Cheddar Cheese Burger', 'Veg Chipotle Corn Burger', 'Veg Billys BIg Burger', 'Chicken Burger', 'Chicken Cheese Burger', 'Chicken Caramelized Onion Burger', 'Chicken Mushroom Burger', 'Chicken English Cheddar Cheese Burger', 'Chicken Chipotle Corn Burger', 'Chicken Billys BIg Burger', 'Chicken Nuggets Burger', 'Veg Grilled Sandwich', 'Paneer Burji Sandwich', 'Toasted Paneer Sandwich', 'Grilled Mushroom Sandwich', 'Corn and Cheese Sandwich', 'Egg Sandwich', 'Egg Chutney Sandwich', 'Chicken Mayo Sandwich', 'Chicken Cheese Sandwich', 'Hotdog Sandwich', 'Tuna Sandwich', 'Tangy Tomato Pasta', 'Spicy Penne Pasta', 'Alfredo Veg Pasta', 'Smoked Chicken Pasta', 'Alfredo Chicken Pasta', 'French Fries', 'Veg', 'Chicken', 'Fish Finger', 'Vegetable Omelette', 'Masala Omelette', 'Spanish Omelette', 'Cheese Omelette', 'Paneer Omelette', 'Ultimate Vegan Shakes', 'Bittersweet Symphony Shakes', 'The White Paradise Shakes', 'Deep Dark Abyss Shakes', 'Irene Adlers Mystery Shakes', 'Red Weather Parody Shakes', 'Mind palace Shakes', 'Tower of Baskerville Shakes', 'Nights Demon Shakes', 'Black and White Romance Shakes', 'Day Dream Shakes', 'Sherlocks Addiction Shakes', 'Mrs Hudsons Secret Shakes', 'Classic Waffles', 'Caramel Waffles', 'Choco Treat Waffles', 'Brownie Waffles', 'Nutella Crunch Waffles', 'Snowflakes Waffles', 'Rocky Road Waffles', 'Lights Out Waffles']                                                                                                                                                                                                                                                                                                                                                                                                                                                                                                                                                                                                                                                                                                                                                                                                                                                                                                                                                                                                                                                                                                                                                                                                                                                                                                                                                                                                                                                                                                                                                                                                                                                                                                                                                                                                                                                                                                                                                                                                                                                                                                                                                                                                                                                                                                                                                                                                                                                                                                                                                                                                                                                                                                                                                                                                                                                                                                                                                                                                                                                                                                                                                                                                                                                                                                                                                                                                                   9\n",
       "['Roasted Bacon Sandwich', 'Veggie Breakfast', 'English Breakfast', 'Pork Lovers Breakfast', 'Typical English Breakfast', 'Veggie Breakfast', 'Simple Breakfast', 'English Breakfast', 'Pork Lovers Breakfast', 'Typical English Breakfast', 'Sunshine Breakfast', 'London Bridges Falling Down', 'Dreams Full English Breakfast', 'Indianaise style Omelette', 'Vegan Favourite Omelette', 'Potatoe Omelette', 'Exotic Creamy Scrambled Eggs', 'Cheesy Mushroom Omelette', 'Herb Chicken and Cheese Omelette', 'Double Delight Sausage Omelette', 'Bacon and Cheese Omelette', 'Ultimate Bacon and Ham Omelette', 'Classic French Toast', 'Stuffed Blueberry French Toast', 'Snow White Caramel French Toast', 'Dreams French Toast Platters', 'Classic Pancake [3 Pieces]', 'Triple Meltinly Pancake [3 Pieces]', 'Chocolate Hungers Pancake [3 Pieces]', 'Caramel Banana Nutty Pancake [3 Pieces]', 'Dreams House Pancake [3 Pieces]', 'Bacon Pancake [3 Pieces]', 'Traditional Waffle', 'Nutella and Banana Waffle [4 Pieces]', 'Blueberry Fillet Waffle [4 Pieces]', 'Meaty Delight Waffle [4 Pieces]', 'Chicken Burger', 'Genius Chicken Burger', 'Grilled Chicken Burger', 'Chicken and Bacon Burger', 'Ham Burger', 'Ham BBQ Burger', 'Dreams Bacon Burger', 'Meaty War Burger', 'Grilled Cheese Sandwich', 'Spinach Corn and Cheese Sandwich', 'Roasted Veggie Sandwich', 'Dreams Veggie Sandwich', 'Herb Chicken and Cheese Sandwich', 'Chicken Sausage and Cheese Sandwich', 'Roasted Bacon Sandwich', 'Cuban Sandwich', 'Veg Arrabiata Pasta', 'Veg Mac and Cheese Pasta', 'Penne and Cheese Veggie', 'Chicken Arrabiata Pasta', 'Chicken Mac and Cheese Pasta', 'Penne and Cheese Bacon', 'Penne Cheese Pepperoni', 'Super Burger Combo', 'Assorted Veggie Rice Bowl', 'Herb Chicken Rice Bowl', 'French Fries', 'Cheesy Fries', 'Potato Wedges', 'Chessy Hash Brown', 'Mint Cheese Balls', 'Chicken Nuggets', 'Bacon Cheesy Fries', 'BBQ Sausages', 'Pork Sausage Fry [4 Pieces]', 'Bacon Fry [4 Pieces]', 'Chicken Sausage Fry [4 Pieces]', 'Classic Lemon Iced Tea', 'Peach Iced Tea', 'Blended Cold Coffee', 'Chocolate Cold Coffee', 'Butterscotch Cold Coffee', 'Coke', 'Hot Chocolate', 'Lemon Mint Mojito', 'Raspberry Mojito', 'Lemon Granita', 'Green Apple Granita', 'Strawberry Lemon Granita', 'Expresso Granita', 'Strawberry Oats Smoothie', 'Chocolate Banana Smoothie', \"Dried Berry's Smoothie\", 'Oreo Nutty Fantasy Smoothie']                                                                                                                                                                                                                                                                                                                                                                                                                                                                                                                                                                                                                                                                                                                                                                                                                                                                                                                                                                                                                                                                                                                                                                                                                                                                                                                                                                                                                                                                                                                                                                                                                                                                                                                                                                                                                                                                                                                                                                                                                                                                                                                                                                                                                                                                                                                                                                                                                                                                                                                                                                                                   8\n",
       "                                                                                                                                                                                                                                                                                                                                                                                                                                                                                                                                                                                                                                                                                                                                                                                                                                                                                                                                                                                                                                                                                                                                                                                                                                                                                                                                                                                                                                                                                                                                                                                                                                                                                                                                                                                                                                                                                                                                                                                                                                                                                                                                                                                                                                                                                                                                                                                                                                                                                                                                                                                                                                                                                                                                                                                                                                                                                                                                                                                                                                                                                                                                                                                                                                                                                                                                                                                                                                                                                                                                                                                                                                                                                                                                                                                                                                                                                                                                                                                                                                                                                                                                                                                                                                                                                                                                                                                                                                                                                                                                                                                                                                                                                                                                                                                                                                                                                                                                                                                                                                                             ...  \n",
       "['Grill Hut Combo 1', 'Chicken Tikka Kabab', 'Chicken Malai Tikka Kabab', 'Chicken Kali Mirch Tikka', 'Chicken Kalmi Kabab [2 Pieces]', 'Chicken Seekh Kabab', 'Chicken Alfhaam', 'Smoky Chicken Wings [4 Pieces]', 'Paneer Tikka Roll', 'Chicken Tikka Roll', 'Chicken Reshmi Tikka Roll', 'Chicken Malai Tikka Roll', 'Grill Hut Combo 1', 'Grill Hut Combo 2', 'Aloo Tikka Kabab', 'Grilled Babycorn Tikka Kabab', 'Grilled Mushroom Tikka Kabab', 'Paneer Tikka Kabab', 'Mix Veg Tikka Kabab', 'Chicken Tikka Kabab', 'Chicken Shahi Tikka', 'Chicken Reshmi Kabab', 'Chicken Malai Tikka Kabab', 'Chicken Kali Mirch Tikka', 'Chicken Kalmi Kabab [2 Pieces]', 'Chicken Seekh Kabab', 'Chicken Alfhaam', 'Smoky Chicken Wings [4 Pieces]', 'Aloo Tikka Roll', 'Grilled Babycorn Tikka Roll', 'Grilled Mushroom Roll', 'Paneer Tikka Roll', 'Paneer Kali Mirch Roll', 'Paneer Mushroom Roll', 'Paneer Babycorn Roll', 'Mushroom Babycorn Roll', 'Aloo Babycorn Roll', 'Mix Veg Roll', 'Egg Roll', 'Chicken Tikka Roll', 'Chicken Shahi Roll', 'Chicken Reshmi Tikka Roll', 'Chicken Malai Tikka Roll', 'Chicken Kali Mirch Roll', 'Chicken Malai Mushroom Roll', 'Chicken Seekh Roll', 'Chicken Bhuna Roll']                                                                                                                                                                                                                                                                                                                                                                                                                                                                                                                                                                                                                                                                                                                                                                                                                                                                                                                                                                                                                                                                                                                                                                                                                                                                                                                                                                                                                                                                                                                                                                                                                                                                                                                                                                                                                                                                                                                                                                                                                                                                                                                                                                                                                                                                                                                                                                                                                                                                                                                                                                                                                                                                                                                                                                                                                                                                                                                                                                                                                                                                                                                                                                                                                                                                                                                                                                                                                                                                                                                                                                                                                                                                                                                                                                                                                                                 1\n",
       "['Fruit Salad with Ice Cream', 'Fruit Salad', 'Fruit Bowl', 'Lime Juice', 'Pineapple Juice', 'Grapes Juice', 'Orange Juice', 'Sweet Lime Juice', 'Water Melon Juice', 'Musk Melon Juice', 'Mixed Fruit Juice', 'Sugarcane Juice', 'Pulpy Grapes', 'Wheat Grass', 'Sweet Lassi', 'Rose Lassi', 'Strawberry Lassi', 'Mango Lassi', 'Chocolate Lassi', 'Dry Fruit Lassi', 'Banana Lassi', 'Papaya Milkshake', 'Banana Milkshake', 'Apple Milkshake', 'Sapota Milkshake', 'Strawberry Fruit Milkshake', 'Dates Milkshake', 'Sharjah Milkshake', 'Mango Milkshake', 'Dry Fruit Milkshake', 'Oreo Milkshake', 'Kiwi Milkshake', 'Pomegranate Milkshake', 'Vanilla Ice Cream Milkshake', 'Strawberry Ice Cream Milkshake', 'Butterscotch Ice Cream Milkshake', 'Pista Ice Cream Milkshake', 'Chocolate Ice Cream Milkshake', 'Blackcurrant Ice Cream Milkshake', 'Masala Lime Soda', 'Masala Sweet Lime Soda', 'Sweet Lime Soda', 'Sweet and Salted Lime Soda', 'Salted Lime Soda']                                                                                                                                                                                                                                                                                                                                                                                                                                                                                                                                                                                                                                                                                                                                                                                                                                                                                                                                                                                                                                                                                                                                                                                                                                                                                                                                                                                                                                                                                                                                                                                                                                                                                                                                                                                                                                                                                                                                                                                                                                                                                                                                                                                                                                                                                                                                                                                                                                                                                                                                                                                                                                                                                                                                                                                                                                                                                                                                                                                                                                                                                                                                                                                                                                                                                                                                                                                                                                                                                                                                                                                                                                                                                                                                                                                                                                                                                                                                                                                                                                                                                     1\n",
       "['Chole Chawal Combo', 'Dal Chawal Combo', 'Laghu Aahar Combo', 'Aloo Matar', 'Aloo Jeera Dry', 'Gobi Matar Masala', 'Aloo Capsicum Masala', 'Aloo Gobi', 'Aloo Palak Gravy', 'Spicy Mixed Vegetables Gravy', 'Spicy Veg Kolhapuri Gravy', 'Gobi Matar', 'Plain Palak Gravy', 'Spicy Kadhai Vegetables Gravy', 'Aloo Gobi Masala', 'Lehsuni Palak Gravy', 'Dahi Aloo Gravy', 'Sev Tomato Gravy', 'Chole Masala', 'Rajma Masala', 'Dal Fry', 'Dal Tadka', 'Dal Makhani', 'Palak Paneer', 'Paneer Butter Masala', 'Shahi Paneer', 'Spicy Kadhai Paneer', 'Matar Paneer', 'Kaju Masala', 'Aloo Paratha', 'Aloo Pyaz Paratha', 'Aloo Gobi Paratha', 'Gobi Paratha', 'Gobi Methi Paratha', 'Gobi Pyaz Paratha', 'Onion Paratha', 'Methi Paratha', 'Methi Pyaz Paratha', 'Paneer Paratha', 'Paneer Aloo Paratha', 'Paneer Pyaz Paratha', 'Paneer Gobi Paratha', 'Paneer Methi Paratha', 'Paneer Gajar Paratha', 'Muli Paratha', 'Masala Ajwain Paratha', 'Gajar Paratha', 'Gajar Aloo Paratha', 'Gajar Gobi Paratha', 'Gajar Pyaz Paratha', 'Gajar Methi Paratha', 'Plain Paratha', 'Phulka', 'Butter Phulka', 'Masala Phulka', 'Butter Masala Phulka', 'Ajwain Phulka', 'Butter Ajwain Phulka', 'Methi Roti', 'Butter Methi Roti', 'Ghee Rice', 'Jeera Rice', 'Matar Pulao', 'Paneer Pulao', 'Plain Papad']                                                                                                                                                                                                                                                                                                                                                                                                                                                                                                                                                                                                                                                                                                                                                                                                                                                                                                                                                                                                                                                                                                                                                                                                                                                                                                                                                                                                                                                                                                                                                                                                                                                                                                                                                                                                                                                                                                                                                                                                                                                                                                                                                                                                                                                                                                                                                                                                                                                                                                                                                                                                                                                                                                                                                                                                                                                                                                                                                                                                                                                                                                                                                                                                                                                                                                                                                                                                                                                                                                                                                                                                                                                                                                                                                           1\n",
       "['Veg Chinese Combo', 'Non Veg Chinese Combo', 'Veg Biryani Along With Paneer Butter Masala', 'Chicken Biryani Along With Kabab', 'Veg Biryani Combo', 'Chicken Biryani Combo', 'Rumali Roti', 'Tandoori Butter Naan', 'Special Dum Chicken Biryani', 'Veg Fried Rice', 'Tandoori Chicken', 'Paneer Butter Masala', 'Butter Chicken', 'Veg Chinese Combo', 'Non Veg Chinese Combo', 'Veg Biryani Along With Paneer Butter Masala', 'Chicken Biryani Along With Kabab', 'Veg Biryani Combo', 'Chicken Biryani Combo', 'Non Veg Chinese Combo', 'Veg Clear Soup', 'Veg Sweet Com Soup', 'Tomoto Soup', 'Chicken Clear Soup', 'Masala Dosa', 'Plain Dosa', 'Plain Ghee Dosa', 'Onion Dosa', '2 Idly', 'Vada', 'Poori Plate', 'Appam', 'Gobi Manchurian Dry', 'Gobi Chilly Dry', 'Mushroom Pepper Dry', 'Mushroom Manchurian Dry', 'Chilly Mushroom Dry', 'Chilly Paneer Dry', 'Aloo Gobi Dry', 'Tandoori Chicken', 'Tandoori Kabab', 'Tandoori Malai', 'Tandoori Hariyali', 'Tandoori Reshmi', 'Tandoori Kalmi Kabab', 'Boneless Kabab', 'Boneless Chilly Chicken Dry', 'Boneless Chicken 65', 'Boneless Garlic Chicken', 'Boneless Ginger Chicken', 'Boneless Pepper Chicken', 'Chicken Kabab', 'Chicken Pepper Dry', 'Chicken Pepper Fry', 'Chilly Chicken Dry', 'Chicken 65 Semi Dry', 'Ginger Chicken', 'Garlic Chicken', 'Boneless Malai Tikka', 'Boneless Hariyali Tikka', 'Boneless Reshmi Tikka', 'Fish Slice Fry', 'Chilly Fish', 'Prawns Dry Fry', 'Dal Makhani', 'Dal Fry', 'Dal Jeera', 'Dal Tadka', 'Dal Kadai', 'Dal Punjabi', 'Mixed Veg Curry', 'Veg Kadai', 'Gobi Masala', 'Gobi Manchurian Gravy', 'Aloo Gobi Masala', 'Aloo Gobi Jeera', 'Veg Hyderabadi', 'Veg Kolhapuri', 'Veg Shahi Korma', 'Paneer Masala', 'Paneer Butter Masala', 'Paneer Kadai', 'Paneer Mancuhrian', 'Paneer Chilly Gravy', 'Matar Paneer Masala', 'Palak Paneer', 'Aloo Palak', 'Green Peas Masala', 'Tomato Fry', 'Mushroom Masala', 'Mushroom Pepper Masala', 'Mushroom Manchurian Masala', 'Chilly Mushroom', 'Egg Masala', 'Egg Keema Masala', 'Chicken Masala', 'Chicken Korma', 'Chicken Pepper Masala', 'Chicken Kolhapuri', 'Chicken Hyderabadi', 'Chicken 65', 'Chicken Tikka Masala', 'Chicken Mughlai', 'Butter Chicken', 'Ginger Chicken', 'Kadai Chicken', 'Garlic Chicken', 'Methi Chicken', 'Chilly Chicken Dry Gravy', 'Chicken Pepper Dry Gravy', 'Mutton Keema', 'Mutton Korma', 'Mutton Chops', 'Mutton Masala', 'Mutton Mughlai', 'Mutton Pepper Masala', 'Mutton Pepper Dry', 'Mutton Kadai', 'Mutton Methi', 'Fish Curry', 'Fish Slice Curry', 'Fish Slice Masala', 'Chapathi', 'Normal Porata', 'Special Kerala Porata', 'Special Ceylon Porata', 'Wheat Porata', 'Rumali Roti', 'Aloo Porata', 'Gobi Porata', 'Garlic Ceylon Porata', 'Normal Tandoori Roti', 'Butter Tandoori Roti', 'Tandoori Naan Roti', 'Tandoori Butter Naan', 'Tandoori Kulcha', 'Butter Tandoori Kulcha', 'Egg Porata', 'Chicken Porata', 'Mutton Keema Porata', 'Dum Masala Rice', 'Dum Ghee Rice', 'Jeera Rice', 'Plain Rice', 'Curd Rice', 'Special Dum Veg Biryani', 'Special Dum Egg Biryani', 'Dum Masala Kushka Rice', 'Special Dum Chicken Biryani', 'Special Dum Mutton Biryani', 'Special Dum Fish Biryani', 'Special Dum Prawns Biryani', 'Prawns Biryani', 'Fish Biryani', 'Veg Fried Rice', 'Mushroom Fried Rice', 'Gobi Fried Rice', 'Paneer Fried Rice', 'Shahi Veg Fried Rice', 'Egg Fried Rice', 'Chicken Fried Rice', 'Mutton Fried Rice', 'Shahi Non Veg Fried Rice', 'Mixed Fried Rice', 'Veg Noodles', 'Paneer Noodles', 'Schezwan Noodles', 'Egg Noodles', 'Chicken Noodles', 'Mixed Noodles', 'Veg Roll', 'Paneer Roll', 'Egg Roll', 'Chicken Roll', 'Chicken Jumbo Roll', 'Mutton Keema Roll', 'Egg Bhurji', 'Egg Fry', 'Egg Roast', '2 Egg Omelette', 'Green Salad', 'Cucumber Salad', 'Onion Salad', 'Mixed Salad']                                                                                                                                                                                                                                                                                                                                                                                                                                                                                                                                                                                                                                                                                                                                                                                                                                                                                                                                                                                                                                                                                                                                                                                                                            1\n",
       "['Murgh Pepper Dry', 'Chilly Egg', 'Dal Khichadi', '4 Neer Dosa', 'Prawns Curry', 'Cream of Tomato Soup', 'Cream of Mushroom Soup', 'Cream of Veg Soup', 'Cream of Palak Soup', 'Veg Sweet Corn Soup', 'Veg Manchow Soup', 'Veg Clear Soup', 'Veg Hot and Sour Soup', 'Veg Noodles Soup', 'Chicken Sweet Corn Soup', 'Chicken Manchow Soup', 'Chicken Hot and Sour Soup', 'Chicken Clear Soup', 'Chicken Noodles Soup', 'Moong Usli', 'Corn Pepper Dry', 'Green Peas Dry', 'Boiled Veg Butter Fry', 'Veg Bhajji', 'Onion Pakoda', 'Bhindi Pepper Dry', 'Masala Peanuts', 'Hara Bhara Kabab', 'Palak Corn Vada', 'French Fries', 'Cashew Nuts', 'Cheese Cherry Pineapple', 'Paneer Pakoda', 'Mushroom Pepper Dry', 'Chana Dry', 'Chana Usli', 'Egg Half Fry', 'Boiled Egg Butter Fry', 'Omelette', 'Boiled Egg', 'Egg Pakoda', 'Murgh Pepper Dry', 'Murgh Pepper Fry', 'Murgh Koliwada', 'Murgh Kabab', 'Mutton Pepper Dry', 'Prawns Koliwada', 'Onion Rings', 'Crispy Vegetables', 'Veg Spring Roll', 'Crispy Potato with Spring Onion', 'Paneer Satay', 'Baby Corn Satay', 'Baby Corn Golden Fry', 'Gobi Manchurian', 'Chilly Gobi', 'Chilly Paneer', 'Chilly Mushroom', 'Chilly Baby Corn', 'Veg Schezwan', 'Veg Manchurian', 'Paneer Tikka', 'Pudina Tikka', 'Tandoori Gobi', 'Tandoori Aloo', 'Baby Corn Tikka', 'Veg Seekh Kabab', 'Mushroom Tikka', 'Murgh Tikka', 'Tandoori Murgh', 'Murgh Lehsooni Kabab [7 Pieces]', 'Murgh Hariyali Kabab [7 Pieces]', 'Tangdi Kabab [2 Pieces]', 'Kalmi Kabab [4 Pieces]', 'Afghani Kabab [2 Pieces]', 'Murgh Malai', 'Murgh Reshmi Kabab', 'Murgh Jahalpuri [7 Pieces]', 'Murgh Mirchi [7 Pieces]', 'Murgh Sholey [7 Pieces]', 'Parivar ki Panji [15 Pieces]', 'Chicken Seekh Kabab', 'Chilly Egg', 'Lemon Chicken', 'Crispy Chicken', 'Schezwan Chicken', 'Chicken 65', 'Garlic Chicken', 'Ginger Chicken', 'Chilly Chicken', 'Chicken Manchurian', 'Chicken Satay', 'Chicken Lollipop', 'Chicken Spring Roll', 'Fish Finger', 'Golden Fried Prawns', 'Prawns Chilly', 'Prawns Schezwan Manchurian', 'Prawns Garlic', 'Prawns Ginger', 'Sabzi Mazedar', 'Makkai Methi Palak', 'Veg Sabrangi', 'Mushroom Paneer Peas Masala', 'Kaju Paneer Butter Masala', 'Veg Makhani', 'Butter Paneer', 'Paneer Pasanda', 'Paneer Bhurji', 'Navratan Kurma', 'Dum Aloo Masala', 'Veg Khazana', 'Veg Kalimirch', 'Baby Corn Masala', 'Green Peas Masala', 'Chana Masala', 'Plain Palak', 'Palak Paneer', 'Baigan Bharta', 'Mix Veg Curry', 'Veg Kadhai', 'Veg Kolhapuri', 'Stuffed Capsicum', 'Stuffed Tomato Masala', 'Veg Jalfrezi', 'Veg Do Pyaza', 'Aloo Gobi', 'Methi Palak', 'Aloo Tikka Masala', 'Gobi Methi', 'Malai Kofta', 'Matar Methi Malai', 'Nirmal Kofta', 'Hariyali Kofta', 'Bhindi Masala', 'Tomato Masala', 'Capsicum Masala', 'Dal Fry', 'Dal Tadka', 'Dal Methi Tadka', 'Dal Makhani', 'Egg Masala', 'Egg Bhurji', 'Murgh Kebab Masala', 'Murgh Lahori', 'Murgh Makhani', 'Murgh Methi', 'Murgh Handi', 'Murgh Rara', 'Murgh Hara Masala', 'Murgh Angare', 'Murgh Shahi Kurma', 'Murgh Masala', 'Murgh Tikka Masala', 'Murgh Kolhapuri', 'Murgh Kadhai', 'Murgh Kali Mirch', 'Mutton Roganj Josh', 'Mutton Keema Masala', 'Mutton Hara Masala', 'Mutton Handi', 'Mutton Bhuna Masala', 'Mutton Shahi Kurma', 'Roti', 'Phulka', 'Naan', 'Paratha', 'Kulcha', 'Garlic Naan', 'Cheese Naan', 'Butter Roti', 'Butter Paratha', 'Butter Kulcha', 'Butter Naan', 'Veg Stuffed Paratha', 'Veg Stuffed Kulcha', 'Lachha Paratha', 'Methi Roti', 'Methi Naan', 'Methi Kulcha', 'Methi Paratha', 'Pudina Roti', 'Pudina Naan', 'Pudina Kulcha', 'Pudina Paratha', 'Baby Roti', 'Baby Naan', 'Baby Kulcha', 'Baby Parota', 'Cocktail Bread Basket', 'Mutton Keema Naan', 'Dal Khichadi', 'Palak Rice', 'Veg Biryani', 'Veg Pulao', 'Jeera Rice', 'Curd Rice', 'Steamed Rice', 'Ghee Rice', 'Rice', 'Egg Biryani', 'Murgh Dum Biryani', 'Mutton Dum Biryani', 'Prawns Biryani', 'Veg Schezwan Fried Rice', 'Veg Fried Rice', 'Mushroom Fried Rice', 'Veg Garlic Fried Rice', 'Egg Fried Rice', 'Chicken Fried Rice', 'Chicken Schezwan Fried Rice', 'Chicken Garlic Fried Rice', 'Mixed Fried Rice', 'Prawns Fried Rice', 'Veg Chowmein', 'Veg Chow Chow', 'Veg Hakka Noodles', 'American Veg Chopsuey', 'Chinese Veg Chopsuey', 'Chicken Chowmein', 'Chicken Hakka Noodles', 'American Chicken Chopsuey', 'Chinese Chicken Chopsuey', '2 Menthe Dosa', '4 Neer Dosa', 'Neer Dosa with Chutney', '2 Sannas', 'Paneer Ghee Roast', 'Mushroom Ghee Roast', 'Aloo Moong Gassi', 'Chicken Ghee Roast', 'Egg Ghee Roast', 'Chicken Sukka', 'Chicken Gessi', 'Chicken Pulimunchi', 'Chicken Pulimunchi Dry', 'Kori Roti', 'Nati Chicken', 'Mutton Sukka', 'Mutton Gassi', 'Prawns Ghee Roast', 'Prawns Curry', 'Prawns Sukka', 'Veg Sandwich', 'Cheese Sandwich', 'Egg Sandwich', 'Chicken Sandwich', 'Green Salad', 'Aloo Mixed Raita', 'Cucumber Mixed Raita', 'Onion Mixed Raita', 'Tomato Mixed Raita', 'Boondi Raita', 'Pineapple Raita', 'Curd', 'Coconut Chutney', 'Roasted Papad', 'Fried Papad', 'Masala Papad']        1\n",
       "Name: menu_item, Length: 8243, dtype: int64"
      ]
     },
     "execution_count": 79,
     "metadata": {},
     "output_type": "execute_result"
    }
   ],
   "source": [
    "df['menu_item'].value_counts()"
   ]
  },
  {
   "cell_type": "code",
   "execution_count": 80,
   "metadata": {},
   "outputs": [],
   "source": [
    "df['menu_item'] = df['menu_item'].apply(lambda x: x.replace('[]','others'))"
   ]
  },
  {
   "cell_type": "code",
   "execution_count": 81,
   "metadata": {},
   "outputs": [
    {
     "data": {
      "text/plain": [
       "others                                                                                                                                                                                                                                                                                                                                                                                                                                                                                                                                                                                                                                                                                                                                                                                                                                                                                                                                                                                                                                                                                                                                                                                                                                                                                                                                                                                                                                                                                                                                                                                                                                                                                                                                                                                                                                                                                                                                                                                                                                                                                                                                                                                                                                                                                                                                                                                                                                                                                                                                                                                                                                                                                                                                                                                                                                                                                                                                                                                                                                                                                                                                                                                                                                                                                                                                                                                                                                                                                                                                                                                                                                                                                                                                                                                                                                                                                                                                                                                                                                                                                                                                                                                                                                                                                                                                                                                                                                                                                                                                                                                                                                                                                                                                                                                                                                                                                                                                                                                                                                                       30307\n",
       "['Butter Chicken Pizza', 'Bombay Veggie Burger', 'Tawa Paneer Burger', 'Oh So Cheesy Burger', 'Barbecue Chicken Burger', 'Peri Peri Chicken Burger', 'BBQ Lamb', 'Cheesy Chicken', 'Crunchy Ferrero', 'Lots of Nuts', 'Kadhai Paneer Pizza', 'Chilli Paneer and Mushroom Pizza', 'Chipotle Veggie Pizza', 'Creamy Cheese Pizza', 'Southern Veggie Korma Pizza', 'Popeye, The Corny Man Pizza', 'Paneer Tikka Pizza', 'Desi Margherita Pizza', 'Roasted Paneer with Mustard Pizza', 'Bangalore Express Pizza', 'Italian Chaska Pizza', 'Mayo and Cheese Pizza', 'Classic Margherita', 'Cajun Hawaiian Pizza', 'Butter Chicken Pizza', 'Lasooni Bhuna Murg Pizza', 'Chilly Chicken Pizza', 'Hot Garlic Chicken Pizza', 'Murg Barbecue Pizza', 'Mediterranean Mutton Keema Pizza', 'Super Green Burger', 'Quinoa Black Bean Burger', 'Bombay Veggie Burger', 'Tawa Paneer Burger', 'Oh So Cheesy Burger', 'Barbecue Chicken Burger', 'Chipotle Lamb Burger', 'Crumb Fried Fish Burger', 'Peri Peri Chicken Burger', 'BBQ Lamb', 'Cheesy Chicken', 'Picnic Chicken Burger', 'Korean Grilled Chicken with Kimchi', 'Kiddy Kat Strawberry', 'Kiddy Kat Chocolate', 'Bubblegum', 'Oreo Shake', 'Caramel Shake', 'Chocolate Shake', 'Strawberry Shake', 'Vanilla Shake', 'Cold Coffee', 'Virgin Mojito', 'Iced Tea', 'Hot Chocolate', 'Cappuccino', 'Latte', 'Espresso Shot', 'Brownie Shake', 'Red Velvet Cheesecake Shake', 'Oreo Cheesecake Shake', 'Salted Caramel Popcorn', 'Coconut Crumble', 'Coffee Crunch', 'Bira', 'Thanda Paan', 'Sticky Toffee Pudding', 'Blueberry Cheesecake', 'Nutella Cheesecake', 'Caramel Custard with Strawberry or Figs', 'Red Velvet Cheesecake', 'Tiramisu', 'Zesty Vanilla and Tipsy Brownie', 'Oreo Explosion', 'Chocolate Almond Crumble', 'Crunchy Ferrero', \"Stoner's Chocolate Decadence\", 'Brownie Bash', 'Chocolate Lava', 'Dark Chocolate Caramel', 'Chocolate Overload', 'Lots of Nuts', 'Peanut Butter Crunch', 'Nutty Fudgy', 'Lemon Pistachio Biscotti', 'Frutilicious Ice Cream', 'Strawberry Tease Ice Cream', 'Mango Tango Ice Cream', 'Lychee Lovers Ice Cream', 'Monkey Business Ice Cream', 'Apple Crumble Ice Cream', 'Blueberry Bliss Ice Cream']                                                                                                                                                                                                                                                                                                                                                                                                                                                                                                                                                                                                                                                                                                                                                                                                                                                                                                                                                                                                                                                                                                                                                                                                                                                                                                                                                                                                                                                                                                                                                                                                                                                                                                                                                                                                                                                                                                                                                                                                                                                                                                                                                                                                                                                                                                                                                                                                                                                                                                                                                                                                                                                                                                                                                                                                                                                            11\n",
       "['Chicken Cheese Burger', 'Chicken Billys BIg Burger', 'French Fries', 'Alfredo Veg Pasta', 'Brownie Waffles', 'Veg Burger', 'Veg Cheese Burger', 'Veg Caramelized onion Burger', 'Mushroom Classic Burger', 'Veg English Cheddar Cheese Burger', 'Veg Chipotle Corn Burger', 'Veg Billys BIg Burger', 'Chicken Burger', 'Chicken Cheese Burger', 'Chicken Caramelized Onion Burger', 'Chicken Mushroom Burger', 'Chicken English Cheddar Cheese Burger', 'Chicken Chipotle Corn Burger', 'Chicken Billys BIg Burger', 'Chicken Nuggets Burger', 'Veg Grilled Sandwich', 'Paneer Burji Sandwich', 'Toasted Paneer Sandwich', 'Grilled Mushroom Sandwich', 'Corn and Cheese Sandwich', 'Egg Sandwich', 'Egg Chutney Sandwich', 'Chicken Mayo Sandwich', 'Chicken Cheese Sandwich', 'Hotdog Sandwich', 'Tuna Sandwich', 'Tangy Tomato Pasta', 'Spicy Penne Pasta', 'Alfredo Veg Pasta', 'Smoked Chicken Pasta', 'Alfredo Chicken Pasta', 'French Fries', 'Veg', 'Chicken', 'Fish Finger', 'Vegetable Omelette', 'Masala Omelette', 'Spanish Omelette', 'Cheese Omelette', 'Paneer Omelette', 'Ultimate Vegan Shakes', 'Bittersweet Symphony Shakes', 'The White Paradise Shakes', 'Deep Dark Abyss Shakes', 'Irene Adlers Mystery Shakes', 'Red Weather Parody Shakes', 'Mind palace Shakes', 'Tower of Baskerville Shakes', 'Nights Demon Shakes', 'Black and White Romance Shakes', 'Day Dream Shakes', 'Sherlocks Addiction Shakes', 'Mrs Hudsons Secret Shakes', 'Classic Waffles', 'Caramel Waffles', 'Choco Treat Waffles', 'Brownie Waffles', 'Nutella Crunch Waffles', 'Snowflakes Waffles', 'Rocky Road Waffles', 'Lights Out Waffles']                                                                                                                                                                                                                                                                                                                                                                                                                                                                                                                                                                                                                                                                                                                                                                                                                                                                                                                                                                                                                                                                                                                                                                                                                                                                                                                                                                                                                                                                                                                                                                                                                                                                                                                                                                                                                                                                                                                                                                                                                                                                                                                                                                                                                                                                                                                                                                                                                                                                                                                                                                                                                                                                                                                                                                                                                                                                                                                                                                                                                                                                                                                                                                                                                                                                                                                                                                                                                   9\n",
       "['Students Veg Combo', 'Office Veg Combo', 'Students Non Veg Combo', 'Office Non Veg Combo', 'Mughlai Non Veg Combo', 'Aloo Paratha Combo', 'Poori Aloo Jeera Combo', 'Poori Aloo Tomato Combo', 'Paneer Paratha Combo', 'Students Veg Combo', 'Office Veg Combo', 'Students Non Veg Combo', 'Office Non Veg Combo', 'Mughlai Non Veg Combo', 'Shami Kebab Roll', 'Mughlai Biryani Combo [Veg]', 'Nawabi Thali Combo', 'The Lajawab Gravy Combo [Veg]', 'Mughlai Meal For Two [Veg]', 'The After Party Starters', 'Royal Feast For Four [Veg]', 'The Galawati Roll', 'Mughlai Biryani Combo [Non Veg]', 'The Nihari Combo [Chicken]', 'The Nihari Combo (Mutton)', 'The Lajawab Gravy Combo [Non Veg]', 'Mughlai Meal For Two [Non-Veg]', 'Biryani Blast', 'Royal Feast For Four [Non-Veg]', 'Baby Corn 65', 'Chilli Baby Corn', 'Mushroom 65', 'Chilli Mushroom', 'Veg Seekh Kebab', 'Kasturi Paneer Tikka', 'Paneer 65', 'Paneer Angara', 'Chilli Paneer', 'Hara Bhara Kebab', 'Paneer Tikka', 'Paneer Malai Tikka', 'Tandoori Veg Platter', 'Tandoori Chicken', 'Mutton Shami Kebab [Signature]', 'Mutton Galouti Kebab [Signature]', 'Chicken 65', 'Chicken Seekh Kebab', 'Chicken Tikka', 'Chilli Chicken', 'Chicken Angara', 'Chicken Kasturi Kebab', 'Chicken Malai Tikka', 'Mutton Sultani Seekh Kebab', 'Non Veg Tandoori Platter', 'Aloo Tomato Gravy', 'Aloo Capsicum Dry', 'Aloo Jeera Dry', 'Dal Fry', 'Dal Tadka', 'Rajma', 'Chole', 'Dal Makhani [Signature]', 'Lipta Mushroom Masala', 'Veg Kolhapuri', 'Chole Curry', 'Paneer Bhurji', 'Miloni Tarkari [Signature]', 'Mixed Veg', 'Palak Paneer', 'Diwani Handi', 'Mattar Paneer', 'Paneer Do Pyaza', 'Butter Paneer', 'Kadai Paneer [Signature]', 'Paneer Tikka Masala [Signature]', 'Methi Malai Paneer', 'Paneer Lababdar [Signature]', 'Murg Musallam', 'Egg Bhurji', 'Egg Curry', 'Chicken Nihari [Signature]', 'Chicken Curry', 'Chicken Do Pyaza', 'Chicken Methi Khas', 'Hyderabadi Chicken', 'Chicken Hara Pyaza', 'Chicken Kali Mirch', 'Chicken Kohlapuri', 'Kadai Chicken', 'Chicken Lababdar', 'Chicken Lajawab [Signature]', 'Chicken Tikka Masala', 'Chicken Boti Kebab Masala', 'Butter Chicken', 'Mughlai Chicken Masala [Signature]', 'Mutton Nihari [Signature]', 'Mutton Do Pyaza', 'Mutton Korma', 'Mutton Rogan Josh', 'Mughlai Mutton Masala', 'Mutton Boti Kebab Masala [Signature]', 'Murg Musallam', 'Steamed Rice', 'Jeera Rice', 'Ghee Rice', 'Khushka', 'Pulao', 'Veg Biryani', 'Mughlai Chicken Dum Biryani [Signature]', 'Chicken Tikka Biryani', 'Mughlai Mutton Dum Biryani [Signature]', 'Tandoori Roti', 'Lachha Paratha', 'Naan', 'Amritsari Kulcha', 'Garlic Naan', 'Missi Roti', 'Mughlai Paratha', 'Poori', 'Mughlai Bread Basket', 'Papad', 'Curd', 'Boondi Raita', 'Mixed Raita', 'Masala Papad', 'Pineapple Raita', 'Paneer Roll', 'Hawker Style Boiled Egg', 'Masala Omelette', 'Chicken Roll', 'Chicken Boti Roll', 'Shami Roll', 'The Galouti Roll [Signature]', 'Mutton Boti Roll', 'Gulab Jamun [2 Pieces]', 'Ice Cream Scoop [single]', 'Rice Kheer', 'Awadhi Kheer [Signature]', 'Gajar Ka Halwa', 'Lachhedar Rabri', 'Shahi Tukda [Signature]', 'Thums Up [750 Ml]', 'Mineral Water [1 Litre]', 'Buttermilk', 'Lime Water', 'Thums Up (600 Ml)', 'Jal Jeera', 'Lassi', 'Lime Water Salt', 'Lime Water Sweet', 'Chocolate Lassi', 'Strawberry Lassi', 'Alphonso Mango Lassi', 'Thandai', 'Mango Lassi']                                                                                                                                                                                                                                                                                                                                                                                                                                                                                                                                                                                                                                                                                                                                                                                                                                                                                                                                                                                                                                                                                                                                                                                                                                                                                                                                                                                                                                                                                                                                                                                                                                        9\n",
       "['Chicken Spring Rolls', 'Chicken Picante Pizza', 'Crunchy Dahi Roll', 'Honey Chilli Fries', 'Chilli Garlic Berry Vegetable', 'Beer Battered Mushroom Duplex', 'Chilli Paneer', 'Beer Battered Onion Rings', 'Veggie Spring Rolls', 'Macho Nacho', 'Paneer Hariyali Tikka', 'Garlic Bread', 'Peanut Chaat Masala', 'Corn Bhel', 'Hara Bhara Kabab', 'Just Wing It', 'Chicken n Cheese Fingers', 'Achari Chicken Tikka', 'Peri Peri Chicken Tikka', 'Malai Chicken Tikka', 'Chicken Spring Rolls', 'Chicken Rings', 'Calcuttas Chilli Chicken', 'Koliwada Fried Chicken', 'Mutton Pops', 'Ajwaini Fish Tikka', 'Drunken Fish Fingers', 'Crumb Fried Fish N Chips', 'Masala Pulao', 'Egg Biryani', 'Chicken Biryani', 'Garden Fresh Pizza', 'Peppy Paneer Pizza', 'Chicken Supreme Pizza', 'Chicken Picante Pizza', 'Pepperoni Pizza', 'Arrabiata Pasta', 'Aglio Olio Pasta', 'Mushroom Alfredo Pasta', 'Pomodoro Pasta', 'Veggie Burger', 'Plain Jane Burger', 'Big Fat Burger', 'Red Bull [250 ml]', 'Schweppes Tonic Water [300 ml]', 'Aquafina [1 litre]']                                                                                                                                                                                                                                                                                                                                                                                                                                                                                                                                                                                                                                                                                                                                                                                                                                                                                                                                                                                                                                                                                                                                                                                                                                                                                                                                                                                                                                                                                                                                                                                                                                                                                                                                                                                                                                                                                                                                                                                                                                                                                                                                                                                                                                                                                                                                                                                                                                                                                                                                                                                                                                                                                                                                                                                                                                                                                                                                                                                                                                                                                                                                                                                                                                                                                                                                                                                                                                                                                                                                                                                                                                                                                                                                                                                                                                                                                                                                                                                                     8\n",
       "                                                                                                                                                                                                                                                                                                                                                                                                                                                                                                                                                                                                                                                                                                                                                                                                                                                                                                                                                                                                                                                                                                                                                                                                                                                                                                                                                                                                                                                                                                                                                                                                                                                                                                                                                                                                                                                                                                                                                                                                                                                                                                                                                                                                                                                                                                                                                                                                                                                                                                                                                                                                                                                                                                                                                                                                                                                                                                                                                                                                                                                                                                                                                                                                                                                                                                                                                                                                                                                                                                                                                                                                                                                                                                                                                                                                                                                                                                                                                                                                                                                                                                                                                                                                                                                                                                                                                                                                                                                                                                                                                                                                                                                                                                                                                                                                                                                                                                                                                                                                                                                             ...  \n",
       "['2 Idly with Vada', 'Chow Chow Bath', 'Masala Dosa', 'Butter Masala Dosa', 'Onion Dosa', 'Rava Onion Dosa', 'Gobi Manchurian', 'Baby Corn Manchurian', 'Paneer Manchurian', 'Paneer Chilly', 'Mushroom Pepper Dry', 'Curd Rice', 'Veg Biryani', 'Paneer Biryani', 'Mushroom Biryani', 'Veg Fried Rice', 'Mushroom Fried Rice', 'Veg Noodles', 'Paneer Schezwan Noodles', 'South Indian Meal', 'Dal Fry', 'Paneer Kadhai', 'Paneer Butter Masala', 'Kaju Masala', 'Roti', 'Butter Naan', 'Aloo Paratha', 'South Indian Meal', 'Rice Sambar', 'Dal Fry', 'Dal Pa|ak', 'Green Peas Masala', 'Green Peas Palak', 'Channa Masala', 'Aloo Gobi', 'Gobi Masala', 'Gobi Matar Kadhai', 'Capsicum Masala', 'Stuffed Capsicum', 'Stuffed Tomato Masala', 'Mixed Vegetable', 'Veg Hydarabadi', 'Veg Kolhapuri', 'Veg Keema', 'Veg Sweet Shahikurma', 'Veg Sweet Kurma', 'Veg Sweet Makanwala', 'Veg Do Pyaza', 'Veg Pepper Masala', 'Veg Kadai', 'Paneer Kadhai', 'Paneer Tikka Masala', 'Paneer Palak', 'Paneer Channa', 'Paneer Gucchi', 'Paneer Matar', 'Paneer Butter Masala', 'Paneer Sweet Shahl Kurma', 'Paneer Sweet Makanwala', 'Paneer Sweet Kurma', 'Paneer Pasanda', 'Mushroom Masala', 'Mushroom Kadai', 'Mushroom Babycorn Masala', 'Baby Corn Masala', 'Baby Corn Green Masala', 'Kaju Masala', 'Udupi Grand Special', 'Veg Kofta', 'Veg Malai Kofta', 'Nargies Kofta', 'Paneer Kofta', 'Roti', 'Butter Roti', 'Naan', 'Butter Naan', 'Kulcha', 'Butter Kulcha', 'Masala Kulcha', 'Butter Masala Kulcha', 'Stuffed Kulcha', 'Aloo Paratha', 'Butter Aloo Parotta', 'Ghee Rice', 'Zeera Rice', 'Curd Rice', 'Plain Rice', 'Veg Pulav', 'Veg Biryani', 'Paneer Pulav', 'Paneer Biryani', 'Mughlai Biriyani', 'Kashmiri Pulav', 'Kashmiri Biryani', 'Hyderabadi Biryani', 'Mushroom Biryani', 'Dal Khichidi', 'Veg Fried Rice', 'Baby Corn Fried Rice', 'Mushroom Fried Rice', 'Paneer Fried Rice', 'Veg Schezwan Fried Rice', 'Baby Corn Schezwan Fried Rice', 'Mushroom Schezwan Fried Rice', 'Paneer Schezwan Fried Rice', 'Mixed Fried Rice', 'Veg Noodles', 'Paneer Noodles', 'Mushroom Noodles', 'Veg Schezwan Noodles', 'Paneer Schezwan Noodles', 'Mushroom Schezwan Noodles', '2 Idli', 'Idli', '2 Idly with Vada', 'Idly with Vada', 'Khara Bath', 'Kesari Bath', 'Chow Chow Bath', 'Rava Idli', 'Bajji', 'Pakoda', 'Pongal', 'Rice Bath', 'Poori', 'Masala Dosa', 'Butter Masala Dosa', 'Plain Dosa', 'Butter Plain Dosa', 'Butter Pepper Masala Dosa', 'Butter Pepper Plain Dosa', 'Set Dosa', 'Rava Dosa', 'Rava Masala Dosa', 'Onion Dosa', 'Butter Onion Dosa', 'Rava Onion Dosa', 'Butter Onion Dosa', 'Gobi Manchurian', 'Gobi 65', 'Gobi Chilly', 'Veg Manchurian', 'Veg 65', 'Baby Corn Manchurian', 'Baby Corn 65', 'Baby Corn Chilly', 'Mushroom Manchurian', 'Mushroom 65', 'Mushroom Chilly', 'Paneer Manchurian', 'Paneer 65', 'Paneer Chilly', 'Paneer Pepper', 'Baby Corn Pepper Dry', 'Mushroom Pepper Dry', 'Gobi Pepper Dry', 'Banana Milkshake', 'Vanilla Milkshake', 'Strawberry Milkshake', 'Pista Milkshake', 'Chocolate Milkshake', 'Coffee', 'Tea']                                                                                                                                                                                                                                                                                                                                                                                                                                                                                                                                                                                                                                                                                                                                                                                                                                                                                                                                                                                                                                                                                                                                                                                                                                                                                                                                                                                                                                                                                                                                                                                                                                                                                                                                                                                                                                                                                                                                                                         1\n",
       "['Chicken Biryani Combo', 'Onion Bhaji with 2 Masala Chai Combo [Small]', '2 Vada Pav with 2 Regular Chai Combo', 'Chicken Roll Combo', 'Schezwan Maggi with Fresh Lime Soda Combo', 'Chicken Biryani Combo', 'Guntur Chicken Biryani with Chicken Kabab [4 Pieces] Combo', '2 Veg Fried Rice with Paneer Manchurian Combo', '2 Chicken Fried Rice with Chilli Chicken Dry Combo', '2 Paneer Biryani with Paneer Manchurian Combo', '2 Guntur Chicken Biryani with Chilli Chicken Dry Combo', 'Dal Fried Rice', 'Paneer Butter Masala Rice', 'Matar Paneer Rice', 'Chana Masala Rice', 'Egg Curry Rice', 'Guntur Chicken Rice', 'Butter Chicken Rice', 'Chilli Chicken Rice', 'Gobi Manchurian', 'Gobi Chilly Dry', 'Paneer Manchurian', 'Paneer Chilly Dry', 'Chicken Manchurian', 'Boneless Chicken Manchurian', 'Chilli Chicken Dry', 'Boneless Chilli Chicken Dry', 'Pepper Chicken Dry', 'Boneless Pepper Chicken Dry', 'Schezwan Chicken Dry', 'Boneless Schezwan Chicken Dry', 'Lemon Chicken', 'Chicken Kabab', 'Boneless Chicken Kabab', 'Boneless Pudina Chicken Kabab', 'Pudina Chicken Kabab', 'Yellow Dal Fry', 'Kadai Veg Curry', 'Paneer Butter Masala', 'Kadai Paneer', 'Matar Paneer', 'Mixed Veg Curry', 'Guntur Veg Curry', 'Guntur Paneer Curry', 'Egg Curry', 'Anda Bhurji with Pav [3 Egg]', 'Home Style Chicken Curry', 'Boneless Home Style Chicken Curry', 'Kadai Chicken', 'Boneless Kadai Chicken', 'Guntur Chicken Curry', 'Boneless Guntur Chicken Curry', 'Butter Chicken Curry', 'Boneless Butter Chicken Curry', 'Bhuna Chicken Curry', 'Boneless Chicken Curry', 'Plain Phulka', 'Butter Phulka', 'Aloo Paratha', 'Gobi Paratha', 'Onion Chilly Paratha', 'Paneer Paratha', 'Laccha Paratha', 'Chicken Keema Paratha', 'Steamed Rice', 'Jeera Rice', 'Ghee Rice', 'Curd Rice', 'Plain Dal Khichdi', 'Masala Dal Khichdi', 'Dal Chicken Masala Khichdi', 'Chicken Masala Rice', 'Veg Biryani', 'Guntur Veg Biryani', 'Paneer Biryani', 'Paneer Biryani Family Pack', 'Egg Biryani', 'Chicken Dum Biryani', 'Guntur Chicken Fry Biryani', 'Kkr Special Boneless Chicken Biryani', 'Chicken Dum Biryani Family Pack [Serves 4]', 'Veg Fried Rice', 'Veg Schezwan Fried Rice', 'Gobi Fried Rice', 'Gobi Schezwan Fried Rice', 'Paneer Fried Rice', 'Paneer Schezwan Fried Rice', 'Egg Fried Rice', 'Egg Schezwan Fried Rice', 'Chicken Fried Rice', 'Chicken Schezwan Fried Rice', 'Veg Hakka Noodles', 'Veg Schezwan Noodles', 'Gobi Hakka Noodles', 'Gobi Schezwan Noodles', 'Paneer Hakka Noodles', 'Paneer Schezwan Noodles', 'Egg Noodles', 'Egg Schezwan Noodles', 'Chicken Noodles', 'Chicken Schezwan Noodles', '10 Veg Paddu', '10 Egg Paddu', '10 Chicken Paddu', 'Masala Penne', 'Tomato Twist Pasta', 'Schezwan Pasta', 'Cheese Garlic Bread Sandwich', 'Veg Grilled Sandwich', 'Cheese Chilly Sandwich', 'Paneer Grilled Sandwich', 'White Boiled Egg Masala Sandwich', 'Chicken Grilled Sandwich', 'Veg Roll', 'Paneer Roll', 'Double Egg Roll', 'Chicken Roll', 'Chicken Keema Roll', 'Plain Maggi', 'Cheese Chilli Maggi', 'Paneer Maggi', 'Arabiata Maggi', 'Schezwan Maggi', 'Chicken Keema Maggi', 'Poori Bhaji', 'Poori Chole', 'Chole Bhature', '2 Vada Pav', 'Pav Bhaji', 'Paneer Pav Bhaji', 'Onion Bhaji', 'Aloo Bhaji', 'Stuffed Bread Pakoda', 'Paneer Pakoda', 'Egg Pakoda', 'Chicken Pav Bhaji', 'Chicken Keema Matar with Pav', 'Chicken Pakoda', 'Pudina Chicken Pakoda', '4 Boiled Egg', 'Anda with Pav', 'Plain Omelette with Pav', 'Egg White Omelette with Pav [3 Egg]', 'Masala Cheese Omelette with Pav', 'Cheese Bread Omelette', 'Kkr Chicken Keema Bread Omelette', 'Pepsi [300 ml]', 'Sprite [300 ml]', 'Sweet Lassi', 'Mango Lassi', 'Strawberry Lassi', 'Chocolate Lassi', 'Fresh Lime Soda', 'Fresh Lime Juice', 'Masala Soda', 'Butter Milk', 'Jaljeera Juice', 'Chai', 'Ginger Chai', 'Elaichi Chai', 'Masala Chai', 'Lemon Tea [300 ml]', 'Green Tea [200 ml]', 'Boost', 'Horlicks', 'Plain Dosa', 'Masala Dosa', 'Ghee Dosa', 'Set Dosa [2 Pieces]', 'Andhra Karam Dosa', 'Egg Dosa', 'Karam Egg Dosa', 'Double Egg Dosa']                                                                                                                                                                                                                                                                                                                                                                                                                                                                                                                                                                                                                                                                                                                                                                                                                                                                                                                                                           1\n",
       "['Chatpata Chhola Kulcha [Serves 1]', 'Dal Makhani with Laccha Paratha [Serves 1]', 'Palak Paneer with Laccha Paratha [Serves 1]', 'Shahi Paneer with Laccha Paratha [Serves 1]', 'Chatpata Chhola with Jeera Rice [Serves 1]', 'Dal Makhani with Jeera Rice [Serves 1]', 'Rajma Chawal', 'Butter Chicken with Lachha Paratha [Serves 1]', 'Kadhai Chicken with Lachha Paratha [Serves 1]', 'Aloo Paratha', 'Dal Tadka with Paneer 65 Thali', 'Dal Tadka with Veg Jalfrezi Thali', 'Kadhai Paneer with Rajma Thali', 'Dal Makhani with Paneer Bhurji Thali', 'Shahi Paneer with Dal Makhani Thali', 'Chhola with Veg Jalfrezi Thali', 'Beet It [Veg]', 'Chhola With Brown Rice', 'Rajma With Brown Rice', 'Chaat Thali', 'Kadhai Chicken with Dal Makhani Thali', 'Dal Tadka with Butter Chicken Thali', 'Dal Tadka with Shahi Paneer Thali', 'Butter Chicken with Dal Makhani Thali', 'Beet It [Non Veg]', 'Chatpata Chhola Kulcha [Serves 1]', 'Dal Makhani with Laccha Paratha [Serves 1]', 'Kadhai Paneer with Laccha Paratha [Serves 1]', 'Palak Paneer with Laccha Paratha [Serves 1]', 'Shahi Paneer with Laccha Paratha [Serves 1]', 'Veg Jalfrezi with Lachha Paratha [Serves 1]', 'Chatpata Chhola with Jeera Rice [Serves 1]', 'Shahi Paneer with Jeera Rice [Serves 1]', 'Dal Makhani with Jeera Rice [Serves 1]', 'Rajma Chawal', 'Rajma Kulcha', 'Rajma with Lachha Paratha', 'Rajma Thali', 'Butter Chicken with Jeera Rice [Serves 1]', 'Butter Chicken with Lachha Paratha [Serves 1]', 'Kadhai Chicken with Lachha Paratha [Serves 1]', 'Aloo Paratha', 'Gobhi Paratha', 'Paneer Paratha', 'Egg Paratha Sliders', 'Hariyali Begum Roll', 'Kadhai Paneer Roll', 'Egg Roll', 'Spicy Chicken Roll', 'Kadhai Chicken Roll', 'Veg Biryani', 'Kathal Biryani', 'Chicken Biryani', 'Brown Rice and Sprout Khichdi', 'Enthu Cutlet [Serves 1]', 'Karol Bagh Ka Dahi Vada [Serves 1]', 'Vegetable Oats Cheela [Serves 1]', 'Paneer Bhurji With Jumbo Pav [Serves 1]', 'Kadhai Paneer Roll', 'Chana Chaat', 'Herb and Lemon Poha', 'Egg Bhurji With Jumbo Pav [Serves 1]', 'Kadhai Chicken Roll', 'Pista Phirni', 'Kesari Gulab Jamun Jar [4 Pieces]', 'Sheer Kurma', 'Kesari Gulab Jamun Jar [4 Pieces]', 'Sheer Kurma', 'Suji Halwa in a Jar']                                                                                                                                                                                                                                                                                                                                                                                                                                                                                                                                                                                                                                                                                                                                                                                                                                                                                                                                                                                                                                                                                                                                                                                                                                                                                                                                                                                                                                                                                                                                                                                                                                                                                                                                                                                                                                                                                                                                                                                                                                                                                                                                                                                                                                                                                                                                                                                                                                                                                                                                                                                                                                                                                                                                                                                                         1\n",
       "['Crispy Chicken', 'Mixed Veg Biryani', 'Paneer Biryani', 'Egg Biryani', 'Hyderabadi Biryani Rice', 'Hydrabadi Chicken Biryani', 'Dindugul Chicken Biryani', 'Ghee Roast Chicken Biryani', 'Dindugul Mutton Biryani', 'Chicken Biryani Combo [Serves 1-2]', 'Chicken Biryani Large Combo [Serves 2-3]', 'Chicken Biryani Combo [Serves 1-2]', 'Chicken Biryani Large Combo [Serves 2-3]', 'Veg Sweet Corn Soup', 'Hot N Sour Soup', 'Veg Manchow Soup', 'Veg Mushroom Soup', 'Veg Clear Soup', 'Mixed Veg Soup', 'Veg Noodles Soup', 'Chicken Clear Soup', 'Chicken Soup', 'Chicken Corn Soup', 'Chicken Manchow Soup', 'Chicken Hot N Sour Soup', 'Chicken Noodles Soup', 'Mutton Soup', 'Gobhi Manchurian', 'Mushroom Manchurian', 'Baby Corn Manchurian', 'Paneer Manchurian', 'Chilly Paneer', 'Paneer 65', 'Paneer Pakoda', 'Baby Corn Pepper Dry', 'Veg Pepper Manchurian', 'Crispy Chicken', 'Pan Fried Chicken', 'Chicken Lollipop', 'Chilly Chicken', 'Pepper Chicken', 'Lemon Chicken', 'Garlic Chicken', 'Ginger Chicken', 'Chicken Sukha', 'Chicken 65', 'Chicken Ghee Roast', 'Chicken Kebab', 'Chicken Pepper Wings', 'Chicken Wings 65', 'Mutton Pepper', 'Mutton Chilly', 'Mutton Ghee Roast', 'Mutton Sukha', 'Mixed Veg Biryani', 'Paneer Biryani', 'Mushroom Biryani', 'Egg Biryani', 'Hyderabadi Biryani Rice', 'Dindugal Biryani Rice', 'Hydrabadi Chicken Biryani', 'Dindugul Chicken Biryani', 'Chicken Kabab Biryani', 'Pepper Chicken Hydrabadi Biryani', 'Ghee Roast Chicken Biryani', 'Hydrabadi Mutton Biryani', 'Dindugul Mutton Biryani', 'Hydrabadi Mutton Pepper Biryani', 'Veg Fried Rice', 'Veg Mushroom Fried Rice', 'Veg Paneer Fried Rice', 'Veg Sweet corn Fried Rice', 'Egg Fried Rice', 'Chicken Fried Rice', 'Mutton Fried Rice', 'Plain Raita', 'Mixed Raita', 'Green Mixed Raita', 'Masala Papad', 'Gulab Jamun']                                                                                                                                                                                                                                                                                                                                                                                                                                                                                                                                                                                                                                                                                                                                                                                                                                                                                                                                                                                                                                                                                                                                                                                                                                                                                                                                                                                                                                                                                                                                                                                                                                                                                                                                                                                                                                                                                                                                                                                                                                                                                                                                                                                                                                                                                                                                                                                                                                                                                                                                                                                                                                                                                                                                                                                                                                                                                                                                                                                                                                                                                                                                                                                                     1\n",
       "['Murgh Pepper Dry', 'Chilly Egg', 'Dal Khichadi', '4 Neer Dosa', 'Prawns Curry', 'Cream of Tomato Soup', 'Cream of Mushroom Soup', 'Cream of Veg Soup', 'Cream of Palak Soup', 'Veg Sweet Corn Soup', 'Veg Manchow Soup', 'Veg Clear Soup', 'Veg Hot and Sour Soup', 'Veg Noodles Soup', 'Chicken Sweet Corn Soup', 'Chicken Manchow Soup', 'Chicken Hot and Sour Soup', 'Chicken Clear Soup', 'Chicken Noodles Soup', 'Moong Usli', 'Corn Pepper Dry', 'Green Peas Dry', 'Boiled Veg Butter Fry', 'Veg Bhajji', 'Onion Pakoda', 'Bhindi Pepper Dry', 'Masala Peanuts', 'Hara Bhara Kabab', 'Palak Corn Vada', 'French Fries', 'Cashew Nuts', 'Cheese Cherry Pineapple', 'Paneer Pakoda', 'Mushroom Pepper Dry', 'Chana Dry', 'Chana Usli', 'Egg Half Fry', 'Boiled Egg Butter Fry', 'Omelette', 'Boiled Egg', 'Egg Pakoda', 'Murgh Pepper Dry', 'Murgh Pepper Fry', 'Murgh Koliwada', 'Murgh Kabab', 'Mutton Pepper Dry', 'Prawns Koliwada', 'Onion Rings', 'Crispy Vegetables', 'Veg Spring Roll', 'Crispy Potato with Spring Onion', 'Paneer Satay', 'Baby Corn Satay', 'Baby Corn Golden Fry', 'Gobi Manchurian', 'Chilly Gobi', 'Chilly Paneer', 'Chilly Mushroom', 'Chilly Baby Corn', 'Veg Schezwan', 'Veg Manchurian', 'Paneer Tikka', 'Pudina Tikka', 'Tandoori Gobi', 'Tandoori Aloo', 'Baby Corn Tikka', 'Veg Seekh Kabab', 'Mushroom Tikka', 'Murgh Tikka', 'Tandoori Murgh', 'Murgh Lehsooni Kabab [7 Pieces]', 'Murgh Hariyali Kabab [7 Pieces]', 'Tangdi Kabab [2 Pieces]', 'Kalmi Kabab [4 Pieces]', 'Afghani Kabab [2 Pieces]', 'Murgh Malai', 'Murgh Reshmi Kabab', 'Murgh Jahalpuri [7 Pieces]', 'Murgh Mirchi [7 Pieces]', 'Murgh Sholey [7 Pieces]', 'Parivar ki Panji [15 Pieces]', 'Chicken Seekh Kabab', 'Chilly Egg', 'Lemon Chicken', 'Crispy Chicken', 'Schezwan Chicken', 'Chicken 65', 'Garlic Chicken', 'Ginger Chicken', 'Chilly Chicken', 'Chicken Manchurian', 'Chicken Satay', 'Chicken Lollipop', 'Chicken Spring Roll', 'Fish Finger', 'Golden Fried Prawns', 'Prawns Chilly', 'Prawns Schezwan Manchurian', 'Prawns Garlic', 'Prawns Ginger', 'Sabzi Mazedar', 'Makkai Methi Palak', 'Veg Sabrangi', 'Mushroom Paneer Peas Masala', 'Kaju Paneer Butter Masala', 'Veg Makhani', 'Butter Paneer', 'Paneer Pasanda', 'Paneer Bhurji', 'Navratan Kurma', 'Dum Aloo Masala', 'Veg Khazana', 'Veg Kalimirch', 'Baby Corn Masala', 'Green Peas Masala', 'Chana Masala', 'Plain Palak', 'Palak Paneer', 'Baigan Bharta', 'Mix Veg Curry', 'Veg Kadhai', 'Veg Kolhapuri', 'Stuffed Capsicum', 'Stuffed Tomato Masala', 'Veg Jalfrezi', 'Veg Do Pyaza', 'Aloo Gobi', 'Methi Palak', 'Aloo Tikka Masala', 'Gobi Methi', 'Malai Kofta', 'Matar Methi Malai', 'Nirmal Kofta', 'Hariyali Kofta', 'Bhindi Masala', 'Tomato Masala', 'Capsicum Masala', 'Dal Fry', 'Dal Tadka', 'Dal Methi Tadka', 'Dal Makhani', 'Egg Masala', 'Egg Bhurji', 'Murgh Kebab Masala', 'Murgh Lahori', 'Murgh Makhani', 'Murgh Methi', 'Murgh Handi', 'Murgh Rara', 'Murgh Hara Masala', 'Murgh Angare', 'Murgh Shahi Kurma', 'Murgh Masala', 'Murgh Tikka Masala', 'Murgh Kolhapuri', 'Murgh Kadhai', 'Murgh Kali Mirch', 'Mutton Roganj Josh', 'Mutton Keema Masala', 'Mutton Hara Masala', 'Mutton Handi', 'Mutton Bhuna Masala', 'Mutton Shahi Kurma', 'Roti', 'Phulka', 'Naan', 'Paratha', 'Kulcha', 'Garlic Naan', 'Cheese Naan', 'Butter Roti', 'Butter Paratha', 'Butter Kulcha', 'Butter Naan', 'Veg Stuffed Paratha', 'Veg Stuffed Kulcha', 'Lachha Paratha', 'Methi Roti', 'Methi Naan', 'Methi Kulcha', 'Methi Paratha', 'Pudina Roti', 'Pudina Naan', 'Pudina Kulcha', 'Pudina Paratha', 'Baby Roti', 'Baby Naan', 'Baby Kulcha', 'Baby Parota', 'Cocktail Bread Basket', 'Mutton Keema Naan', 'Dal Khichadi', 'Palak Rice', 'Veg Biryani', 'Veg Pulao', 'Jeera Rice', 'Curd Rice', 'Steamed Rice', 'Ghee Rice', 'Rice', 'Egg Biryani', 'Murgh Dum Biryani', 'Mutton Dum Biryani', 'Prawns Biryani', 'Veg Schezwan Fried Rice', 'Veg Fried Rice', 'Mushroom Fried Rice', 'Veg Garlic Fried Rice', 'Egg Fried Rice', 'Chicken Fried Rice', 'Chicken Schezwan Fried Rice', 'Chicken Garlic Fried Rice', 'Mixed Fried Rice', 'Prawns Fried Rice', 'Veg Chowmein', 'Veg Chow Chow', 'Veg Hakka Noodles', 'American Veg Chopsuey', 'Chinese Veg Chopsuey', 'Chicken Chowmein', 'Chicken Hakka Noodles', 'American Chicken Chopsuey', 'Chinese Chicken Chopsuey', '2 Menthe Dosa', '4 Neer Dosa', 'Neer Dosa with Chutney', '2 Sannas', 'Paneer Ghee Roast', 'Mushroom Ghee Roast', 'Aloo Moong Gassi', 'Chicken Ghee Roast', 'Egg Ghee Roast', 'Chicken Sukka', 'Chicken Gessi', 'Chicken Pulimunchi', 'Chicken Pulimunchi Dry', 'Kori Roti', 'Nati Chicken', 'Mutton Sukka', 'Mutton Gassi', 'Prawns Ghee Roast', 'Prawns Curry', 'Prawns Sukka', 'Veg Sandwich', 'Cheese Sandwich', 'Egg Sandwich', 'Chicken Sandwich', 'Green Salad', 'Aloo Mixed Raita', 'Cucumber Mixed Raita', 'Onion Mixed Raita', 'Tomato Mixed Raita', 'Boondi Raita', 'Pineapple Raita', 'Curd', 'Coconut Chutney', 'Roasted Papad', 'Fried Papad', 'Masala Papad']        1\n",
       "Name: menu_item, Length: 8243, dtype: int64"
      ]
     },
     "execution_count": 81,
     "metadata": {},
     "output_type": "execute_result"
    }
   ],
   "source": [
    "df['menu_item'].value_counts()"
   ]
  },
  {
   "cell_type": "code",
   "execution_count": 82,
   "metadata": {
    "scrolled": true
   },
   "outputs": [
    {
     "data": {
      "text/html": [
       "<div>\n",
       "<style scoped>\n",
       "    .dataframe tbody tr th:only-of-type {\n",
       "        vertical-align: middle;\n",
       "    }\n",
       "\n",
       "    .dataframe tbody tr th {\n",
       "        vertical-align: top;\n",
       "    }\n",
       "\n",
       "    .dataframe thead th {\n",
       "        text-align: right;\n",
       "    }\n",
       "</style>\n",
       "<table border=\"1\" class=\"dataframe\">\n",
       "  <thead>\n",
       "    <tr style=\"text-align: right;\">\n",
       "      <th></th>\n",
       "      <th>name</th>\n",
       "      <th>online_order</th>\n",
       "      <th>book_table</th>\n",
       "      <th>rate</th>\n",
       "      <th>votes</th>\n",
       "      <th>location</th>\n",
       "      <th>rest_type</th>\n",
       "      <th>dish_liked</th>\n",
       "      <th>cuisines</th>\n",
       "      <th>cost</th>\n",
       "      <th>reviews_list</th>\n",
       "      <th>menu_item</th>\n",
       "      <th>type</th>\n",
       "      <th>city</th>\n",
       "    </tr>\n",
       "  </thead>\n",
       "  <tbody>\n",
       "    <tr>\n",
       "      <th>0</th>\n",
       "      <td>Jalsa</td>\n",
       "      <td>1</td>\n",
       "      <td>1</td>\n",
       "      <td>4.1</td>\n",
       "      <td>775</td>\n",
       "      <td>Banashankari</td>\n",
       "      <td>Casual Dining</td>\n",
       "      <td>Pasta, Lunch Buffet, Masala Papad, Paneer Laja...</td>\n",
       "      <td>other_cuisines</td>\n",
       "      <td>800.0</td>\n",
       "      <td>[('Rated 4.0', 'RATED\\n  A beautiful place to ...</td>\n",
       "      <td>others</td>\n",
       "      <td>Buffet</td>\n",
       "      <td>Banashankari</td>\n",
       "    </tr>\n",
       "    <tr>\n",
       "      <th>1</th>\n",
       "      <td>Spice Elephant</td>\n",
       "      <td>1</td>\n",
       "      <td>0</td>\n",
       "      <td>4.1</td>\n",
       "      <td>787</td>\n",
       "      <td>Banashankari</td>\n",
       "      <td>Casual Dining</td>\n",
       "      <td>Momos, Lunch Buffet, Chocolate Nirvana, Thai G...</td>\n",
       "      <td>other_cuisines</td>\n",
       "      <td>800.0</td>\n",
       "      <td>[('Rated 4.0', 'RATED\\n  Had been here for din...</td>\n",
       "      <td>others</td>\n",
       "      <td>Buffet</td>\n",
       "      <td>Banashankari</td>\n",
       "    </tr>\n",
       "    <tr>\n",
       "      <th>2</th>\n",
       "      <td>San Churro Cafe</td>\n",
       "      <td>1</td>\n",
       "      <td>0</td>\n",
       "      <td>3.8</td>\n",
       "      <td>918</td>\n",
       "      <td>Banashankari</td>\n",
       "      <td>other_rest_type</td>\n",
       "      <td>Churros, Cannelloni, Minestrone Soup, Hot Choc...</td>\n",
       "      <td>other_cuisines</td>\n",
       "      <td>800.0</td>\n",
       "      <td>[('Rated 3.0', \"RATED\\n  Ambience is not that ...</td>\n",
       "      <td>others</td>\n",
       "      <td>Buffet</td>\n",
       "      <td>Banashankari</td>\n",
       "    </tr>\n",
       "    <tr>\n",
       "      <th>3</th>\n",
       "      <td>Addhuri Udupi Bhojana</td>\n",
       "      <td>0</td>\n",
       "      <td>0</td>\n",
       "      <td>3.7</td>\n",
       "      <td>88</td>\n",
       "      <td>Banashankari</td>\n",
       "      <td>Quick Bites</td>\n",
       "      <td>Masala Dosa</td>\n",
       "      <td>other_cuisines</td>\n",
       "      <td>300.0</td>\n",
       "      <td>[('Rated 4.0', \"RATED\\n  Great food and proper...</td>\n",
       "      <td>others</td>\n",
       "      <td>Buffet</td>\n",
       "      <td>Banashankari</td>\n",
       "    </tr>\n",
       "    <tr>\n",
       "      <th>4</th>\n",
       "      <td>Grand Village</td>\n",
       "      <td>0</td>\n",
       "      <td>0</td>\n",
       "      <td>3.8</td>\n",
       "      <td>166</td>\n",
       "      <td>other_location</td>\n",
       "      <td>Casual Dining</td>\n",
       "      <td>Panipuri, Gol Gappe</td>\n",
       "      <td>other_cuisines</td>\n",
       "      <td>600.0</td>\n",
       "      <td>[('Rated 4.0', 'RATED\\n  Very good restaurant ...</td>\n",
       "      <td>others</td>\n",
       "      <td>Buffet</td>\n",
       "      <td>Banashankari</td>\n",
       "    </tr>\n",
       "  </tbody>\n",
       "</table>\n",
       "</div>"
      ],
      "text/plain": [
       "                    name  online_order  book_table  rate  votes  \\\n",
       "0                  Jalsa             1           1   4.1    775   \n",
       "1         Spice Elephant             1           0   4.1    787   \n",
       "2        San Churro Cafe             1           0   3.8    918   \n",
       "3  Addhuri Udupi Bhojana             0           0   3.7     88   \n",
       "4          Grand Village             0           0   3.8    166   \n",
       "\n",
       "         location        rest_type  \\\n",
       "0    Banashankari    Casual Dining   \n",
       "1    Banashankari    Casual Dining   \n",
       "2    Banashankari  other_rest_type   \n",
       "3    Banashankari      Quick Bites   \n",
       "4  other_location    Casual Dining   \n",
       "\n",
       "                                          dish_liked        cuisines   cost  \\\n",
       "0  Pasta, Lunch Buffet, Masala Papad, Paneer Laja...  other_cuisines  800.0   \n",
       "1  Momos, Lunch Buffet, Chocolate Nirvana, Thai G...  other_cuisines  800.0   \n",
       "2  Churros, Cannelloni, Minestrone Soup, Hot Choc...  other_cuisines  800.0   \n",
       "3                                        Masala Dosa  other_cuisines  300.0   \n",
       "4                                Panipuri, Gol Gappe  other_cuisines  600.0   \n",
       "\n",
       "                                        reviews_list menu_item    type  \\\n",
       "0  [('Rated 4.0', 'RATED\\n  A beautiful place to ...    others  Buffet   \n",
       "1  [('Rated 4.0', 'RATED\\n  Had been here for din...    others  Buffet   \n",
       "2  [('Rated 3.0', \"RATED\\n  Ambience is not that ...    others  Buffet   \n",
       "3  [('Rated 4.0', \"RATED\\n  Great food and proper...    others  Buffet   \n",
       "4  [('Rated 4.0', 'RATED\\n  Very good restaurant ...    others  Buffet   \n",
       "\n",
       "           city  \n",
       "0  Banashankari  \n",
       "1  Banashankari  \n",
       "2  Banashankari  \n",
       "3  Banashankari  \n",
       "4  Banashankari  "
      ]
     },
     "execution_count": 82,
     "metadata": {},
     "output_type": "execute_result"
    }
   ],
   "source": [
    "df.head()"
   ]
  },
  {
   "cell_type": "code",
   "execution_count": 83,
   "metadata": {},
   "outputs": [],
   "source": [
    "top_15_type = df['type'].value_counts()"
   ]
  },
  {
   "cell_type": "code",
   "execution_count": 84,
   "metadata": {},
   "outputs": [
    {
     "data": {
      "text/plain": [
       "Delivery              20427\n",
       "Dine-out              14055\n",
       "Desserts               2709\n",
       "Cafes                  1511\n",
       "Drinks & nightlife     1045\n",
       "Buffet                  847\n",
       "Pubs and bars           632\n",
       "Name: type, dtype: int64"
      ]
     },
     "execution_count": 84,
     "metadata": {},
     "output_type": "execute_result"
    }
   ],
   "source": [
    "top_15_type"
   ]
  },
  {
   "cell_type": "code",
   "execution_count": 85,
   "metadata": {},
   "outputs": [
    {
     "data": {
      "text/html": [
       "<div>\n",
       "<style scoped>\n",
       "    .dataframe tbody tr th:only-of-type {\n",
       "        vertical-align: middle;\n",
       "    }\n",
       "\n",
       "    .dataframe tbody tr th {\n",
       "        vertical-align: top;\n",
       "    }\n",
       "\n",
       "    .dataframe thead th {\n",
       "        text-align: right;\n",
       "    }\n",
       "</style>\n",
       "<table border=\"1\" class=\"dataframe\">\n",
       "  <thead>\n",
       "    <tr style=\"text-align: right;\">\n",
       "      <th></th>\n",
       "      <th>name</th>\n",
       "      <th>online_order</th>\n",
       "      <th>book_table</th>\n",
       "      <th>rate</th>\n",
       "      <th>votes</th>\n",
       "      <th>location</th>\n",
       "      <th>rest_type</th>\n",
       "      <th>dish_liked</th>\n",
       "      <th>cuisines</th>\n",
       "      <th>cost</th>\n",
       "      <th>reviews_list</th>\n",
       "      <th>menu_item</th>\n",
       "      <th>type</th>\n",
       "      <th>city</th>\n",
       "    </tr>\n",
       "  </thead>\n",
       "  <tbody>\n",
       "    <tr>\n",
       "      <th>0</th>\n",
       "      <td>Jalsa</td>\n",
       "      <td>1</td>\n",
       "      <td>1</td>\n",
       "      <td>4.1</td>\n",
       "      <td>775</td>\n",
       "      <td>Banashankari</td>\n",
       "      <td>Casual Dining</td>\n",
       "      <td>Pasta, Lunch Buffet, Masala Papad, Paneer Laja...</td>\n",
       "      <td>other_cuisines</td>\n",
       "      <td>800.0</td>\n",
       "      <td>[('Rated 4.0', 'RATED\\n  A beautiful place to ...</td>\n",
       "      <td>others</td>\n",
       "      <td>Buffet</td>\n",
       "      <td>Banashankari</td>\n",
       "    </tr>\n",
       "    <tr>\n",
       "      <th>1</th>\n",
       "      <td>Spice Elephant</td>\n",
       "      <td>1</td>\n",
       "      <td>0</td>\n",
       "      <td>4.1</td>\n",
       "      <td>787</td>\n",
       "      <td>Banashankari</td>\n",
       "      <td>Casual Dining</td>\n",
       "      <td>Momos, Lunch Buffet, Chocolate Nirvana, Thai G...</td>\n",
       "      <td>other_cuisines</td>\n",
       "      <td>800.0</td>\n",
       "      <td>[('Rated 4.0', 'RATED\\n  Had been here for din...</td>\n",
       "      <td>others</td>\n",
       "      <td>Buffet</td>\n",
       "      <td>Banashankari</td>\n",
       "    </tr>\n",
       "    <tr>\n",
       "      <th>2</th>\n",
       "      <td>San Churro Cafe</td>\n",
       "      <td>1</td>\n",
       "      <td>0</td>\n",
       "      <td>3.8</td>\n",
       "      <td>918</td>\n",
       "      <td>Banashankari</td>\n",
       "      <td>other_rest_type</td>\n",
       "      <td>Churros, Cannelloni, Minestrone Soup, Hot Choc...</td>\n",
       "      <td>other_cuisines</td>\n",
       "      <td>800.0</td>\n",
       "      <td>[('Rated 3.0', \"RATED\\n  Ambience is not that ...</td>\n",
       "      <td>others</td>\n",
       "      <td>Buffet</td>\n",
       "      <td>Banashankari</td>\n",
       "    </tr>\n",
       "    <tr>\n",
       "      <th>3</th>\n",
       "      <td>Addhuri Udupi Bhojana</td>\n",
       "      <td>0</td>\n",
       "      <td>0</td>\n",
       "      <td>3.7</td>\n",
       "      <td>88</td>\n",
       "      <td>Banashankari</td>\n",
       "      <td>Quick Bites</td>\n",
       "      <td>Masala Dosa</td>\n",
       "      <td>other_cuisines</td>\n",
       "      <td>300.0</td>\n",
       "      <td>[('Rated 4.0', \"RATED\\n  Great food and proper...</td>\n",
       "      <td>others</td>\n",
       "      <td>Buffet</td>\n",
       "      <td>Banashankari</td>\n",
       "    </tr>\n",
       "    <tr>\n",
       "      <th>4</th>\n",
       "      <td>Grand Village</td>\n",
       "      <td>0</td>\n",
       "      <td>0</td>\n",
       "      <td>3.8</td>\n",
       "      <td>166</td>\n",
       "      <td>other_location</td>\n",
       "      <td>Casual Dining</td>\n",
       "      <td>Panipuri, Gol Gappe</td>\n",
       "      <td>other_cuisines</td>\n",
       "      <td>600.0</td>\n",
       "      <td>[('Rated 4.0', 'RATED\\n  Very good restaurant ...</td>\n",
       "      <td>others</td>\n",
       "      <td>Buffet</td>\n",
       "      <td>Banashankari</td>\n",
       "    </tr>\n",
       "  </tbody>\n",
       "</table>\n",
       "</div>"
      ],
      "text/plain": [
       "                    name  online_order  book_table  rate  votes  \\\n",
       "0                  Jalsa             1           1   4.1    775   \n",
       "1         Spice Elephant             1           0   4.1    787   \n",
       "2        San Churro Cafe             1           0   3.8    918   \n",
       "3  Addhuri Udupi Bhojana             0           0   3.7     88   \n",
       "4          Grand Village             0           0   3.8    166   \n",
       "\n",
       "         location        rest_type  \\\n",
       "0    Banashankari    Casual Dining   \n",
       "1    Banashankari    Casual Dining   \n",
       "2    Banashankari  other_rest_type   \n",
       "3    Banashankari      Quick Bites   \n",
       "4  other_location    Casual Dining   \n",
       "\n",
       "                                          dish_liked        cuisines   cost  \\\n",
       "0  Pasta, Lunch Buffet, Masala Papad, Paneer Laja...  other_cuisines  800.0   \n",
       "1  Momos, Lunch Buffet, Chocolate Nirvana, Thai G...  other_cuisines  800.0   \n",
       "2  Churros, Cannelloni, Minestrone Soup, Hot Choc...  other_cuisines  800.0   \n",
       "3                                        Masala Dosa  other_cuisines  300.0   \n",
       "4                                Panipuri, Gol Gappe  other_cuisines  600.0   \n",
       "\n",
       "                                        reviews_list menu_item    type  \\\n",
       "0  [('Rated 4.0', 'RATED\\n  A beautiful place to ...    others  Buffet   \n",
       "1  [('Rated 4.0', 'RATED\\n  Had been here for din...    others  Buffet   \n",
       "2  [('Rated 3.0', \"RATED\\n  Ambience is not that ...    others  Buffet   \n",
       "3  [('Rated 4.0', \"RATED\\n  Great food and proper...    others  Buffet   \n",
       "4  [('Rated 4.0', 'RATED\\n  Very good restaurant ...    others  Buffet   \n",
       "\n",
       "           city  \n",
       "0  Banashankari  \n",
       "1  Banashankari  \n",
       "2  Banashankari  \n",
       "3  Banashankari  \n",
       "4  Banashankari  "
      ]
     },
     "execution_count": 85,
     "metadata": {},
     "output_type": "execute_result"
    }
   ],
   "source": [
    "df.head()"
   ]
  },
  {
   "cell_type": "code",
   "execution_count": 86,
   "metadata": {},
   "outputs": [
    {
     "data": {
      "text/plain": [
       "BTM                      2580\n",
       "Koramangala 7th Block    2360\n",
       "Koramangala 4th Block    2254\n",
       "Koramangala 5th Block    2249\n",
       "Koramangala 6th Block    2120\n",
       "Jayanagar                1915\n",
       "JP Nagar                 1632\n",
       "Indiranagar              1537\n",
       "Church Street            1512\n",
       "MG Road                  1510\n",
       "Brigade Road             1483\n",
       "Lavelle Road             1449\n",
       "Residency Road           1345\n",
       "HSR                      1330\n",
       "Marathahalli             1293\n",
       "Bannerghatta Road        1207\n",
       "Whitefield               1201\n",
       "Old Airport Road         1173\n",
       "Brookefield              1139\n",
       "Basavanagudi             1072\n",
       "Sarjapur Road            1017\n",
       "Kammanahalli             1017\n",
       "Kalyan Nagar              990\n",
       "Bellandur                 956\n",
       "Frazer Town               953\n",
       "Malleshwaram              946\n",
       "Rajajinagar               872\n",
       "Electronic City           818\n",
       "Banashankari              727\n",
       "New BEL Road              569\n",
       "Name: city, dtype: int64"
      ]
     },
     "execution_count": 86,
     "metadata": {},
     "output_type": "execute_result"
    }
   ],
   "source": [
    "df['city'].value_counts()"
   ]
  },
  {
   "cell_type": "code",
   "execution_count": 87,
   "metadata": {},
   "outputs": [
    {
     "data": {
      "text/plain": [
       "BTM                      3873\n",
       "Koramangala 5th Block    2296\n",
       "HSR                      1993\n",
       "Indiranagar              1800\n",
       "JP Nagar                 1710\n",
       "Jayanagar                1634\n",
       "Whitefield               1568\n",
       "Marathahalli             1410\n",
       "Bannerghatta Road        1224\n",
       "Koramangala 7th Block    1055\n",
       "Brigade Road             1052\n",
       "Koramangala 6th Block    1052\n",
       "Bellandur                 996\n",
       "Sarjapur Road             854\n",
       "Koramangala 1st Block     851\n",
       "Ulsoor                    846\n",
       "Koramangala 4th Block     841\n",
       "Electronic City           832\n",
       "MG Road                   793\n",
       "Banashankari              744\n",
       "Name: location, dtype: int64"
      ]
     },
     "execution_count": 87,
     "metadata": {},
     "output_type": "execute_result"
    }
   ],
   "source": [
    "top_20_location"
   ]
  },
  {
   "cell_type": "code",
   "execution_count": 88,
   "metadata": {},
   "outputs": [],
   "source": [
    "df.drop(['city'],axis=1,inplace = True)"
   ]
  },
  {
   "cell_type": "code",
   "execution_count": 89,
   "metadata": {},
   "outputs": [],
   "source": [
    "top_20_name = df['name'].value_counts()[:20]"
   ]
  },
  {
   "cell_type": "code",
   "execution_count": 90,
   "metadata": {},
   "outputs": [
    {
     "data": {
      "text/plain": [
       "1258"
      ]
     },
     "execution_count": 90,
     "metadata": {},
     "output_type": "execute_result"
    }
   ],
   "source": [
    "top_20_name.sum()"
   ]
  },
  {
   "cell_type": "code",
   "execution_count": 91,
   "metadata": {},
   "outputs": [
    {
     "data": {
      "text/plain": [
       "41226"
      ]
     },
     "execution_count": 91,
     "metadata": {},
     "output_type": "execute_result"
    }
   ],
   "source": [
    "df['name'].value_counts().sum()"
   ]
  },
  {
   "cell_type": "code",
   "execution_count": 92,
   "metadata": {},
   "outputs": [],
   "source": [
    "df.drop(['name'],axis=1,inplace = True)"
   ]
  },
  {
   "cell_type": "code",
   "execution_count": 93,
   "metadata": {},
   "outputs": [
    {
     "data": {
      "text/html": [
       "<div>\n",
       "<style scoped>\n",
       "    .dataframe tbody tr th:only-of-type {\n",
       "        vertical-align: middle;\n",
       "    }\n",
       "\n",
       "    .dataframe tbody tr th {\n",
       "        vertical-align: top;\n",
       "    }\n",
       "\n",
       "    .dataframe thead th {\n",
       "        text-align: right;\n",
       "    }\n",
       "</style>\n",
       "<table border=\"1\" class=\"dataframe\">\n",
       "  <thead>\n",
       "    <tr style=\"text-align: right;\">\n",
       "      <th></th>\n",
       "      <th>online_order</th>\n",
       "      <th>book_table</th>\n",
       "      <th>rate</th>\n",
       "      <th>votes</th>\n",
       "      <th>location</th>\n",
       "      <th>rest_type</th>\n",
       "      <th>dish_liked</th>\n",
       "      <th>cuisines</th>\n",
       "      <th>cost</th>\n",
       "      <th>reviews_list</th>\n",
       "      <th>menu_item</th>\n",
       "      <th>type</th>\n",
       "    </tr>\n",
       "  </thead>\n",
       "  <tbody>\n",
       "    <tr>\n",
       "      <th>0</th>\n",
       "      <td>1</td>\n",
       "      <td>1</td>\n",
       "      <td>4.1</td>\n",
       "      <td>775</td>\n",
       "      <td>Banashankari</td>\n",
       "      <td>Casual Dining</td>\n",
       "      <td>Pasta, Lunch Buffet, Masala Papad, Paneer Laja...</td>\n",
       "      <td>other_cuisines</td>\n",
       "      <td>800.0</td>\n",
       "      <td>[('Rated 4.0', 'RATED\\n  A beautiful place to ...</td>\n",
       "      <td>others</td>\n",
       "      <td>Buffet</td>\n",
       "    </tr>\n",
       "    <tr>\n",
       "      <th>1</th>\n",
       "      <td>1</td>\n",
       "      <td>0</td>\n",
       "      <td>4.1</td>\n",
       "      <td>787</td>\n",
       "      <td>Banashankari</td>\n",
       "      <td>Casual Dining</td>\n",
       "      <td>Momos, Lunch Buffet, Chocolate Nirvana, Thai G...</td>\n",
       "      <td>other_cuisines</td>\n",
       "      <td>800.0</td>\n",
       "      <td>[('Rated 4.0', 'RATED\\n  Had been here for din...</td>\n",
       "      <td>others</td>\n",
       "      <td>Buffet</td>\n",
       "    </tr>\n",
       "    <tr>\n",
       "      <th>2</th>\n",
       "      <td>1</td>\n",
       "      <td>0</td>\n",
       "      <td>3.8</td>\n",
       "      <td>918</td>\n",
       "      <td>Banashankari</td>\n",
       "      <td>other_rest_type</td>\n",
       "      <td>Churros, Cannelloni, Minestrone Soup, Hot Choc...</td>\n",
       "      <td>other_cuisines</td>\n",
       "      <td>800.0</td>\n",
       "      <td>[('Rated 3.0', \"RATED\\n  Ambience is not that ...</td>\n",
       "      <td>others</td>\n",
       "      <td>Buffet</td>\n",
       "    </tr>\n",
       "    <tr>\n",
       "      <th>3</th>\n",
       "      <td>0</td>\n",
       "      <td>0</td>\n",
       "      <td>3.7</td>\n",
       "      <td>88</td>\n",
       "      <td>Banashankari</td>\n",
       "      <td>Quick Bites</td>\n",
       "      <td>Masala Dosa</td>\n",
       "      <td>other_cuisines</td>\n",
       "      <td>300.0</td>\n",
       "      <td>[('Rated 4.0', \"RATED\\n  Great food and proper...</td>\n",
       "      <td>others</td>\n",
       "      <td>Buffet</td>\n",
       "    </tr>\n",
       "    <tr>\n",
       "      <th>4</th>\n",
       "      <td>0</td>\n",
       "      <td>0</td>\n",
       "      <td>3.8</td>\n",
       "      <td>166</td>\n",
       "      <td>other_location</td>\n",
       "      <td>Casual Dining</td>\n",
       "      <td>Panipuri, Gol Gappe</td>\n",
       "      <td>other_cuisines</td>\n",
       "      <td>600.0</td>\n",
       "      <td>[('Rated 4.0', 'RATED\\n  Very good restaurant ...</td>\n",
       "      <td>others</td>\n",
       "      <td>Buffet</td>\n",
       "    </tr>\n",
       "  </tbody>\n",
       "</table>\n",
       "</div>"
      ],
      "text/plain": [
       "   online_order  book_table  rate  votes        location        rest_type  \\\n",
       "0             1           1   4.1    775    Banashankari    Casual Dining   \n",
       "1             1           0   4.1    787    Banashankari    Casual Dining   \n",
       "2             1           0   3.8    918    Banashankari  other_rest_type   \n",
       "3             0           0   3.7     88    Banashankari      Quick Bites   \n",
       "4             0           0   3.8    166  other_location    Casual Dining   \n",
       "\n",
       "                                          dish_liked        cuisines   cost  \\\n",
       "0  Pasta, Lunch Buffet, Masala Papad, Paneer Laja...  other_cuisines  800.0   \n",
       "1  Momos, Lunch Buffet, Chocolate Nirvana, Thai G...  other_cuisines  800.0   \n",
       "2  Churros, Cannelloni, Minestrone Soup, Hot Choc...  other_cuisines  800.0   \n",
       "3                                        Masala Dosa  other_cuisines  300.0   \n",
       "4                                Panipuri, Gol Gappe  other_cuisines  600.0   \n",
       "\n",
       "                                        reviews_list menu_item    type  \n",
       "0  [('Rated 4.0', 'RATED\\n  A beautiful place to ...    others  Buffet  \n",
       "1  [('Rated 4.0', 'RATED\\n  Had been here for din...    others  Buffet  \n",
       "2  [('Rated 3.0', \"RATED\\n  Ambience is not that ...    others  Buffet  \n",
       "3  [('Rated 4.0', \"RATED\\n  Great food and proper...    others  Buffet  \n",
       "4  [('Rated 4.0', 'RATED\\n  Very good restaurant ...    others  Buffet  "
      ]
     },
     "execution_count": 93,
     "metadata": {},
     "output_type": "execute_result"
    }
   ],
   "source": [
    "df.head()"
   ]
  },
  {
   "cell_type": "code",
   "execution_count": 94,
   "metadata": {},
   "outputs": [],
   "source": [
    "df['reviews_list'] = df['reviews_list'].apply(lambda x : x.split(',')[0])"
   ]
  },
  {
   "cell_type": "code",
   "execution_count": 95,
   "metadata": {},
   "outputs": [
    {
     "data": {
      "text/html": [
       "<div>\n",
       "<style scoped>\n",
       "    .dataframe tbody tr th:only-of-type {\n",
       "        vertical-align: middle;\n",
       "    }\n",
       "\n",
       "    .dataframe tbody tr th {\n",
       "        vertical-align: top;\n",
       "    }\n",
       "\n",
       "    .dataframe thead th {\n",
       "        text-align: right;\n",
       "    }\n",
       "</style>\n",
       "<table border=\"1\" class=\"dataframe\">\n",
       "  <thead>\n",
       "    <tr style=\"text-align: right;\">\n",
       "      <th></th>\n",
       "      <th>online_order</th>\n",
       "      <th>book_table</th>\n",
       "      <th>rate</th>\n",
       "      <th>votes</th>\n",
       "      <th>location</th>\n",
       "      <th>rest_type</th>\n",
       "      <th>dish_liked</th>\n",
       "      <th>cuisines</th>\n",
       "      <th>cost</th>\n",
       "      <th>reviews_list</th>\n",
       "      <th>menu_item</th>\n",
       "      <th>type</th>\n",
       "    </tr>\n",
       "  </thead>\n",
       "  <tbody>\n",
       "    <tr>\n",
       "      <th>0</th>\n",
       "      <td>1</td>\n",
       "      <td>1</td>\n",
       "      <td>4.1</td>\n",
       "      <td>775</td>\n",
       "      <td>Banashankari</td>\n",
       "      <td>Casual Dining</td>\n",
       "      <td>Pasta, Lunch Buffet, Masala Papad, Paneer Laja...</td>\n",
       "      <td>other_cuisines</td>\n",
       "      <td>800.0</td>\n",
       "      <td>[('Rated 4.0'</td>\n",
       "      <td>others</td>\n",
       "      <td>Buffet</td>\n",
       "    </tr>\n",
       "    <tr>\n",
       "      <th>1</th>\n",
       "      <td>1</td>\n",
       "      <td>0</td>\n",
       "      <td>4.1</td>\n",
       "      <td>787</td>\n",
       "      <td>Banashankari</td>\n",
       "      <td>Casual Dining</td>\n",
       "      <td>Momos, Lunch Buffet, Chocolate Nirvana, Thai G...</td>\n",
       "      <td>other_cuisines</td>\n",
       "      <td>800.0</td>\n",
       "      <td>[('Rated 4.0'</td>\n",
       "      <td>others</td>\n",
       "      <td>Buffet</td>\n",
       "    </tr>\n",
       "    <tr>\n",
       "      <th>2</th>\n",
       "      <td>1</td>\n",
       "      <td>0</td>\n",
       "      <td>3.8</td>\n",
       "      <td>918</td>\n",
       "      <td>Banashankari</td>\n",
       "      <td>other_rest_type</td>\n",
       "      <td>Churros, Cannelloni, Minestrone Soup, Hot Choc...</td>\n",
       "      <td>other_cuisines</td>\n",
       "      <td>800.0</td>\n",
       "      <td>[('Rated 3.0'</td>\n",
       "      <td>others</td>\n",
       "      <td>Buffet</td>\n",
       "    </tr>\n",
       "    <tr>\n",
       "      <th>3</th>\n",
       "      <td>0</td>\n",
       "      <td>0</td>\n",
       "      <td>3.7</td>\n",
       "      <td>88</td>\n",
       "      <td>Banashankari</td>\n",
       "      <td>Quick Bites</td>\n",
       "      <td>Masala Dosa</td>\n",
       "      <td>other_cuisines</td>\n",
       "      <td>300.0</td>\n",
       "      <td>[('Rated 4.0'</td>\n",
       "      <td>others</td>\n",
       "      <td>Buffet</td>\n",
       "    </tr>\n",
       "    <tr>\n",
       "      <th>4</th>\n",
       "      <td>0</td>\n",
       "      <td>0</td>\n",
       "      <td>3.8</td>\n",
       "      <td>166</td>\n",
       "      <td>other_location</td>\n",
       "      <td>Casual Dining</td>\n",
       "      <td>Panipuri, Gol Gappe</td>\n",
       "      <td>other_cuisines</td>\n",
       "      <td>600.0</td>\n",
       "      <td>[('Rated 4.0'</td>\n",
       "      <td>others</td>\n",
       "      <td>Buffet</td>\n",
       "    </tr>\n",
       "  </tbody>\n",
       "</table>\n",
       "</div>"
      ],
      "text/plain": [
       "   online_order  book_table  rate  votes        location        rest_type  \\\n",
       "0             1           1   4.1    775    Banashankari    Casual Dining   \n",
       "1             1           0   4.1    787    Banashankari    Casual Dining   \n",
       "2             1           0   3.8    918    Banashankari  other_rest_type   \n",
       "3             0           0   3.7     88    Banashankari      Quick Bites   \n",
       "4             0           0   3.8    166  other_location    Casual Dining   \n",
       "\n",
       "                                          dish_liked        cuisines   cost  \\\n",
       "0  Pasta, Lunch Buffet, Masala Papad, Paneer Laja...  other_cuisines  800.0   \n",
       "1  Momos, Lunch Buffet, Chocolate Nirvana, Thai G...  other_cuisines  800.0   \n",
       "2  Churros, Cannelloni, Minestrone Soup, Hot Choc...  other_cuisines  800.0   \n",
       "3                                        Masala Dosa  other_cuisines  300.0   \n",
       "4                                Panipuri, Gol Gappe  other_cuisines  600.0   \n",
       "\n",
       "    reviews_list menu_item    type  \n",
       "0  [('Rated 4.0'    others  Buffet  \n",
       "1  [('Rated 4.0'    others  Buffet  \n",
       "2  [('Rated 3.0'    others  Buffet  \n",
       "3  [('Rated 4.0'    others  Buffet  \n",
       "4  [('Rated 4.0'    others  Buffet  "
      ]
     },
     "execution_count": 95,
     "metadata": {},
     "output_type": "execute_result"
    }
   ],
   "source": [
    "df.head()"
   ]
  },
  {
   "cell_type": "code",
   "execution_count": 96,
   "metadata": {},
   "outputs": [],
   "source": [
    "df['reviews_list'] = df['reviews_list'].apply(lambda x : x.split('Rated'))"
   ]
  },
  {
   "cell_type": "code",
   "execution_count": 97,
   "metadata": {},
   "outputs": [
    {
     "data": {
      "text/html": [
       "<div>\n",
       "<style scoped>\n",
       "    .dataframe tbody tr th:only-of-type {\n",
       "        vertical-align: middle;\n",
       "    }\n",
       "\n",
       "    .dataframe tbody tr th {\n",
       "        vertical-align: top;\n",
       "    }\n",
       "\n",
       "    .dataframe thead th {\n",
       "        text-align: right;\n",
       "    }\n",
       "</style>\n",
       "<table border=\"1\" class=\"dataframe\">\n",
       "  <thead>\n",
       "    <tr style=\"text-align: right;\">\n",
       "      <th></th>\n",
       "      <th>online_order</th>\n",
       "      <th>book_table</th>\n",
       "      <th>rate</th>\n",
       "      <th>votes</th>\n",
       "      <th>location</th>\n",
       "      <th>rest_type</th>\n",
       "      <th>dish_liked</th>\n",
       "      <th>cuisines</th>\n",
       "      <th>cost</th>\n",
       "      <th>reviews_list</th>\n",
       "      <th>menu_item</th>\n",
       "      <th>type</th>\n",
       "    </tr>\n",
       "  </thead>\n",
       "  <tbody>\n",
       "    <tr>\n",
       "      <th>0</th>\n",
       "      <td>1</td>\n",
       "      <td>1</td>\n",
       "      <td>4.1</td>\n",
       "      <td>775</td>\n",
       "      <td>Banashankari</td>\n",
       "      <td>Casual Dining</td>\n",
       "      <td>Pasta, Lunch Buffet, Masala Papad, Paneer Laja...</td>\n",
       "      <td>other_cuisines</td>\n",
       "      <td>800.0</td>\n",
       "      <td>[[(',  4.0']</td>\n",
       "      <td>others</td>\n",
       "      <td>Buffet</td>\n",
       "    </tr>\n",
       "    <tr>\n",
       "      <th>1</th>\n",
       "      <td>1</td>\n",
       "      <td>0</td>\n",
       "      <td>4.1</td>\n",
       "      <td>787</td>\n",
       "      <td>Banashankari</td>\n",
       "      <td>Casual Dining</td>\n",
       "      <td>Momos, Lunch Buffet, Chocolate Nirvana, Thai G...</td>\n",
       "      <td>other_cuisines</td>\n",
       "      <td>800.0</td>\n",
       "      <td>[[(',  4.0']</td>\n",
       "      <td>others</td>\n",
       "      <td>Buffet</td>\n",
       "    </tr>\n",
       "    <tr>\n",
       "      <th>2</th>\n",
       "      <td>1</td>\n",
       "      <td>0</td>\n",
       "      <td>3.8</td>\n",
       "      <td>918</td>\n",
       "      <td>Banashankari</td>\n",
       "      <td>other_rest_type</td>\n",
       "      <td>Churros, Cannelloni, Minestrone Soup, Hot Choc...</td>\n",
       "      <td>other_cuisines</td>\n",
       "      <td>800.0</td>\n",
       "      <td>[[(',  3.0']</td>\n",
       "      <td>others</td>\n",
       "      <td>Buffet</td>\n",
       "    </tr>\n",
       "    <tr>\n",
       "      <th>3</th>\n",
       "      <td>0</td>\n",
       "      <td>0</td>\n",
       "      <td>3.7</td>\n",
       "      <td>88</td>\n",
       "      <td>Banashankari</td>\n",
       "      <td>Quick Bites</td>\n",
       "      <td>Masala Dosa</td>\n",
       "      <td>other_cuisines</td>\n",
       "      <td>300.0</td>\n",
       "      <td>[[(',  4.0']</td>\n",
       "      <td>others</td>\n",
       "      <td>Buffet</td>\n",
       "    </tr>\n",
       "    <tr>\n",
       "      <th>4</th>\n",
       "      <td>0</td>\n",
       "      <td>0</td>\n",
       "      <td>3.8</td>\n",
       "      <td>166</td>\n",
       "      <td>other_location</td>\n",
       "      <td>Casual Dining</td>\n",
       "      <td>Panipuri, Gol Gappe</td>\n",
       "      <td>other_cuisines</td>\n",
       "      <td>600.0</td>\n",
       "      <td>[[(',  4.0']</td>\n",
       "      <td>others</td>\n",
       "      <td>Buffet</td>\n",
       "    </tr>\n",
       "  </tbody>\n",
       "</table>\n",
       "</div>"
      ],
      "text/plain": [
       "   online_order  book_table  rate  votes        location        rest_type  \\\n",
       "0             1           1   4.1    775    Banashankari    Casual Dining   \n",
       "1             1           0   4.1    787    Banashankari    Casual Dining   \n",
       "2             1           0   3.8    918    Banashankari  other_rest_type   \n",
       "3             0           0   3.7     88    Banashankari      Quick Bites   \n",
       "4             0           0   3.8    166  other_location    Casual Dining   \n",
       "\n",
       "                                          dish_liked        cuisines   cost  \\\n",
       "0  Pasta, Lunch Buffet, Masala Papad, Paneer Laja...  other_cuisines  800.0   \n",
       "1  Momos, Lunch Buffet, Chocolate Nirvana, Thai G...  other_cuisines  800.0   \n",
       "2  Churros, Cannelloni, Minestrone Soup, Hot Choc...  other_cuisines  800.0   \n",
       "3                                        Masala Dosa  other_cuisines  300.0   \n",
       "4                                Panipuri, Gol Gappe  other_cuisines  600.0   \n",
       "\n",
       "   reviews_list menu_item    type  \n",
       "0  [[(',  4.0']    others  Buffet  \n",
       "1  [[(',  4.0']    others  Buffet  \n",
       "2  [[(',  3.0']    others  Buffet  \n",
       "3  [[(',  4.0']    others  Buffet  \n",
       "4  [[(',  4.0']    others  Buffet  "
      ]
     },
     "execution_count": 97,
     "metadata": {},
     "output_type": "execute_result"
    }
   ],
   "source": [
    "df.head()"
   ]
  },
  {
   "cell_type": "code",
   "execution_count": 98,
   "metadata": {},
   "outputs": [],
   "source": [
    "df['reviews_list'] = df['reviews_list'].apply(lambda x : x[-1])"
   ]
  },
  {
   "cell_type": "code",
   "execution_count": 99,
   "metadata": {},
   "outputs": [
    {
     "data": {
      "text/html": [
       "<div>\n",
       "<style scoped>\n",
       "    .dataframe tbody tr th:only-of-type {\n",
       "        vertical-align: middle;\n",
       "    }\n",
       "\n",
       "    .dataframe tbody tr th {\n",
       "        vertical-align: top;\n",
       "    }\n",
       "\n",
       "    .dataframe thead th {\n",
       "        text-align: right;\n",
       "    }\n",
       "</style>\n",
       "<table border=\"1\" class=\"dataframe\">\n",
       "  <thead>\n",
       "    <tr style=\"text-align: right;\">\n",
       "      <th></th>\n",
       "      <th>online_order</th>\n",
       "      <th>book_table</th>\n",
       "      <th>rate</th>\n",
       "      <th>votes</th>\n",
       "      <th>location</th>\n",
       "      <th>rest_type</th>\n",
       "      <th>dish_liked</th>\n",
       "      <th>cuisines</th>\n",
       "      <th>cost</th>\n",
       "      <th>reviews_list</th>\n",
       "      <th>menu_item</th>\n",
       "      <th>type</th>\n",
       "    </tr>\n",
       "  </thead>\n",
       "  <tbody>\n",
       "    <tr>\n",
       "      <th>0</th>\n",
       "      <td>1</td>\n",
       "      <td>1</td>\n",
       "      <td>4.1</td>\n",
       "      <td>775</td>\n",
       "      <td>Banashankari</td>\n",
       "      <td>Casual Dining</td>\n",
       "      <td>Pasta, Lunch Buffet, Masala Papad, Paneer Laja...</td>\n",
       "      <td>other_cuisines</td>\n",
       "      <td>800.0</td>\n",
       "      <td>4.0'</td>\n",
       "      <td>others</td>\n",
       "      <td>Buffet</td>\n",
       "    </tr>\n",
       "    <tr>\n",
       "      <th>1</th>\n",
       "      <td>1</td>\n",
       "      <td>0</td>\n",
       "      <td>4.1</td>\n",
       "      <td>787</td>\n",
       "      <td>Banashankari</td>\n",
       "      <td>Casual Dining</td>\n",
       "      <td>Momos, Lunch Buffet, Chocolate Nirvana, Thai G...</td>\n",
       "      <td>other_cuisines</td>\n",
       "      <td>800.0</td>\n",
       "      <td>4.0'</td>\n",
       "      <td>others</td>\n",
       "      <td>Buffet</td>\n",
       "    </tr>\n",
       "    <tr>\n",
       "      <th>2</th>\n",
       "      <td>1</td>\n",
       "      <td>0</td>\n",
       "      <td>3.8</td>\n",
       "      <td>918</td>\n",
       "      <td>Banashankari</td>\n",
       "      <td>other_rest_type</td>\n",
       "      <td>Churros, Cannelloni, Minestrone Soup, Hot Choc...</td>\n",
       "      <td>other_cuisines</td>\n",
       "      <td>800.0</td>\n",
       "      <td>3.0'</td>\n",
       "      <td>others</td>\n",
       "      <td>Buffet</td>\n",
       "    </tr>\n",
       "    <tr>\n",
       "      <th>3</th>\n",
       "      <td>0</td>\n",
       "      <td>0</td>\n",
       "      <td>3.7</td>\n",
       "      <td>88</td>\n",
       "      <td>Banashankari</td>\n",
       "      <td>Quick Bites</td>\n",
       "      <td>Masala Dosa</td>\n",
       "      <td>other_cuisines</td>\n",
       "      <td>300.0</td>\n",
       "      <td>4.0'</td>\n",
       "      <td>others</td>\n",
       "      <td>Buffet</td>\n",
       "    </tr>\n",
       "    <tr>\n",
       "      <th>4</th>\n",
       "      <td>0</td>\n",
       "      <td>0</td>\n",
       "      <td>3.8</td>\n",
       "      <td>166</td>\n",
       "      <td>other_location</td>\n",
       "      <td>Casual Dining</td>\n",
       "      <td>Panipuri, Gol Gappe</td>\n",
       "      <td>other_cuisines</td>\n",
       "      <td>600.0</td>\n",
       "      <td>4.0'</td>\n",
       "      <td>others</td>\n",
       "      <td>Buffet</td>\n",
       "    </tr>\n",
       "  </tbody>\n",
       "</table>\n",
       "</div>"
      ],
      "text/plain": [
       "   online_order  book_table  rate  votes        location        rest_type  \\\n",
       "0             1           1   4.1    775    Banashankari    Casual Dining   \n",
       "1             1           0   4.1    787    Banashankari    Casual Dining   \n",
       "2             1           0   3.8    918    Banashankari  other_rest_type   \n",
       "3             0           0   3.7     88    Banashankari      Quick Bites   \n",
       "4             0           0   3.8    166  other_location    Casual Dining   \n",
       "\n",
       "                                          dish_liked        cuisines   cost  \\\n",
       "0  Pasta, Lunch Buffet, Masala Papad, Paneer Laja...  other_cuisines  800.0   \n",
       "1  Momos, Lunch Buffet, Chocolate Nirvana, Thai G...  other_cuisines  800.0   \n",
       "2  Churros, Cannelloni, Minestrone Soup, Hot Choc...  other_cuisines  800.0   \n",
       "3                                        Masala Dosa  other_cuisines  300.0   \n",
       "4                                Panipuri, Gol Gappe  other_cuisines  600.0   \n",
       "\n",
       "  reviews_list menu_item    type  \n",
       "0         4.0'    others  Buffet  \n",
       "1         4.0'    others  Buffet  \n",
       "2         3.0'    others  Buffet  \n",
       "3         4.0'    others  Buffet  \n",
       "4         4.0'    others  Buffet  "
      ]
     },
     "execution_count": 99,
     "metadata": {},
     "output_type": "execute_result"
    }
   ],
   "source": [
    "df.head()"
   ]
  },
  {
   "cell_type": "code",
   "execution_count": 100,
   "metadata": {},
   "outputs": [],
   "source": [
    "df['reviews_list'] = df['reviews_list'].apply(lambda x : x.replace('\\'',''))"
   ]
  },
  {
   "cell_type": "code",
   "execution_count": 101,
   "metadata": {},
   "outputs": [
    {
     "data": {
      "text/html": [
       "<div>\n",
       "<style scoped>\n",
       "    .dataframe tbody tr th:only-of-type {\n",
       "        vertical-align: middle;\n",
       "    }\n",
       "\n",
       "    .dataframe tbody tr th {\n",
       "        vertical-align: top;\n",
       "    }\n",
       "\n",
       "    .dataframe thead th {\n",
       "        text-align: right;\n",
       "    }\n",
       "</style>\n",
       "<table border=\"1\" class=\"dataframe\">\n",
       "  <thead>\n",
       "    <tr style=\"text-align: right;\">\n",
       "      <th></th>\n",
       "      <th>online_order</th>\n",
       "      <th>book_table</th>\n",
       "      <th>rate</th>\n",
       "      <th>votes</th>\n",
       "      <th>location</th>\n",
       "      <th>rest_type</th>\n",
       "      <th>dish_liked</th>\n",
       "      <th>cuisines</th>\n",
       "      <th>cost</th>\n",
       "      <th>reviews_list</th>\n",
       "      <th>menu_item</th>\n",
       "      <th>type</th>\n",
       "    </tr>\n",
       "  </thead>\n",
       "  <tbody>\n",
       "    <tr>\n",
       "      <th>0</th>\n",
       "      <td>1</td>\n",
       "      <td>1</td>\n",
       "      <td>4.1</td>\n",
       "      <td>775</td>\n",
       "      <td>Banashankari</td>\n",
       "      <td>Casual Dining</td>\n",
       "      <td>Pasta, Lunch Buffet, Masala Papad, Paneer Laja...</td>\n",
       "      <td>other_cuisines</td>\n",
       "      <td>800.0</td>\n",
       "      <td>4.0</td>\n",
       "      <td>others</td>\n",
       "      <td>Buffet</td>\n",
       "    </tr>\n",
       "    <tr>\n",
       "      <th>1</th>\n",
       "      <td>1</td>\n",
       "      <td>0</td>\n",
       "      <td>4.1</td>\n",
       "      <td>787</td>\n",
       "      <td>Banashankari</td>\n",
       "      <td>Casual Dining</td>\n",
       "      <td>Momos, Lunch Buffet, Chocolate Nirvana, Thai G...</td>\n",
       "      <td>other_cuisines</td>\n",
       "      <td>800.0</td>\n",
       "      <td>4.0</td>\n",
       "      <td>others</td>\n",
       "      <td>Buffet</td>\n",
       "    </tr>\n",
       "    <tr>\n",
       "      <th>2</th>\n",
       "      <td>1</td>\n",
       "      <td>0</td>\n",
       "      <td>3.8</td>\n",
       "      <td>918</td>\n",
       "      <td>Banashankari</td>\n",
       "      <td>other_rest_type</td>\n",
       "      <td>Churros, Cannelloni, Minestrone Soup, Hot Choc...</td>\n",
       "      <td>other_cuisines</td>\n",
       "      <td>800.0</td>\n",
       "      <td>3.0</td>\n",
       "      <td>others</td>\n",
       "      <td>Buffet</td>\n",
       "    </tr>\n",
       "    <tr>\n",
       "      <th>3</th>\n",
       "      <td>0</td>\n",
       "      <td>0</td>\n",
       "      <td>3.7</td>\n",
       "      <td>88</td>\n",
       "      <td>Banashankari</td>\n",
       "      <td>Quick Bites</td>\n",
       "      <td>Masala Dosa</td>\n",
       "      <td>other_cuisines</td>\n",
       "      <td>300.0</td>\n",
       "      <td>4.0</td>\n",
       "      <td>others</td>\n",
       "      <td>Buffet</td>\n",
       "    </tr>\n",
       "    <tr>\n",
       "      <th>4</th>\n",
       "      <td>0</td>\n",
       "      <td>0</td>\n",
       "      <td>3.8</td>\n",
       "      <td>166</td>\n",
       "      <td>other_location</td>\n",
       "      <td>Casual Dining</td>\n",
       "      <td>Panipuri, Gol Gappe</td>\n",
       "      <td>other_cuisines</td>\n",
       "      <td>600.0</td>\n",
       "      <td>4.0</td>\n",
       "      <td>others</td>\n",
       "      <td>Buffet</td>\n",
       "    </tr>\n",
       "  </tbody>\n",
       "</table>\n",
       "</div>"
      ],
      "text/plain": [
       "   online_order  book_table  rate  votes        location        rest_type  \\\n",
       "0             1           1   4.1    775    Banashankari    Casual Dining   \n",
       "1             1           0   4.1    787    Banashankari    Casual Dining   \n",
       "2             1           0   3.8    918    Banashankari  other_rest_type   \n",
       "3             0           0   3.7     88    Banashankari      Quick Bites   \n",
       "4             0           0   3.8    166  other_location    Casual Dining   \n",
       "\n",
       "                                          dish_liked        cuisines   cost  \\\n",
       "0  Pasta, Lunch Buffet, Masala Papad, Paneer Laja...  other_cuisines  800.0   \n",
       "1  Momos, Lunch Buffet, Chocolate Nirvana, Thai G...  other_cuisines  800.0   \n",
       "2  Churros, Cannelloni, Minestrone Soup, Hot Choc...  other_cuisines  800.0   \n",
       "3                                        Masala Dosa  other_cuisines  300.0   \n",
       "4                                Panipuri, Gol Gappe  other_cuisines  600.0   \n",
       "\n",
       "  reviews_list menu_item    type  \n",
       "0          4.0    others  Buffet  \n",
       "1          4.0    others  Buffet  \n",
       "2          3.0    others  Buffet  \n",
       "3          4.0    others  Buffet  \n",
       "4          4.0    others  Buffet  "
      ]
     },
     "execution_count": 101,
     "metadata": {},
     "output_type": "execute_result"
    }
   ],
   "source": [
    "df.head()"
   ]
  },
  {
   "cell_type": "code",
   "execution_count": 102,
   "metadata": {},
   "outputs": [],
   "source": [
    "df['reviews_list'] = df['reviews_list'].apply(lambda x : x.strip())"
   ]
  },
  {
   "cell_type": "code",
   "execution_count": 103,
   "metadata": {
    "scrolled": false
   },
   "outputs": [
    {
     "data": {
      "text/plain": [
       "0"
      ]
     },
     "execution_count": 103,
     "metadata": {},
     "output_type": "execute_result"
    }
   ],
   "source": [
    "df['reviews_list'].isnull().sum()"
   ]
  },
  {
   "cell_type": "code",
   "execution_count": 104,
   "metadata": {},
   "outputs": [],
   "source": [
    "digits_in_review= pd.DataFrame(df['reviews_list'].str.replace('.','').str.isdigit()) "
   ]
  },
  {
   "cell_type": "code",
   "execution_count": 105,
   "metadata": {},
   "outputs": [],
   "source": [
    "df = df[digits_in_review['reviews_list'] == True]"
   ]
  },
  {
   "cell_type": "code",
   "execution_count": 106,
   "metadata": {},
   "outputs": [
    {
     "data": {
      "text/plain": [
       "(40116, 12)"
      ]
     },
     "execution_count": 106,
     "metadata": {},
     "output_type": "execute_result"
    }
   ],
   "source": [
    "df.shape"
   ]
  },
  {
   "cell_type": "code",
   "execution_count": 107,
   "metadata": {},
   "outputs": [],
   "source": [
    "df['reviews_list'] = df['reviews_list'].astype(float)"
   ]
  },
  {
   "cell_type": "code",
   "execution_count": 108,
   "metadata": {},
   "outputs": [
    {
     "data": {
      "text/plain": [
       "online_order      int64\n",
       "book_table        int64\n",
       "rate            float64\n",
       "votes             int64\n",
       "location         object\n",
       "rest_type        object\n",
       "dish_liked       object\n",
       "cuisines         object\n",
       "cost            float64\n",
       "reviews_list    float64\n",
       "menu_item        object\n",
       "type             object\n",
       "dtype: object"
      ]
     },
     "execution_count": 108,
     "metadata": {},
     "output_type": "execute_result"
    }
   ],
   "source": [
    "df.dtypes"
   ]
  },
  {
   "cell_type": "markdown",
   "metadata": {},
   "source": [
    "## Apply Onehot Encoding on the categorical variables"
   ]
  },
  {
   "cell_type": "code",
   "execution_count": 109,
   "metadata": {
    "scrolled": true
   },
   "outputs": [
    {
     "data": {
      "text/html": [
       "<div>\n",
       "<style scoped>\n",
       "    .dataframe tbody tr th:only-of-type {\n",
       "        vertical-align: middle;\n",
       "    }\n",
       "\n",
       "    .dataframe tbody tr th {\n",
       "        vertical-align: top;\n",
       "    }\n",
       "\n",
       "    .dataframe thead th {\n",
       "        text-align: right;\n",
       "    }\n",
       "</style>\n",
       "<table border=\"1\" class=\"dataframe\">\n",
       "  <thead>\n",
       "    <tr style=\"text-align: right;\">\n",
       "      <th></th>\n",
       "      <th>online_order</th>\n",
       "      <th>book_table</th>\n",
       "      <th>rate</th>\n",
       "      <th>votes</th>\n",
       "      <th>location</th>\n",
       "      <th>rest_type</th>\n",
       "      <th>dish_liked</th>\n",
       "      <th>cuisines</th>\n",
       "      <th>cost</th>\n",
       "      <th>reviews_list</th>\n",
       "      <th>menu_item</th>\n",
       "      <th>type</th>\n",
       "    </tr>\n",
       "  </thead>\n",
       "  <tbody>\n",
       "    <tr>\n",
       "      <th>0</th>\n",
       "      <td>1</td>\n",
       "      <td>1</td>\n",
       "      <td>4.1</td>\n",
       "      <td>775</td>\n",
       "      <td>Banashankari</td>\n",
       "      <td>Casual Dining</td>\n",
       "      <td>Pasta, Lunch Buffet, Masala Papad, Paneer Laja...</td>\n",
       "      <td>other_cuisines</td>\n",
       "      <td>800.0</td>\n",
       "      <td>4.0</td>\n",
       "      <td>others</td>\n",
       "      <td>Buffet</td>\n",
       "    </tr>\n",
       "    <tr>\n",
       "      <th>1</th>\n",
       "      <td>1</td>\n",
       "      <td>0</td>\n",
       "      <td>4.1</td>\n",
       "      <td>787</td>\n",
       "      <td>Banashankari</td>\n",
       "      <td>Casual Dining</td>\n",
       "      <td>Momos, Lunch Buffet, Chocolate Nirvana, Thai G...</td>\n",
       "      <td>other_cuisines</td>\n",
       "      <td>800.0</td>\n",
       "      <td>4.0</td>\n",
       "      <td>others</td>\n",
       "      <td>Buffet</td>\n",
       "    </tr>\n",
       "    <tr>\n",
       "      <th>2</th>\n",
       "      <td>1</td>\n",
       "      <td>0</td>\n",
       "      <td>3.8</td>\n",
       "      <td>918</td>\n",
       "      <td>Banashankari</td>\n",
       "      <td>other_rest_type</td>\n",
       "      <td>Churros, Cannelloni, Minestrone Soup, Hot Choc...</td>\n",
       "      <td>other_cuisines</td>\n",
       "      <td>800.0</td>\n",
       "      <td>3.0</td>\n",
       "      <td>others</td>\n",
       "      <td>Buffet</td>\n",
       "    </tr>\n",
       "    <tr>\n",
       "      <th>3</th>\n",
       "      <td>0</td>\n",
       "      <td>0</td>\n",
       "      <td>3.7</td>\n",
       "      <td>88</td>\n",
       "      <td>Banashankari</td>\n",
       "      <td>Quick Bites</td>\n",
       "      <td>Masala Dosa</td>\n",
       "      <td>other_cuisines</td>\n",
       "      <td>300.0</td>\n",
       "      <td>4.0</td>\n",
       "      <td>others</td>\n",
       "      <td>Buffet</td>\n",
       "    </tr>\n",
       "    <tr>\n",
       "      <th>4</th>\n",
       "      <td>0</td>\n",
       "      <td>0</td>\n",
       "      <td>3.8</td>\n",
       "      <td>166</td>\n",
       "      <td>other_location</td>\n",
       "      <td>Casual Dining</td>\n",
       "      <td>Panipuri, Gol Gappe</td>\n",
       "      <td>other_cuisines</td>\n",
       "      <td>600.0</td>\n",
       "      <td>4.0</td>\n",
       "      <td>others</td>\n",
       "      <td>Buffet</td>\n",
       "    </tr>\n",
       "  </tbody>\n",
       "</table>\n",
       "</div>"
      ],
      "text/plain": [
       "   online_order  book_table  rate  votes        location        rest_type  \\\n",
       "0             1           1   4.1    775    Banashankari    Casual Dining   \n",
       "1             1           0   4.1    787    Banashankari    Casual Dining   \n",
       "2             1           0   3.8    918    Banashankari  other_rest_type   \n",
       "3             0           0   3.7     88    Banashankari      Quick Bites   \n",
       "4             0           0   3.8    166  other_location    Casual Dining   \n",
       "\n",
       "                                          dish_liked        cuisines   cost  \\\n",
       "0  Pasta, Lunch Buffet, Masala Papad, Paneer Laja...  other_cuisines  800.0   \n",
       "1  Momos, Lunch Buffet, Chocolate Nirvana, Thai G...  other_cuisines  800.0   \n",
       "2  Churros, Cannelloni, Minestrone Soup, Hot Choc...  other_cuisines  800.0   \n",
       "3                                        Masala Dosa  other_cuisines  300.0   \n",
       "4                                Panipuri, Gol Gappe  other_cuisines  600.0   \n",
       "\n",
       "   reviews_list menu_item    type  \n",
       "0           4.0    others  Buffet  \n",
       "1           4.0    others  Buffet  \n",
       "2           3.0    others  Buffet  \n",
       "3           4.0    others  Buffet  \n",
       "4           4.0    others  Buffet  "
      ]
     },
     "execution_count": 109,
     "metadata": {},
     "output_type": "execute_result"
    }
   ],
   "source": [
    "df.head()"
   ]
  },
  {
   "cell_type": "code",
   "execution_count": 110,
   "metadata": {},
   "outputs": [],
   "source": [
    "df.drop(['menu_item','dish_liked'],axis = 1 , inplace = True)"
   ]
  },
  {
   "cell_type": "code",
   "execution_count": 111,
   "metadata": {},
   "outputs": [
    {
     "data": {
      "text/html": [
       "<div>\n",
       "<style scoped>\n",
       "    .dataframe tbody tr th:only-of-type {\n",
       "        vertical-align: middle;\n",
       "    }\n",
       "\n",
       "    .dataframe tbody tr th {\n",
       "        vertical-align: top;\n",
       "    }\n",
       "\n",
       "    .dataframe thead th {\n",
       "        text-align: right;\n",
       "    }\n",
       "</style>\n",
       "<table border=\"1\" class=\"dataframe\">\n",
       "  <thead>\n",
       "    <tr style=\"text-align: right;\">\n",
       "      <th></th>\n",
       "      <th>online_order</th>\n",
       "      <th>book_table</th>\n",
       "      <th>rate</th>\n",
       "      <th>votes</th>\n",
       "      <th>location</th>\n",
       "      <th>rest_type</th>\n",
       "      <th>cuisines</th>\n",
       "      <th>cost</th>\n",
       "      <th>reviews_list</th>\n",
       "      <th>type</th>\n",
       "    </tr>\n",
       "  </thead>\n",
       "  <tbody>\n",
       "    <tr>\n",
       "      <th>0</th>\n",
       "      <td>1</td>\n",
       "      <td>1</td>\n",
       "      <td>4.1</td>\n",
       "      <td>775</td>\n",
       "      <td>Banashankari</td>\n",
       "      <td>Casual Dining</td>\n",
       "      <td>other_cuisines</td>\n",
       "      <td>800.0</td>\n",
       "      <td>4.0</td>\n",
       "      <td>Buffet</td>\n",
       "    </tr>\n",
       "    <tr>\n",
       "      <th>1</th>\n",
       "      <td>1</td>\n",
       "      <td>0</td>\n",
       "      <td>4.1</td>\n",
       "      <td>787</td>\n",
       "      <td>Banashankari</td>\n",
       "      <td>Casual Dining</td>\n",
       "      <td>other_cuisines</td>\n",
       "      <td>800.0</td>\n",
       "      <td>4.0</td>\n",
       "      <td>Buffet</td>\n",
       "    </tr>\n",
       "    <tr>\n",
       "      <th>2</th>\n",
       "      <td>1</td>\n",
       "      <td>0</td>\n",
       "      <td>3.8</td>\n",
       "      <td>918</td>\n",
       "      <td>Banashankari</td>\n",
       "      <td>other_rest_type</td>\n",
       "      <td>other_cuisines</td>\n",
       "      <td>800.0</td>\n",
       "      <td>3.0</td>\n",
       "      <td>Buffet</td>\n",
       "    </tr>\n",
       "    <tr>\n",
       "      <th>3</th>\n",
       "      <td>0</td>\n",
       "      <td>0</td>\n",
       "      <td>3.7</td>\n",
       "      <td>88</td>\n",
       "      <td>Banashankari</td>\n",
       "      <td>Quick Bites</td>\n",
       "      <td>other_cuisines</td>\n",
       "      <td>300.0</td>\n",
       "      <td>4.0</td>\n",
       "      <td>Buffet</td>\n",
       "    </tr>\n",
       "    <tr>\n",
       "      <th>4</th>\n",
       "      <td>0</td>\n",
       "      <td>0</td>\n",
       "      <td>3.8</td>\n",
       "      <td>166</td>\n",
       "      <td>other_location</td>\n",
       "      <td>Casual Dining</td>\n",
       "      <td>other_cuisines</td>\n",
       "      <td>600.0</td>\n",
       "      <td>4.0</td>\n",
       "      <td>Buffet</td>\n",
       "    </tr>\n",
       "  </tbody>\n",
       "</table>\n",
       "</div>"
      ],
      "text/plain": [
       "   online_order  book_table  rate  votes        location        rest_type  \\\n",
       "0             1           1   4.1    775    Banashankari    Casual Dining   \n",
       "1             1           0   4.1    787    Banashankari    Casual Dining   \n",
       "2             1           0   3.8    918    Banashankari  other_rest_type   \n",
       "3             0           0   3.7     88    Banashankari      Quick Bites   \n",
       "4             0           0   3.8    166  other_location    Casual Dining   \n",
       "\n",
       "         cuisines   cost  reviews_list    type  \n",
       "0  other_cuisines  800.0           4.0  Buffet  \n",
       "1  other_cuisines  800.0           4.0  Buffet  \n",
       "2  other_cuisines  800.0           3.0  Buffet  \n",
       "3  other_cuisines  300.0           4.0  Buffet  \n",
       "4  other_cuisines  600.0           4.0  Buffet  "
      ]
     },
     "execution_count": 111,
     "metadata": {},
     "output_type": "execute_result"
    }
   ],
   "source": [
    "df.head()"
   ]
  },
  {
   "cell_type": "code",
   "execution_count": 112,
   "metadata": {},
   "outputs": [],
   "source": [
    "#Handling Categorical Values \n",
    "source_dummy=pd.get_dummies(df[['location','rest_type','cuisines','type']],drop_first=True)\n",
    "df=pd.concat([source_dummy,df],axis=1)"
   ]
  },
  {
   "cell_type": "code",
   "execution_count": 113,
   "metadata": {},
   "outputs": [
    {
     "data": {
      "text/html": [
       "<div>\n",
       "<style scoped>\n",
       "    .dataframe tbody tr th:only-of-type {\n",
       "        vertical-align: middle;\n",
       "    }\n",
       "\n",
       "    .dataframe tbody tr th {\n",
       "        vertical-align: top;\n",
       "    }\n",
       "\n",
       "    .dataframe thead th {\n",
       "        text-align: right;\n",
       "    }\n",
       "</style>\n",
       "<table border=\"1\" class=\"dataframe\">\n",
       "  <thead>\n",
       "    <tr style=\"text-align: right;\">\n",
       "      <th></th>\n",
       "      <th>location_Banashankari</th>\n",
       "      <th>location_Bannerghatta Road</th>\n",
       "      <th>location_Bellandur</th>\n",
       "      <th>location_Brigade Road</th>\n",
       "      <th>location_Electronic City</th>\n",
       "      <th>location_HSR</th>\n",
       "      <th>location_Indiranagar</th>\n",
       "      <th>location_JP Nagar</th>\n",
       "      <th>location_Jayanagar</th>\n",
       "      <th>location_Koramangala 1st Block</th>\n",
       "      <th>...</th>\n",
       "      <th>online_order</th>\n",
       "      <th>book_table</th>\n",
       "      <th>rate</th>\n",
       "      <th>votes</th>\n",
       "      <th>location</th>\n",
       "      <th>rest_type</th>\n",
       "      <th>cuisines</th>\n",
       "      <th>cost</th>\n",
       "      <th>reviews_list</th>\n",
       "      <th>type</th>\n",
       "    </tr>\n",
       "  </thead>\n",
       "  <tbody>\n",
       "    <tr>\n",
       "      <th>0</th>\n",
       "      <td>1</td>\n",
       "      <td>0</td>\n",
       "      <td>0</td>\n",
       "      <td>0</td>\n",
       "      <td>0</td>\n",
       "      <td>0</td>\n",
       "      <td>0</td>\n",
       "      <td>0</td>\n",
       "      <td>0</td>\n",
       "      <td>0</td>\n",
       "      <td>...</td>\n",
       "      <td>1</td>\n",
       "      <td>1</td>\n",
       "      <td>4.1</td>\n",
       "      <td>775</td>\n",
       "      <td>Banashankari</td>\n",
       "      <td>Casual Dining</td>\n",
       "      <td>other_cuisines</td>\n",
       "      <td>800.0</td>\n",
       "      <td>4.0</td>\n",
       "      <td>Buffet</td>\n",
       "    </tr>\n",
       "    <tr>\n",
       "      <th>1</th>\n",
       "      <td>1</td>\n",
       "      <td>0</td>\n",
       "      <td>0</td>\n",
       "      <td>0</td>\n",
       "      <td>0</td>\n",
       "      <td>0</td>\n",
       "      <td>0</td>\n",
       "      <td>0</td>\n",
       "      <td>0</td>\n",
       "      <td>0</td>\n",
       "      <td>...</td>\n",
       "      <td>1</td>\n",
       "      <td>0</td>\n",
       "      <td>4.1</td>\n",
       "      <td>787</td>\n",
       "      <td>Banashankari</td>\n",
       "      <td>Casual Dining</td>\n",
       "      <td>other_cuisines</td>\n",
       "      <td>800.0</td>\n",
       "      <td>4.0</td>\n",
       "      <td>Buffet</td>\n",
       "    </tr>\n",
       "    <tr>\n",
       "      <th>2</th>\n",
       "      <td>1</td>\n",
       "      <td>0</td>\n",
       "      <td>0</td>\n",
       "      <td>0</td>\n",
       "      <td>0</td>\n",
       "      <td>0</td>\n",
       "      <td>0</td>\n",
       "      <td>0</td>\n",
       "      <td>0</td>\n",
       "      <td>0</td>\n",
       "      <td>...</td>\n",
       "      <td>1</td>\n",
       "      <td>0</td>\n",
       "      <td>3.8</td>\n",
       "      <td>918</td>\n",
       "      <td>Banashankari</td>\n",
       "      <td>other_rest_type</td>\n",
       "      <td>other_cuisines</td>\n",
       "      <td>800.0</td>\n",
       "      <td>3.0</td>\n",
       "      <td>Buffet</td>\n",
       "    </tr>\n",
       "    <tr>\n",
       "      <th>3</th>\n",
       "      <td>1</td>\n",
       "      <td>0</td>\n",
       "      <td>0</td>\n",
       "      <td>0</td>\n",
       "      <td>0</td>\n",
       "      <td>0</td>\n",
       "      <td>0</td>\n",
       "      <td>0</td>\n",
       "      <td>0</td>\n",
       "      <td>0</td>\n",
       "      <td>...</td>\n",
       "      <td>0</td>\n",
       "      <td>0</td>\n",
       "      <td>3.7</td>\n",
       "      <td>88</td>\n",
       "      <td>Banashankari</td>\n",
       "      <td>Quick Bites</td>\n",
       "      <td>other_cuisines</td>\n",
       "      <td>300.0</td>\n",
       "      <td>4.0</td>\n",
       "      <td>Buffet</td>\n",
       "    </tr>\n",
       "    <tr>\n",
       "      <th>4</th>\n",
       "      <td>0</td>\n",
       "      <td>0</td>\n",
       "      <td>0</td>\n",
       "      <td>0</td>\n",
       "      <td>0</td>\n",
       "      <td>0</td>\n",
       "      <td>0</td>\n",
       "      <td>0</td>\n",
       "      <td>0</td>\n",
       "      <td>0</td>\n",
       "      <td>...</td>\n",
       "      <td>0</td>\n",
       "      <td>0</td>\n",
       "      <td>3.8</td>\n",
       "      <td>166</td>\n",
       "      <td>other_location</td>\n",
       "      <td>Casual Dining</td>\n",
       "      <td>other_cuisines</td>\n",
       "      <td>600.0</td>\n",
       "      <td>4.0</td>\n",
       "      <td>Buffet</td>\n",
       "    </tr>\n",
       "  </tbody>\n",
       "</table>\n",
       "<p>5 rows × 61 columns</p>\n",
       "</div>"
      ],
      "text/plain": [
       "   location_Banashankari  location_Bannerghatta Road  location_Bellandur  \\\n",
       "0                      1                           0                   0   \n",
       "1                      1                           0                   0   \n",
       "2                      1                           0                   0   \n",
       "3                      1                           0                   0   \n",
       "4                      0                           0                   0   \n",
       "\n",
       "   location_Brigade Road  location_Electronic City  location_HSR  \\\n",
       "0                      0                         0             0   \n",
       "1                      0                         0             0   \n",
       "2                      0                         0             0   \n",
       "3                      0                         0             0   \n",
       "4                      0                         0             0   \n",
       "\n",
       "   location_Indiranagar  location_JP Nagar  location_Jayanagar  \\\n",
       "0                     0                  0                   0   \n",
       "1                     0                  0                   0   \n",
       "2                     0                  0                   0   \n",
       "3                     0                  0                   0   \n",
       "4                     0                  0                   0   \n",
       "\n",
       "   location_Koramangala 1st Block  ...  online_order  book_table  rate  votes  \\\n",
       "0                               0  ...             1           1   4.1    775   \n",
       "1                               0  ...             1           0   4.1    787   \n",
       "2                               0  ...             1           0   3.8    918   \n",
       "3                               0  ...             0           0   3.7     88   \n",
       "4                               0  ...             0           0   3.8    166   \n",
       "\n",
       "         location        rest_type        cuisines   cost  reviews_list  \\\n",
       "0    Banashankari    Casual Dining  other_cuisines  800.0           4.0   \n",
       "1    Banashankari    Casual Dining  other_cuisines  800.0           4.0   \n",
       "2    Banashankari  other_rest_type  other_cuisines  800.0           3.0   \n",
       "3    Banashankari      Quick Bites  other_cuisines  300.0           4.0   \n",
       "4  other_location    Casual Dining  other_cuisines  600.0           4.0   \n",
       "\n",
       "     type  \n",
       "0  Buffet  \n",
       "1  Buffet  \n",
       "2  Buffet  \n",
       "3  Buffet  \n",
       "4  Buffet  \n",
       "\n",
       "[5 rows x 61 columns]"
      ]
     },
     "execution_count": 113,
     "metadata": {},
     "output_type": "execute_result"
    }
   ],
   "source": [
    "df.head()"
   ]
  },
  {
   "cell_type": "code",
   "execution_count": 114,
   "metadata": {},
   "outputs": [
    {
     "data": {
      "text/plain": [
       "(40116, 61)"
      ]
     },
     "execution_count": 114,
     "metadata": {},
     "output_type": "execute_result"
    }
   ],
   "source": [
    "df.shape"
   ]
  },
  {
   "cell_type": "code",
   "execution_count": 115,
   "metadata": {},
   "outputs": [],
   "source": [
    "df.drop(['location','rest_type','cuisines','type'],inplace=True,axis=1)"
   ]
  },
  {
   "cell_type": "code",
   "execution_count": 116,
   "metadata": {},
   "outputs": [
    {
     "data": {
      "text/plain": [
       "(40116, 57)"
      ]
     },
     "execution_count": 116,
     "metadata": {},
     "output_type": "execute_result"
    }
   ],
   "source": [
    "df.shape"
   ]
  },
  {
   "cell_type": "code",
   "execution_count": 117,
   "metadata": {
    "scrolled": true
   },
   "outputs": [
    {
     "data": {
      "text/html": [
       "<div>\n",
       "<style scoped>\n",
       "    .dataframe tbody tr th:only-of-type {\n",
       "        vertical-align: middle;\n",
       "    }\n",
       "\n",
       "    .dataframe tbody tr th {\n",
       "        vertical-align: top;\n",
       "    }\n",
       "\n",
       "    .dataframe thead th {\n",
       "        text-align: right;\n",
       "    }\n",
       "</style>\n",
       "<table border=\"1\" class=\"dataframe\">\n",
       "  <thead>\n",
       "    <tr style=\"text-align: right;\">\n",
       "      <th></th>\n",
       "      <th>location_Banashankari</th>\n",
       "      <th>location_Bannerghatta Road</th>\n",
       "      <th>location_Bellandur</th>\n",
       "      <th>location_Brigade Road</th>\n",
       "      <th>location_Electronic City</th>\n",
       "      <th>location_HSR</th>\n",
       "      <th>location_Indiranagar</th>\n",
       "      <th>location_JP Nagar</th>\n",
       "      <th>location_Jayanagar</th>\n",
       "      <th>location_Koramangala 1st Block</th>\n",
       "      <th>...</th>\n",
       "      <th>type_Desserts</th>\n",
       "      <th>type_Dine-out</th>\n",
       "      <th>type_Drinks &amp; nightlife</th>\n",
       "      <th>type_Pubs and bars</th>\n",
       "      <th>online_order</th>\n",
       "      <th>book_table</th>\n",
       "      <th>rate</th>\n",
       "      <th>votes</th>\n",
       "      <th>cost</th>\n",
       "      <th>reviews_list</th>\n",
       "    </tr>\n",
       "  </thead>\n",
       "  <tbody>\n",
       "    <tr>\n",
       "      <th>0</th>\n",
       "      <td>1</td>\n",
       "      <td>0</td>\n",
       "      <td>0</td>\n",
       "      <td>0</td>\n",
       "      <td>0</td>\n",
       "      <td>0</td>\n",
       "      <td>0</td>\n",
       "      <td>0</td>\n",
       "      <td>0</td>\n",
       "      <td>0</td>\n",
       "      <td>...</td>\n",
       "      <td>0</td>\n",
       "      <td>0</td>\n",
       "      <td>0</td>\n",
       "      <td>0</td>\n",
       "      <td>1</td>\n",
       "      <td>1</td>\n",
       "      <td>4.1</td>\n",
       "      <td>775</td>\n",
       "      <td>800.0</td>\n",
       "      <td>4.0</td>\n",
       "    </tr>\n",
       "    <tr>\n",
       "      <th>1</th>\n",
       "      <td>1</td>\n",
       "      <td>0</td>\n",
       "      <td>0</td>\n",
       "      <td>0</td>\n",
       "      <td>0</td>\n",
       "      <td>0</td>\n",
       "      <td>0</td>\n",
       "      <td>0</td>\n",
       "      <td>0</td>\n",
       "      <td>0</td>\n",
       "      <td>...</td>\n",
       "      <td>0</td>\n",
       "      <td>0</td>\n",
       "      <td>0</td>\n",
       "      <td>0</td>\n",
       "      <td>1</td>\n",
       "      <td>0</td>\n",
       "      <td>4.1</td>\n",
       "      <td>787</td>\n",
       "      <td>800.0</td>\n",
       "      <td>4.0</td>\n",
       "    </tr>\n",
       "    <tr>\n",
       "      <th>2</th>\n",
       "      <td>1</td>\n",
       "      <td>0</td>\n",
       "      <td>0</td>\n",
       "      <td>0</td>\n",
       "      <td>0</td>\n",
       "      <td>0</td>\n",
       "      <td>0</td>\n",
       "      <td>0</td>\n",
       "      <td>0</td>\n",
       "      <td>0</td>\n",
       "      <td>...</td>\n",
       "      <td>0</td>\n",
       "      <td>0</td>\n",
       "      <td>0</td>\n",
       "      <td>0</td>\n",
       "      <td>1</td>\n",
       "      <td>0</td>\n",
       "      <td>3.8</td>\n",
       "      <td>918</td>\n",
       "      <td>800.0</td>\n",
       "      <td>3.0</td>\n",
       "    </tr>\n",
       "    <tr>\n",
       "      <th>3</th>\n",
       "      <td>1</td>\n",
       "      <td>0</td>\n",
       "      <td>0</td>\n",
       "      <td>0</td>\n",
       "      <td>0</td>\n",
       "      <td>0</td>\n",
       "      <td>0</td>\n",
       "      <td>0</td>\n",
       "      <td>0</td>\n",
       "      <td>0</td>\n",
       "      <td>...</td>\n",
       "      <td>0</td>\n",
       "      <td>0</td>\n",
       "      <td>0</td>\n",
       "      <td>0</td>\n",
       "      <td>0</td>\n",
       "      <td>0</td>\n",
       "      <td>3.7</td>\n",
       "      <td>88</td>\n",
       "      <td>300.0</td>\n",
       "      <td>4.0</td>\n",
       "    </tr>\n",
       "    <tr>\n",
       "      <th>4</th>\n",
       "      <td>0</td>\n",
       "      <td>0</td>\n",
       "      <td>0</td>\n",
       "      <td>0</td>\n",
       "      <td>0</td>\n",
       "      <td>0</td>\n",
       "      <td>0</td>\n",
       "      <td>0</td>\n",
       "      <td>0</td>\n",
       "      <td>0</td>\n",
       "      <td>...</td>\n",
       "      <td>0</td>\n",
       "      <td>0</td>\n",
       "      <td>0</td>\n",
       "      <td>0</td>\n",
       "      <td>0</td>\n",
       "      <td>0</td>\n",
       "      <td>3.8</td>\n",
       "      <td>166</td>\n",
       "      <td>600.0</td>\n",
       "      <td>4.0</td>\n",
       "    </tr>\n",
       "  </tbody>\n",
       "</table>\n",
       "<p>5 rows × 57 columns</p>\n",
       "</div>"
      ],
      "text/plain": [
       "   location_Banashankari  location_Bannerghatta Road  location_Bellandur  \\\n",
       "0                      1                           0                   0   \n",
       "1                      1                           0                   0   \n",
       "2                      1                           0                   0   \n",
       "3                      1                           0                   0   \n",
       "4                      0                           0                   0   \n",
       "\n",
       "   location_Brigade Road  location_Electronic City  location_HSR  \\\n",
       "0                      0                         0             0   \n",
       "1                      0                         0             0   \n",
       "2                      0                         0             0   \n",
       "3                      0                         0             0   \n",
       "4                      0                         0             0   \n",
       "\n",
       "   location_Indiranagar  location_JP Nagar  location_Jayanagar  \\\n",
       "0                     0                  0                   0   \n",
       "1                     0                  0                   0   \n",
       "2                     0                  0                   0   \n",
       "3                     0                  0                   0   \n",
       "4                     0                  0                   0   \n",
       "\n",
       "   location_Koramangala 1st Block  ...  type_Desserts  type_Dine-out  \\\n",
       "0                               0  ...              0              0   \n",
       "1                               0  ...              0              0   \n",
       "2                               0  ...              0              0   \n",
       "3                               0  ...              0              0   \n",
       "4                               0  ...              0              0   \n",
       "\n",
       "   type_Drinks & nightlife  type_Pubs and bars  online_order  book_table  \\\n",
       "0                        0                   0             1           1   \n",
       "1                        0                   0             1           0   \n",
       "2                        0                   0             1           0   \n",
       "3                        0                   0             0           0   \n",
       "4                        0                   0             0           0   \n",
       "\n",
       "   rate  votes   cost  reviews_list  \n",
       "0   4.1    775  800.0           4.0  \n",
       "1   4.1    787  800.0           4.0  \n",
       "2   3.8    918  800.0           3.0  \n",
       "3   3.7     88  300.0           4.0  \n",
       "4   3.8    166  600.0           4.0  \n",
       "\n",
       "[5 rows x 57 columns]"
      ]
     },
     "execution_count": 117,
     "metadata": {},
     "output_type": "execute_result"
    }
   ],
   "source": [
    "df.head()"
   ]
  },
  {
   "cell_type": "code",
   "execution_count": 118,
   "metadata": {},
   "outputs": [
    {
     "data": {
      "text/plain": [
       "location_Banashankari                             uint8\n",
       "location_Bannerghatta Road                        uint8\n",
       "location_Bellandur                                uint8\n",
       "location_Brigade Road                             uint8\n",
       "location_Electronic City                          uint8\n",
       "location_HSR                                      uint8\n",
       "location_Indiranagar                              uint8\n",
       "location_JP Nagar                                 uint8\n",
       "location_Jayanagar                                uint8\n",
       "location_Koramangala 1st Block                    uint8\n",
       "location_Koramangala 4th Block                    uint8\n",
       "location_Koramangala 5th Block                    uint8\n",
       "location_Koramangala 6th Block                    uint8\n",
       "location_Koramangala 7th Block                    uint8\n",
       "location_MG Road                                  uint8\n",
       "location_Marathahalli                             uint8\n",
       "location_Sarjapur Road                            uint8\n",
       "location_Ulsoor                                   uint8\n",
       "location_Whitefield                               uint8\n",
       "location_other_location                           uint8\n",
       "rest_type_Bar                                     uint8\n",
       "rest_type_Beverage Shop                           uint8\n",
       "rest_type_Cafe                                    uint8\n",
       "rest_type_Casual Dining                           uint8\n",
       "rest_type_Casual Dining, Bar                      uint8\n",
       "rest_type_Delivery                                uint8\n",
       "rest_type_Dessert Parlor                          uint8\n",
       "rest_type_Quick Bites                             uint8\n",
       "rest_type_Takeaway, Delivery                      uint8\n",
       "rest_type_other_rest_type                         uint8\n",
       "cuisines_Bakery, Desserts                         uint8\n",
       "cuisines_Biryani                                  uint8\n",
       "cuisines_Cafe                                     uint8\n",
       "cuisines_Chinese                                  uint8\n",
       "cuisines_Chinese, North Indian                    uint8\n",
       "cuisines_Desserts                                 uint8\n",
       "cuisines_Fast Food                                uint8\n",
       "cuisines_Ice Cream, Desserts                      uint8\n",
       "cuisines_Mithai, Street Food                      uint8\n",
       "cuisines_North Indian                             uint8\n",
       "cuisines_North Indian, Chinese                    uint8\n",
       "cuisines_North Indian, Chinese, Biryani           uint8\n",
       "cuisines_South Indian                             uint8\n",
       "cuisines_South Indian, North Indian, Chinese      uint8\n",
       "cuisines_other_cuisines                           uint8\n",
       "type_Cafes                                        uint8\n",
       "type_Delivery                                     uint8\n",
       "type_Desserts                                     uint8\n",
       "type_Dine-out                                     uint8\n",
       "type_Drinks & nightlife                           uint8\n",
       "type_Pubs and bars                                uint8\n",
       "online_order                                      int64\n",
       "book_table                                        int64\n",
       "rate                                            float64\n",
       "votes                                             int64\n",
       "cost                                            float64\n",
       "reviews_list                                    float64\n",
       "dtype: object"
      ]
     },
     "execution_count": 118,
     "metadata": {},
     "output_type": "execute_result"
    }
   ],
   "source": [
    "df.dtypes"
   ]
  },
  {
   "cell_type": "code",
   "execution_count": 119,
   "metadata": {},
   "outputs": [
    {
     "data": {
      "text/html": [
       "<div>\n",
       "<style scoped>\n",
       "    .dataframe tbody tr th:only-of-type {\n",
       "        vertical-align: middle;\n",
       "    }\n",
       "\n",
       "    .dataframe tbody tr th {\n",
       "        vertical-align: top;\n",
       "    }\n",
       "\n",
       "    .dataframe thead th {\n",
       "        text-align: right;\n",
       "    }\n",
       "</style>\n",
       "<table border=\"1\" class=\"dataframe\">\n",
       "  <thead>\n",
       "    <tr style=\"text-align: right;\">\n",
       "      <th></th>\n",
       "      <th>location_Banashankari</th>\n",
       "      <th>location_Bannerghatta Road</th>\n",
       "      <th>location_Bellandur</th>\n",
       "      <th>location_Brigade Road</th>\n",
       "      <th>location_Electronic City</th>\n",
       "      <th>location_HSR</th>\n",
       "      <th>location_Indiranagar</th>\n",
       "      <th>location_JP Nagar</th>\n",
       "      <th>location_Jayanagar</th>\n",
       "      <th>location_Koramangala 1st Block</th>\n",
       "      <th>...</th>\n",
       "      <th>type_Desserts</th>\n",
       "      <th>type_Dine-out</th>\n",
       "      <th>type_Drinks &amp; nightlife</th>\n",
       "      <th>type_Pubs and bars</th>\n",
       "      <th>online_order</th>\n",
       "      <th>book_table</th>\n",
       "      <th>rate</th>\n",
       "      <th>votes</th>\n",
       "      <th>cost</th>\n",
       "      <th>reviews_list</th>\n",
       "    </tr>\n",
       "  </thead>\n",
       "  <tbody>\n",
       "    <tr>\n",
       "      <th>31</th>\n",
       "      <td>1</td>\n",
       "      <td>0</td>\n",
       "      <td>0</td>\n",
       "      <td>0</td>\n",
       "      <td>0</td>\n",
       "      <td>0</td>\n",
       "      <td>0</td>\n",
       "      <td>0</td>\n",
       "      <td>0</td>\n",
       "      <td>0</td>\n",
       "      <td>...</td>\n",
       "      <td>0</td>\n",
       "      <td>0</td>\n",
       "      <td>0</td>\n",
       "      <td>0</td>\n",
       "      <td>1</td>\n",
       "      <td>0</td>\n",
       "      <td>2.8</td>\n",
       "      <td>506</td>\n",
       "      <td>500.0</td>\n",
       "      <td>1.0</td>\n",
       "    </tr>\n",
       "    <tr>\n",
       "      <th>36</th>\n",
       "      <td>1</td>\n",
       "      <td>0</td>\n",
       "      <td>0</td>\n",
       "      <td>0</td>\n",
       "      <td>0</td>\n",
       "      <td>0</td>\n",
       "      <td>0</td>\n",
       "      <td>0</td>\n",
       "      <td>0</td>\n",
       "      <td>0</td>\n",
       "      <td>...</td>\n",
       "      <td>0</td>\n",
       "      <td>0</td>\n",
       "      <td>0</td>\n",
       "      <td>0</td>\n",
       "      <td>1</td>\n",
       "      <td>0</td>\n",
       "      <td>2.8</td>\n",
       "      <td>91</td>\n",
       "      <td>400.0</td>\n",
       "      <td>1.0</td>\n",
       "    </tr>\n",
       "    <tr>\n",
       "      <th>72</th>\n",
       "      <td>1</td>\n",
       "      <td>0</td>\n",
       "      <td>0</td>\n",
       "      <td>0</td>\n",
       "      <td>0</td>\n",
       "      <td>0</td>\n",
       "      <td>0</td>\n",
       "      <td>0</td>\n",
       "      <td>0</td>\n",
       "      <td>0</td>\n",
       "      <td>...</td>\n",
       "      <td>0</td>\n",
       "      <td>0</td>\n",
       "      <td>0</td>\n",
       "      <td>0</td>\n",
       "      <td>0</td>\n",
       "      <td>0</td>\n",
       "      <td>2.9</td>\n",
       "      <td>84</td>\n",
       "      <td>700.0</td>\n",
       "      <td>1.0</td>\n",
       "    </tr>\n",
       "    <tr>\n",
       "      <th>88</th>\n",
       "      <td>1</td>\n",
       "      <td>0</td>\n",
       "      <td>0</td>\n",
       "      <td>0</td>\n",
       "      <td>0</td>\n",
       "      <td>0</td>\n",
       "      <td>0</td>\n",
       "      <td>0</td>\n",
       "      <td>0</td>\n",
       "      <td>0</td>\n",
       "      <td>...</td>\n",
       "      <td>0</td>\n",
       "      <td>0</td>\n",
       "      <td>0</td>\n",
       "      <td>0</td>\n",
       "      <td>0</td>\n",
       "      <td>0</td>\n",
       "      <td>2.6</td>\n",
       "      <td>283</td>\n",
       "      <td>600.0</td>\n",
       "      <td>3.0</td>\n",
       "    </tr>\n",
       "    <tr>\n",
       "      <th>110</th>\n",
       "      <td>1</td>\n",
       "      <td>0</td>\n",
       "      <td>0</td>\n",
       "      <td>0</td>\n",
       "      <td>0</td>\n",
       "      <td>0</td>\n",
       "      <td>0</td>\n",
       "      <td>0</td>\n",
       "      <td>0</td>\n",
       "      <td>0</td>\n",
       "      <td>...</td>\n",
       "      <td>0</td>\n",
       "      <td>0</td>\n",
       "      <td>0</td>\n",
       "      <td>0</td>\n",
       "      <td>0</td>\n",
       "      <td>0</td>\n",
       "      <td>2.9</td>\n",
       "      <td>25</td>\n",
       "      <td>200.0</td>\n",
       "      <td>1.0</td>\n",
       "    </tr>\n",
       "  </tbody>\n",
       "</table>\n",
       "<p>5 rows × 57 columns</p>\n",
       "</div>"
      ],
      "text/plain": [
       "     location_Banashankari  location_Bannerghatta Road  location_Bellandur  \\\n",
       "31                       1                           0                   0   \n",
       "36                       1                           0                   0   \n",
       "72                       1                           0                   0   \n",
       "88                       1                           0                   0   \n",
       "110                      1                           0                   0   \n",
       "\n",
       "     location_Brigade Road  location_Electronic City  location_HSR  \\\n",
       "31                       0                         0             0   \n",
       "36                       0                         0             0   \n",
       "72                       0                         0             0   \n",
       "88                       0                         0             0   \n",
       "110                      0                         0             0   \n",
       "\n",
       "     location_Indiranagar  location_JP Nagar  location_Jayanagar  \\\n",
       "31                      0                  0                   0   \n",
       "36                      0                  0                   0   \n",
       "72                      0                  0                   0   \n",
       "88                      0                  0                   0   \n",
       "110                     0                  0                   0   \n",
       "\n",
       "     location_Koramangala 1st Block  ...  type_Desserts  type_Dine-out  \\\n",
       "31                                0  ...              0              0   \n",
       "36                                0  ...              0              0   \n",
       "72                                0  ...              0              0   \n",
       "88                                0  ...              0              0   \n",
       "110                               0  ...              0              0   \n",
       "\n",
       "     type_Drinks & nightlife  type_Pubs and bars  online_order  book_table  \\\n",
       "31                         0                   0             1           0   \n",
       "36                         0                   0             1           0   \n",
       "72                         0                   0             0           0   \n",
       "88                         0                   0             0           0   \n",
       "110                        0                   0             0           0   \n",
       "\n",
       "     rate  votes   cost  reviews_list  \n",
       "31    2.8    506  500.0           1.0  \n",
       "36    2.8     91  400.0           1.0  \n",
       "72    2.9     84  700.0           1.0  \n",
       "88    2.6    283  600.0           3.0  \n",
       "110   2.9     25  200.0           1.0  \n",
       "\n",
       "[5 rows x 57 columns]"
      ]
     },
     "execution_count": 119,
     "metadata": {},
     "output_type": "execute_result"
    }
   ],
   "source": [
    "df[df['rate']<3].head()"
   ]
  },
  {
   "cell_type": "markdown",
   "metadata": {},
   "source": [
    "# Building Our Model"
   ]
  },
  {
   "cell_type": "code",
   "execution_count": 120,
   "metadata": {},
   "outputs": [],
   "source": [
    "X = df.drop(['rate'],axis =1)\n",
    "y = df['rate']"
   ]
  },
  {
   "cell_type": "code",
   "execution_count": 121,
   "metadata": {},
   "outputs": [],
   "source": [
    "from sklearn.model_selection import train_test_split\n",
    "X_train, X_test, y_train, y_test = train_test_split(X, y, test_size = 0.3, random_state = 0)"
   ]
  },
  {
   "cell_type": "markdown",
   "metadata": {},
   "source": [
    "## MultiLinear Regression"
   ]
  },
  {
   "cell_type": "code",
   "execution_count": 122,
   "metadata": {},
   "outputs": [
    {
     "data": {
      "text/plain": [
       "LinearRegression()"
      ]
     },
     "execution_count": 122,
     "metadata": {},
     "output_type": "execute_result"
    }
   ],
   "source": [
    "lr_model=LinearRegression()\n",
    "lr_model.fit(X_train,y_train)"
   ]
  },
  {
   "cell_type": "code",
   "execution_count": 123,
   "metadata": {},
   "outputs": [
    {
     "data": {
      "text/plain": [
       "0.42186880985333153"
      ]
     },
     "execution_count": 123,
     "metadata": {},
     "output_type": "execute_result"
    }
   ],
   "source": [
    "from sklearn.metrics import r2_score\n",
    "y_pred=lr_model.predict(X_test)\n",
    "r2_score(y_test,y_pred)"
   ]
  },
  {
   "cell_type": "markdown",
   "metadata": {},
   "source": [
    "## Support Vector Regression"
   ]
  },
  {
   "cell_type": "code",
   "execution_count": null,
   "metadata": {},
   "outputs": [],
   "source": []
  },
  {
   "cell_type": "markdown",
   "metadata": {},
   "source": [
    "## DecisionTree Regressor"
   ]
  },
  {
   "cell_type": "code",
   "execution_count": 124,
   "metadata": {},
   "outputs": [
    {
     "data": {
      "text/plain": [
       "DecisionTreeRegressor(random_state=0)"
      ]
     },
     "execution_count": 124,
     "metadata": {},
     "output_type": "execute_result"
    }
   ],
   "source": [
    "from sklearn.tree import DecisionTreeRegressor\n",
    "DT_model = DecisionTreeRegressor(random_state = 0)\n",
    "DT_model.fit(X_train, y_train)"
   ]
  },
  {
   "cell_type": "code",
   "execution_count": 125,
   "metadata": {},
   "outputs": [
    {
     "data": {
      "text/plain": [
       "0.855677010725284"
      ]
     },
     "execution_count": 125,
     "metadata": {},
     "output_type": "execute_result"
    }
   ],
   "source": [
    "y_pred=DT_model.predict(X_test)\n",
    "r2_score(y_test,y_pred)"
   ]
  },
  {
   "cell_type": "markdown",
   "metadata": {},
   "source": [
    "## RandomForest Regressor"
   ]
  },
  {
   "cell_type": "code",
   "execution_count": 128,
   "metadata": {},
   "outputs": [
    {
     "data": {
      "text/plain": [
       "RandomForestRegressor(min_samples_leaf=0.0001, random_state=0)"
      ]
     },
     "execution_count": 128,
     "metadata": {},
     "output_type": "execute_result"
    }
   ],
   "source": [
    "from sklearn.ensemble import RandomForestRegressor\n",
    "RF_Model=RandomForestRegressor(n_estimators=100,random_state=0,min_samples_leaf=.0001)\n",
    "RF_Model.fit(X_train,y_train)\n"
   ]
  },
  {
   "cell_type": "code",
   "execution_count": 129,
   "metadata": {},
   "outputs": [
    {
     "data": {
      "text/plain": [
       "0.8504585089526713"
      ]
     },
     "execution_count": 129,
     "metadata": {},
     "output_type": "execute_result"
    }
   ],
   "source": [
    "y_pred=RF_Model.predict(X_test)\n",
    "r2_score(y_test,y_pred)"
   ]
  },
  {
   "cell_type": "markdown",
   "metadata": {},
   "source": [
    "## ExtraTree Regressor"
   ]
  },
  {
   "cell_type": "code",
   "execution_count": 130,
   "metadata": {},
   "outputs": [
    {
     "data": {
      "text/plain": [
       "ExtraTreesRegressor()"
      ]
     },
     "execution_count": 130,
     "metadata": {},
     "output_type": "execute_result"
    }
   ],
   "source": [
    "#Preparing Extra Tree Regression\n",
    "from sklearn.ensemble import  ExtraTreesRegressor\n",
    "ET_Model=ExtraTreesRegressor(n_estimators = 100)\n",
    "ET_Model.fit(X_train,y_train)\n"
   ]
  },
  {
   "cell_type": "code",
   "execution_count": 131,
   "metadata": {},
   "outputs": [
    {
     "data": {
      "text/plain": [
       "0.9198702182426653"
      ]
     },
     "execution_count": 131,
     "metadata": {},
     "output_type": "execute_result"
    }
   ],
   "source": [
    "y_pred=ET_Model.predict(X_test)\n",
    "r2_score(y_test,y_pred)"
   ]
  },
  {
   "cell_type": "markdown",
   "metadata": {},
   "source": [
    "## GradientBoostingRegressor"
   ]
  },
  {
   "cell_type": "code",
   "execution_count": 132,
   "metadata": {},
   "outputs": [
    {
     "data": {
      "text/plain": [
       "GradientBoostingRegressor(random_state=0)"
      ]
     },
     "execution_count": 132,
     "metadata": {},
     "output_type": "execute_result"
    }
   ],
   "source": [
    "# from sklearn.datasets import make_regression\n",
    "from sklearn.ensemble import GradientBoostingRegressor\n",
    "# from sklearn.model_selection import train_test_split\n",
    "# X, y = make_regression(random_state=0)\n",
    "# X_train, X_test, y_train, y_test = train_test_split(\n",
    "#     X, y, random_state=0)\n",
    "GB_model = GradientBoostingRegressor(random_state=0)\n",
    "GB_model.fit(X_train, y_train)\n"
   ]
  },
  {
   "cell_type": "code",
   "execution_count": 133,
   "metadata": {},
   "outputs": [
    {
     "data": {
      "text/plain": [
       "0.578493678903334"
      ]
     },
     "execution_count": 133,
     "metadata": {},
     "output_type": "execute_result"
    }
   ],
   "source": [
    "y_pred=GB_model.predict(X_test)\n",
    "r2_score(y_test,y_pred)"
   ]
  },
  {
   "cell_type": "markdown",
   "metadata": {},
   "source": [
    "## XGBoost Regressor"
   ]
  },
  {
   "cell_type": "code",
   "execution_count": 134,
   "metadata": {},
   "outputs": [
    {
     "data": {
      "text/plain": [
       "XGBRegressor(base_score=0.5, booster='gbtree', colsample_bylevel=1,\n",
       "             colsample_bynode=1, colsample_bytree=1, gamma=0, gpu_id=-1,\n",
       "             importance_type='gain', interaction_constraints='',\n",
       "             learning_rate=0.300000012, max_delta_step=0, max_depth=6,\n",
       "             min_child_weight=1, missing=nan, monotone_constraints='()',\n",
       "             n_estimators=100, n_jobs=12, num_parallel_tree=1, random_state=0,\n",
       "             reg_alpha=0, reg_lambda=1, scale_pos_weight=1, subsample=1,\n",
       "             tree_method='exact', validate_parameters=1, verbosity=None)"
      ]
     },
     "execution_count": 134,
     "metadata": {},
     "output_type": "execute_result"
    }
   ],
   "source": [
    "from xgboost import XGBRegressor\n",
    "XGB_model = XGBRegressor()\n",
    "XGB_model.fit(X_train, y_train)"
   ]
  },
  {
   "cell_type": "code",
   "execution_count": 135,
   "metadata": {},
   "outputs": [
    {
     "data": {
      "text/plain": [
       "0.7392689302881157"
      ]
     },
     "execution_count": 135,
     "metadata": {},
     "output_type": "execute_result"
    }
   ],
   "source": [
    "y_pred=XGB_model.predict(X_test)\n",
    "r2_score(y_test,y_pred)"
   ]
  },
  {
   "cell_type": "markdown",
   "metadata": {},
   "source": [
    "## Artificial Neural Network"
   ]
  },
  {
   "cell_type": "code",
   "execution_count": 137,
   "metadata": {},
   "outputs": [
    {
     "name": "stdout",
     "output_type": "stream",
     "text": [
      "Collecting tensorflow\n",
      "  Downloading tensorflow-2.4.1-cp38-cp38-win_amd64.whl (370.7 MB)\n",
      "Requirement already satisfied: six~=1.15.0 in d:\\download\\anaconda3\\lib\\site-packages (from tensorflow) (1.15.0)\n",
      "Requirement already satisfied: typing-extensions~=3.7.4 in d:\\download\\anaconda3\\lib\\site-packages (from tensorflow) (3.7.4.3)\n",
      "Collecting absl-py~=0.10\n",
      "  Downloading absl_py-0.12.0-py3-none-any.whl (129 kB)\n",
      "Collecting astunparse~=1.6.3\n",
      "  Using cached astunparse-1.6.3-py2.py3-none-any.whl (12 kB)\n",
      "Collecting wrapt~=1.12.1\n",
      "  Downloading wrapt-1.12.1.tar.gz (27 kB)\n",
      "Requirement already satisfied: protobuf>=3.9.2 in d:\\download\\anaconda3\\lib\\site-packages (from tensorflow) (3.15.7)\n",
      "Collecting keras-preprocessing~=1.1.2\n",
      "  Using cached Keras_Preprocessing-1.1.2-py2.py3-none-any.whl (42 kB)\n",
      "Requirement already satisfied: numpy~=1.19.2 in d:\\download\\anaconda3\\lib\\site-packages (from tensorflow) (1.19.2)\n",
      "Requirement already satisfied: wheel~=0.35 in d:\\download\\anaconda3\\lib\\site-packages (from tensorflow) (0.35.1)\n",
      "Collecting tensorboard~=2.4\n",
      "  Downloading tensorboard-2.4.1-py3-none-any.whl (10.6 MB)\n",
      "Collecting opt-einsum~=3.3.0\n",
      "  Using cached opt_einsum-3.3.0-py3-none-any.whl (65 kB)\n",
      "Collecting google-pasta~=0.2\n",
      "  Using cached google_pasta-0.2.0-py3-none-any.whl (57 kB)\n",
      "Collecting tensorflow-estimator<2.5.0,>=2.4.0\n",
      "  Downloading tensorflow_estimator-2.4.0-py2.py3-none-any.whl (462 kB)\n",
      "Collecting termcolor~=1.1.0\n",
      "  Using cached termcolor-1.1.0.tar.gz (3.9 kB)\n",
      "Collecting grpcio~=1.32.0\n",
      "  Downloading grpcio-1.32.0-cp38-cp38-win_amd64.whl (2.6 MB)\n",
      "Collecting flatbuffers~=1.12.0\n",
      "  Downloading flatbuffers-1.12-py2.py3-none-any.whl (15 kB)\n",
      "Requirement already satisfied: h5py~=2.10.0 in d:\\download\\anaconda3\\lib\\site-packages (from tensorflow) (2.10.0)\n",
      "Collecting gast==0.3.3\n",
      "  Using cached gast-0.3.3-py2.py3-none-any.whl (9.7 kB)\n",
      "Requirement already satisfied: requests<3,>=2.21.0 in d:\\download\\anaconda3\\lib\\site-packages (from tensorboard~=2.4->tensorflow) (2.24.0)\n",
      "Requirement already satisfied: werkzeug>=0.11.15 in d:\\download\\anaconda3\\lib\\site-packages (from tensorboard~=2.4->tensorflow) (1.0.1)\n",
      "Requirement already satisfied: setuptools>=41.0.0 in d:\\download\\anaconda3\\lib\\site-packages (from tensorboard~=2.4->tensorflow) (50.3.1.post20201107)\n",
      "Collecting google-auth-oauthlib<0.5,>=0.4.1\n",
      "  Downloading google_auth_oauthlib-0.4.4-py2.py3-none-any.whl (18 kB)\n",
      "Collecting markdown>=2.6.8\n",
      "  Downloading Markdown-3.3.4-py3-none-any.whl (97 kB)\n",
      "Collecting tensorboard-plugin-wit>=1.6.0\n",
      "  Downloading tensorboard_plugin_wit-1.8.0-py3-none-any.whl (781 kB)\n",
      "Collecting google-auth<2,>=1.6.3\n",
      "  Downloading google_auth-1.28.1-py2.py3-none-any.whl (136 kB)\n",
      "Requirement already satisfied: idna<3,>=2.5 in d:\\download\\anaconda3\\lib\\site-packages (from requests<3,>=2.21.0->tensorboard~=2.4->tensorflow) (2.10)\n",
      "Requirement already satisfied: urllib3!=1.25.0,!=1.25.1,<1.26,>=1.21.1 in d:\\download\\anaconda3\\lib\\site-packages (from requests<3,>=2.21.0->tensorboard~=2.4->tensorflow) (1.25.11)\n",
      "Requirement already satisfied: certifi>=2017.4.17 in d:\\download\\anaconda3\\lib\\site-packages (from requests<3,>=2.21.0->tensorboard~=2.4->tensorflow) (2020.6.20)\n",
      "Requirement already satisfied: chardet<4,>=3.0.2 in d:\\download\\anaconda3\\lib\\site-packages (from requests<3,>=2.21.0->tensorboard~=2.4->tensorflow) (3.0.4)\n",
      "Collecting requests-oauthlib>=0.7.0\n",
      "  Using cached requests_oauthlib-1.3.0-py2.py3-none-any.whl (23 kB)\n",
      "Collecting rsa<5,>=3.1.4; python_version >= \"3.6\"\n",
      "  Downloading rsa-4.7.2-py3-none-any.whl (34 kB)\n",
      "Collecting pyasn1-modules>=0.2.1\n",
      "  Using cached pyasn1_modules-0.2.8-py2.py3-none-any.whl (155 kB)\n",
      "Requirement already satisfied: cachetools<5.0,>=2.0.0 in d:\\download\\anaconda3\\lib\\site-packages (from google-auth<2,>=1.6.3->tensorboard~=2.4->tensorflow) (4.2.1)\n",
      "Collecting oauthlib>=3.0.0\n",
      "  Using cached oauthlib-3.1.0-py2.py3-none-any.whl (147 kB)\n",
      "Collecting pyasn1>=0.1.3\n",
      "  Using cached pyasn1-0.4.8-py2.py3-none-any.whl (77 kB)\n",
      "Building wheels for collected packages: wrapt, termcolor\n",
      "  Building wheel for wrapt (setup.py): started\n",
      "  Building wheel for wrapt (setup.py): finished with status 'done'\n",
      "  Created wheel for wrapt: filename=wrapt-1.12.1-py3-none-any.whl size=19558 sha256=5842a1fcfe4134951fa4b9adf0cfd1557b1116501bc3319ea4048863c32c69cb\n",
      "  Stored in directory: c:\\users\\visha\\appdata\\local\\pip\\cache\\wheels\\5f\\fd\\9e\\b6cf5890494cb8ef0b5eaff72e5d55a70fb56316007d6dfe73\n",
      "  Building wheel for termcolor (setup.py): started\n",
      "  Building wheel for termcolor (setup.py): finished with status 'done'\n",
      "  Created wheel for termcolor: filename=termcolor-1.1.0-py3-none-any.whl size=4835 sha256=015a1de773d2179b569a97f2af0ac0b95948a8c6b74ca7210b7146a0c247d7dd\n",
      "  Stored in directory: c:\\users\\visha\\appdata\\local\\pip\\cache\\wheels\\a0\\16\\9c\\5473df82468f958445479c59e784896fa24f4a5fc024b0f501\n",
      "Successfully built wrapt termcolor\n",
      "Installing collected packages: absl-py, astunparse, wrapt, keras-preprocessing, oauthlib, requests-oauthlib, pyasn1, rsa, pyasn1-modules, google-auth, google-auth-oauthlib, markdown, grpcio, tensorboard-plugin-wit, tensorboard, opt-einsum, google-pasta, tensorflow-estimator, termcolor, flatbuffers, gast, tensorflow\n",
      "  Attempting uninstall: wrapt\n",
      "    Found existing installation: wrapt 1.11.2\n",
      "    Uninstalling wrapt-1.11.2:\n",
      "      Successfully uninstalled wrapt-1.11.2\n",
      "Successfully installed absl-py-0.12.0 astunparse-1.6.3 flatbuffers-1.12 gast-0.3.3 google-auth-1.28.1 google-auth-oauthlib-0.4.4 google-pasta-0.2.0 grpcio-1.32.0 keras-preprocessing-1.1.2 markdown-3.3.4 oauthlib-3.1.0 opt-einsum-3.3.0 pyasn1-0.4.8 pyasn1-modules-0.2.8 requests-oauthlib-1.3.0 rsa-4.7.2 tensorboard-2.4.1 tensorboard-plugin-wit-1.8.0 tensorflow-2.4.1 tensorflow-estimator-2.4.0 termcolor-1.1.0 wrapt-1.12.1\n"
     ]
    }
   ],
   "source": [
    "!pip install tensorflow"
   ]
  },
  {
   "cell_type": "code",
   "execution_count": 138,
   "metadata": {
    "scrolled": true
   },
   "outputs": [],
   "source": [
    "import tensorflow as tf"
   ]
  },
  {
   "cell_type": "code",
   "execution_count": 149,
   "metadata": {},
   "outputs": [],
   "source": [
    "ann = tf.keras.models.Sequential()"
   ]
  },
  {
   "cell_type": "code",
   "execution_count": 150,
   "metadata": {},
   "outputs": [
    {
     "data": {
      "text/plain": [
       "(40116, 56)"
      ]
     },
     "execution_count": 150,
     "metadata": {},
     "output_type": "execute_result"
    }
   ],
   "source": [
    "X.shape"
   ]
  },
  {
   "cell_type": "code",
   "execution_count": 151,
   "metadata": {},
   "outputs": [],
   "source": [
    "ann.add(tf.keras.layers.Dense(units=60, activation='relu'))"
   ]
  },
  {
   "cell_type": "code",
   "execution_count": 152,
   "metadata": {},
   "outputs": [],
   "source": [
    "ann.add(tf.keras.layers.Dense(units=60, activation='relu'))"
   ]
  },
  {
   "cell_type": "code",
   "execution_count": 153,
   "metadata": {},
   "outputs": [],
   "source": [
    "ann.add(tf.keras.layers.Dense(units=1))"
   ]
  },
  {
   "cell_type": "code",
   "execution_count": 154,
   "metadata": {},
   "outputs": [],
   "source": [
    "ann.compile(optimizer = 'adam', loss = 'mean_squared_error')"
   ]
  },
  {
   "cell_type": "code",
   "execution_count": 155,
   "metadata": {},
   "outputs": [
    {
     "name": "stdout",
     "output_type": "stream",
     "text": [
      "Epoch 1/100\n",
      "878/878 [==============================] - 1s 684us/step - loss: 134.1277\n",
      "Epoch 2/100\n",
      "878/878 [==============================] - 1s 797us/step - loss: 66.1418\n",
      "Epoch 3/100\n",
      "878/878 [==============================] - 1s 636us/step - loss: 19.0175\n",
      "Epoch 4/100\n",
      "878/878 [==============================] - 1s 634us/step - loss: 3.0462\n",
      "Epoch 5/100\n",
      "878/878 [==============================] - 1s 640us/step - loss: 14.2743\n",
      "Epoch 6/100\n",
      "878/878 [==============================] - 1s 656us/step - loss: 0.7710\n",
      "Epoch 7/100\n",
      "878/878 [==============================] - 1s 742us/step - loss: 5.9075\n",
      "Epoch 8/100\n",
      "878/878 [==============================] - 1s 784us/step - loss: 13.3037\n",
      "Epoch 9/100\n",
      "878/878 [==============================] - 1s 649us/step - loss: 0.8516\n",
      "Epoch 10/100\n",
      "878/878 [==============================] - 1s 649us/step - loss: 5.2573\n",
      "Epoch 11/100\n",
      "878/878 [==============================] - 1s 822us/step - loss: 0.8376\n",
      "Epoch 12/100\n",
      "878/878 [==============================] - 1s 647us/step - loss: 0.2752\n",
      "Epoch 13/100\n",
      "878/878 [==============================] - 1s 652us/step - loss: 0.2843\n",
      "Epoch 14/100\n",
      "878/878 [==============================] - 1s 658us/step - loss: 2.6603\n",
      "Epoch 15/100\n",
      "878/878 [==============================] - 1s 658us/step - loss: 0.3625\n",
      "Epoch 16/100\n",
      "878/878 [==============================] - 1s 741us/step - loss: 0.2626\n",
      "Epoch 17/100\n",
      "878/878 [==============================] - 1s 678us/step - loss: 6.8305\n",
      "Epoch 18/100\n",
      "878/878 [==============================] - 1s 744us/step - loss: 0.1699\n",
      "Epoch 19/100\n",
      "878/878 [==============================] - 1s 707us/step - loss: 0.1269\n",
      "Epoch 20/100\n",
      "878/878 [==============================] - 1s 908us/step - loss: 0.1694\n",
      "Epoch 21/100\n",
      "878/878 [==============================] - 1s 685us/step - loss: 0.5457\n",
      "Epoch 22/100\n",
      "878/878 [==============================] - 1s 662us/step - loss: 0.1061\n",
      "Epoch 23/100\n",
      "878/878 [==============================] - 1s 666us/step - loss: 0.5461\n",
      "Epoch 24/100\n",
      "878/878 [==============================] - 1s 692us/step - loss: 0.0975\n",
      "Epoch 25/100\n",
      "878/878 [==============================] - 1s 736us/step - loss: 0.0982\n",
      "Epoch 26/100\n",
      "878/878 [==============================] - 1s 675us/step - loss: 0.0948\n",
      "Epoch 27/100\n",
      "878/878 [==============================] - 1s 671us/step - loss: 0.0965\n",
      "Epoch 28/100\n",
      "878/878 [==============================] - 1s 678us/step - loss: 0.1110\n",
      "Epoch 29/100\n",
      "878/878 [==============================] - 1s 834us/step - loss: 0.0986\n",
      "Epoch 30/100\n",
      "878/878 [==============================] - 1s 674us/step - loss: 0.1117\n",
      "Epoch 31/100\n",
      "878/878 [==============================] - 1s 736us/step - loss: 0.0948\n",
      "Epoch 32/100\n",
      "878/878 [==============================] - 1s 660us/step - loss: 0.0939\n",
      "Epoch 33/100\n",
      "878/878 [==============================] - 1s 876us/step - loss: 0.0936\n",
      "Epoch 34/100\n",
      "878/878 [==============================] - 1s 737us/step - loss: 0.0941\n",
      "Epoch 35/100\n",
      "878/878 [==============================] - 1s 668us/step - loss: 0.0940\n",
      "Epoch 36/100\n",
      "878/878 [==============================] - 1s 680us/step - loss: 0.0921\n",
      "Epoch 37/100\n",
      "878/878 [==============================] - 1s 776us/step - loss: 0.0920\n",
      "Epoch 38/100\n",
      "878/878 [==============================] - 1s 717us/step - loss: 0.0899\n",
      "Epoch 39/100\n",
      "878/878 [==============================] - 1s 664us/step - loss: 0.0930\n",
      "Epoch 40/100\n",
      "878/878 [==============================] - 1s 685us/step - loss: 0.0914\n",
      "Epoch 41/100\n",
      "878/878 [==============================] - 1s 676us/step - loss: 0.0911\n",
      "Epoch 42/100\n",
      "878/878 [==============================] - 1s 845us/step - loss: 0.0897\n",
      "Epoch 43/100\n",
      "878/878 [==============================] - 1s 688us/step - loss: 0.0918\n",
      "Epoch 44/100\n",
      "878/878 [==============================] - 1s 700us/step - loss: 0.0908\n",
      "Epoch 45/100\n",
      "878/878 [==============================] - 1s 737us/step - loss: 0.0888\n",
      "Epoch 46/100\n",
      "878/878 [==============================] - 1s 840us/step - loss: 0.0887\n",
      "Epoch 47/100\n",
      "878/878 [==============================] - 1s 681us/step - loss: 0.0905\n",
      "Epoch 48/100\n",
      "878/878 [==============================] - 1s 664us/step - loss: 0.0880\n",
      "Epoch 49/100\n",
      "878/878 [==============================] - 1s 686us/step - loss: 0.0898\n",
      "Epoch 50/100\n",
      "878/878 [==============================] - 1s 790us/step - loss: 0.0877\n",
      "Epoch 51/100\n",
      "878/878 [==============================] - 1s 724us/step - loss: 0.0911\n",
      "Epoch 52/100\n",
      "878/878 [==============================] - 1s 694us/step - loss: 0.0901\n",
      "Epoch 53/100\n",
      "878/878 [==============================] - 1s 685us/step - loss: 0.0889\n",
      "Epoch 54/100\n",
      "878/878 [==============================] - 1s 663us/step - loss: 0.0889\n",
      "Epoch 55/100\n",
      "878/878 [==============================] - 1s 850us/step - loss: 0.0886\n",
      "Epoch 56/100\n",
      "878/878 [==============================] - 1s 703us/step - loss: 0.0883\n",
      "Epoch 57/100\n",
      "878/878 [==============================] - 1s 693us/step - loss: 0.0883\n",
      "Epoch 58/100\n",
      "878/878 [==============================] - 1s 781us/step - loss: 0.0903\n",
      "Epoch 59/100\n",
      "878/878 [==============================] - 1s 929us/step - loss: 0.0856\n",
      "Epoch 60/100\n",
      "878/878 [==============================] - 1s 762us/step - loss: 0.0903\n",
      "Epoch 61/100\n",
      "878/878 [==============================] - 1s 774us/step - loss: 0.0882\n",
      "Epoch 62/100\n",
      "878/878 [==============================] - 1s 635us/step - loss: 0.0866\n",
      "Epoch 63/100\n",
      "878/878 [==============================] - 1s 832us/step - loss: 0.0886\n",
      "Epoch 64/100\n",
      "878/878 [==============================] - 1s 637us/step - loss: 0.0893\n",
      "Epoch 65/100\n",
      "878/878 [==============================] - 1s 612us/step - loss: 0.0885\n",
      "Epoch 66/100\n",
      "878/878 [==============================] - 1s 625us/step - loss: 0.0875\n",
      "Epoch 67/100\n",
      "878/878 [==============================] - 1s 688us/step - loss: 0.0895\n",
      "Epoch 68/100\n",
      "878/878 [==============================] - 1s 824us/step - loss: 0.0897\n",
      "Epoch 69/100\n",
      "878/878 [==============================] - 1s 733us/step - loss: 0.0888\n",
      "Epoch 70/100\n",
      "878/878 [==============================] - 1s 646us/step - loss: 0.0892\n",
      "Epoch 71/100\n",
      "878/878 [==============================] - 1s 655us/step - loss: 0.0868\n",
      "Epoch 72/100\n",
      "878/878 [==============================] - 1s 885us/step - loss: 0.0873\n",
      "Epoch 73/100\n",
      "878/878 [==============================] - 1s 647us/step - loss: 0.0894\n",
      "Epoch 74/100\n",
      "878/878 [==============================] - 1s 693us/step - loss: 0.0891\n",
      "Epoch 75/100\n",
      "878/878 [==============================] - 1s 703us/step - loss: 0.0883\n",
      "Epoch 76/100\n",
      "878/878 [==============================] - 1s 699us/step - loss: 0.0871\n",
      "Epoch 77/100\n",
      "878/878 [==============================] - 1s 637us/step - loss: 0.0875\n",
      "Epoch 78/100\n",
      "878/878 [==============================] - 1s 667us/step - loss: 0.0877\n",
      "Epoch 79/100\n",
      "878/878 [==============================] - 1s 632us/step - loss: 0.0855\n",
      "Epoch 80/100\n",
      "878/878 [==============================] - 1s 631us/step - loss: 0.0874\n",
      "Epoch 81/100\n",
      "878/878 [==============================] - 1s 783us/step - loss: 0.0876\n",
      "Epoch 82/100\n",
      "878/878 [==============================] - 1s 656us/step - loss: 0.0885\n",
      "Epoch 83/100\n",
      "878/878 [==============================] - 1s 619us/step - loss: 0.0892\n",
      "Epoch 84/100\n",
      "878/878 [==============================] - 1s 638us/step - loss: 0.0861\n",
      "Epoch 85/100\n",
      "878/878 [==============================] - 1s 765us/step - loss: 0.0890\n",
      "Epoch 86/100\n",
      "878/878 [==============================] - 1s 651us/step - loss: 0.0884\n",
      "Epoch 87/100\n",
      "878/878 [==============================] - 1s 737us/step - loss: 0.0874\n",
      "Epoch 88/100\n",
      "878/878 [==============================] - 1s 718us/step - loss: 0.0866\n",
      "Epoch 89/100\n",
      "878/878 [==============================] - 1s 696us/step - loss: 0.0896\n",
      "Epoch 90/100\n",
      "878/878 [==============================] - 1s 883us/step - loss: 0.0873\n",
      "Epoch 91/100\n",
      "878/878 [==============================] - 1s 725us/step - loss: 0.0874\n",
      "Epoch 92/100\n",
      "878/878 [==============================] - 1s 713us/step - loss: 0.0883\n",
      "Epoch 93/100\n",
      "878/878 [==============================] - 1s 724us/step - loss: 0.0857\n",
      "Epoch 94/100\n",
      "878/878 [==============================] - 1s 852us/step - loss: 0.0850\n",
      "Epoch 95/100\n",
      "878/878 [==============================] - 1s 703us/step - loss: 0.0881\n",
      "Epoch 96/100\n",
      "878/878 [==============================] - 1s 768us/step - loss: 0.0859\n",
      "Epoch 97/100\n"
     ]
    },
    {
     "name": "stdout",
     "output_type": "stream",
     "text": [
      "878/878 [==============================] - 1s 773us/step - loss: 0.0883\n",
      "Epoch 98/100\n",
      "878/878 [==============================] - 1s 803us/step - loss: 0.0859\n",
      "Epoch 99/100\n",
      "878/878 [==============================] - 1s 668us/step - loss: 0.0869\n",
      "Epoch 100/100\n",
      "878/878 [==============================] - 1s 665us/step - loss: 0.0873\n"
     ]
    },
    {
     "data": {
      "text/plain": [
       "<tensorflow.python.keras.callbacks.History at 0x144c8ecd5b0>"
      ]
     },
     "execution_count": 155,
     "metadata": {},
     "output_type": "execute_result"
    }
   ],
   "source": [
    "ann.fit(X_train, y_train, batch_size = 32, epochs = 100)"
   ]
  },
  {
   "cell_type": "code",
   "execution_count": 156,
   "metadata": {},
   "outputs": [
    {
     "data": {
      "text/plain": [
       "0.5451878349356138"
      ]
     },
     "execution_count": 156,
     "metadata": {},
     "output_type": "execute_result"
    }
   ],
   "source": [
    "y_pred = ann.predict(X_test)\n",
    "r2_score(y_test,y_pred)"
   ]
  },
  {
   "cell_type": "code",
   "execution_count": null,
   "metadata": {},
   "outputs": [],
   "source": []
  }
 ],
 "metadata": {
  "kernelspec": {
   "display_name": "Python 3",
   "language": "python",
   "name": "python3"
  },
  "language_info": {
   "codemirror_mode": {
    "name": "ipython",
    "version": 3
   },
   "file_extension": ".py",
   "mimetype": "text/x-python",
   "name": "python",
   "nbconvert_exporter": "python",
   "pygments_lexer": "ipython3",
   "version": "3.8.5"
  }
 },
 "nbformat": 4,
 "nbformat_minor": 4
}
